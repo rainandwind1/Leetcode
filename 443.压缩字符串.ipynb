{
 "cells": [
  {
   "cell_type": "code",
   "execution_count": 13,
   "metadata": {},
   "outputs": [
    {
     "name": "stdout",
     "output_type": "stream",
     "text": [
      "{'c', 'b', 'a'} ['a', 'a', 'b', 'b', 'c', 'c', 'c'] [3, 2, 2]\n",
      "6\n",
      "{'a'} ['a'] [1]\n",
      "1\n",
      "{'b', 'a'} ['a', 'b', 'b', 'b', 'b', 'b', 'b', 'b', 'b', 'b', 'b', 'b', 'b'] [12, 1]\n",
      "4\n"
     ]
    }
   ],
   "source": [
    "# 给定一组字符，使用原地算法将其压缩。\n",
    "\n",
    "# 压缩后的长度必须始终小于或等于原数组长度。\n",
    "\n",
    "# 数组的每个元素应该是长度为1 的字符（不是 int 整数类型）。\n",
    "\n",
    "# 在完成原地修改输入数组后，返回数组的新长度。\n",
    "\n",
    "# 使用o(1)空间解决问题\n",
    "\n",
    "# 要求\n",
    "# 所有字符都有一个ASCII值在[35, 126]区间内。\n",
    "# 1 <= len(chars) <= 1000\n",
    "\n",
    "class Solution(object):\n",
    "    def compress(self, chars):\n",
    "        \"\"\"\n",
    "        :type chars: List[str]\n",
    "        :rtype: int\n",
    "        \"\"\"\n",
    "        set_c = set(chars)\n",
    "        target_list = list(chars)\n",
    "        num_list = []\n",
    "        for i in set_c:\n",
    "            num_list.append(target_list.count(i))\n",
    "        output_len = 0\n",
    "        #print(set_c,target_list,num_list)\n",
    "        for i in num_list:\n",
    "            output_len += len(str(i)) if i != 1 else 0\n",
    "        return output_len+len(set_c)\n",
    "            \n",
    "        \n",
    "        \n",
    "\n",
    "        \n",
    "A = Solution()\n",
    "print(A.compress([\"a\",\"a\",\"b\",\"b\",\"c\",\"c\",\"c\"]))\n",
    "print(A.compress([\"a\"]))\n",
    "print(A.compress([\"a\",\"b\",\"b\",\"b\",\"b\",\"b\",\"b\",\"b\",\"b\",\"b\",\"b\",\"b\",\"b\"]))\n"
   ]
  },
  {
   "cell_type": "code",
   "execution_count": 4,
   "metadata": {},
   "outputs": [
    {
     "name": "stdout",
     "output_type": "stream",
     "text": [
      "3\n"
     ]
    }
   ],
   "source": [
    "c = 123\n",
    "print(len(str(c)))"
   ]
  },
  {
   "cell_type": "code",
   "execution_count": 19,
   "metadata": {},
   "outputs": [
    {
     "name": "stdout",
     "output_type": "stream",
     "text": [
      "{'c', 'b', 'a'} ['a', 'a', 'b', 'b', 'c', 'c', 'c'] [3, 2, 2]\n",
      "None\n",
      "{'a'} ['a'] [1]\n",
      "None\n",
      "{'b', 'a'} ['a', 'b', 'b', 'b', 'b', 'b', 'b', 'b', 'b', 'b', 'b', 'b', 'b'] [12, 1]\n",
      "None\n"
     ]
    }
   ],
   "source": [
    "class Solution(object):\n",
    "    def compress(self, chars):\n",
    "        \"\"\"\n",
    "        :type chars: List[str]\n",
    "        :rtype: int\n",
    "        \"\"\"\n",
    "        set_c = set(chars)\n",
    "        target_list = list(chars)\n",
    "        num_list = []\n",
    "        output_list = []\n",
    "        for i in set_c:\n",
    "            num_list.append(target_list.count(i))\n",
    "        output_len = 0\n",
    "        print(set_c,target_list,num_list)\n",
    "#         for index,i in enumerate(set_c):\n",
    "#             output_list.append(i)\n",
    "#             if num_list[index] != 1:\n",
    "#                 for j in str(num_list[index]):\n",
    "#                     output_list.append(j)\n",
    "#         return output_list\n",
    "        \n",
    "        \n",
    "        \n",
    "\n",
    "        \n",
    "A = Solution()\n",
    "print(A.compress([\"a\",\"a\",\"b\",\"b\",\"c\",\"c\",\"c\"]))\n",
    "print(A.compress([\"a\"]))\n",
    "print(A.compress([\"a\",\"b\",\"b\",\"b\",\"b\",\"b\",\"b\",\"b\",\"b\",\"b\",\"b\",\"b\",\"b\"]))\n"
   ]
  },
  {
   "cell_type": "code",
   "execution_count": 35,
   "metadata": {},
   "outputs": [
    {
     "name": "stdout",
     "output_type": "stream",
     "text": [
      "['a', 'a', 'b', 'b', 'c', 'c', 'c']\n",
      "True\n",
      "['a']\n",
      "['a']\n",
      "['a', 'b', 'b', 'b', 'b', 'b', 'b', 'b', 'b', 'b', 'b', 'b', 'b']\n",
      "['a', 'b', '1', '2']\n"
     ]
    }
   ],
   "source": [
    "# n指针做最好\n",
    "class Solution(object):\n",
    "    def compress(self, chars):\n",
    "        \"\"\"\n",
    "        :type chars: List[str]\n",
    "        :rtype: int\n",
    "        \"\"\"\n",
    "        print(chars)\n",
    "        index_now,chars_num = 0,1\n",
    "        while True:\n",
    "            n = chars.count(chars[index_now])\n",
    "            chars[index_now + 1:index_now + n] = \"\"\n",
    "            if n!= 1:\n",
    "                num_char = list(str(n))\n",
    "                for i,c in enumerate(num_char):\n",
    "                    chars.insert(index_now+i+1,c)\n",
    "                index_now += len(num_char)\n",
    "            index_now += 1\n",
    "            if index_now >= len(chars):\n",
    "                return chars\n",
    "            \n",
    "        \n",
    "\n",
    "        \n",
    "A = Solution()\n",
    "print(A.compress([\"a\",\"a\",\"b\",\"b\",\"c\",\"c\",\"c\"]) == [\"a\",\"2\",\"b\",\"2\",\"c\",\"3\"])\n",
    "print(A.compress([\"a\"]))\n",
    "print(A.compress([\"a\",\"b\",\"b\",\"b\",\"b\",\"b\",\"b\",\"b\",\"b\",\"b\",\"b\",\"b\",\"b\"]))\n"
   ]
  },
  {
   "cell_type": "code",
   "execution_count": 30,
   "metadata": {},
   "outputs": [
    {
     "name": "stdout",
     "output_type": "stream",
     "text": [
      "[0, '3', 3, 4, 5]\n"
     ]
    }
   ],
   "source": [
    "a = [0,0,0,3,4,5]\n",
    "a[1:3] = \"\"\n",
    "a.insert(1,\"3\")\n",
    "print(a)"
   ]
  },
  {
   "cell_type": "code",
   "execution_count": null,
   "metadata": {},
   "outputs": [],
   "source": []
  }
 ],
 "metadata": {
  "kernelspec": {
   "display_name": "Python 3",
   "language": "python",
   "name": "python3"
  },
  "language_info": {
   "codemirror_mode": {
    "name": "ipython",
    "version": 3
   },
   "file_extension": ".py",
   "mimetype": "text/x-python",
   "name": "python",
   "nbconvert_exporter": "python",
   "pygments_lexer": "ipython3",
   "version": "3.7.4"
  }
 },
 "nbformat": 4,
 "nbformat_minor": 2
}
