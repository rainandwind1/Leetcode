{
 "cells": [
  {
   "cell_type": "code",
   "execution_count": 18,
   "metadata": {},
   "outputs": [
    {
     "name": "stdout",
     "output_type": "stream",
     "text": [
      "2\n",
      "1\n",
      "4\n",
      "5\n",
      "3\n"
     ]
    }
   ],
   "source": [
    "class DSU:\n",
    "    def __init__(self,N):\n",
    "        self.p = [i for i in range(N)]\n",
    "        \n",
    "    def find(self,x):\n",
    "        if self.p[x] != x:\n",
    "            self.p[x] = self.find(self.p[x])\n",
    "        return self.p[x]\n",
    "    \n",
    "    def union(self,x,y):\n",
    "        xr = self.find(x)\n",
    "        yr = self.find(y)\n",
    "        self.p[xr] = yr\n",
    "        \n",
    "class Solution(object):\n",
    "    def regionsBySlashes(self, grid):\n",
    "        \"\"\"\n",
    "        :type grid: List[str]\n",
    "        :rtype: int\n",
    "        \"\"\"\n",
    "        N = len(grid)\n",
    "        dsu = DSU(4*N*N)\n",
    "        for r,row in enumerate(grid):\n",
    "            for c,val in enumerate(row):\n",
    "                root =  4*(r*N+c)\n",
    "                if val in '/':\n",
    "                    dsu.union(root + 0,root + 1)\n",
    "                    dsu.union(root + 2,root + 3)\n",
    "                if val in '\\\\':\n",
    "                    dsu.union(root + 0,root + 2)\n",
    "                    dsu.union(root + 1,root + 3)\n",
    "                    \n",
    "                if val in ' ':\n",
    "                    dsu.union(root + 0,root + 1)\n",
    "                    dsu.union(root + 2,root + 3)\n",
    "                    dsu.union(root + 0,root + 2)\n",
    "                    dsu.union(root + 1,root + 3)\n",
    "                \n",
    "                # north/south:\n",
    "                if r+1 < N: dsu.union(root+3,(root+4*N) + 0)\n",
    "                if r-1 >= 0: dsu.union(root+0,(root-4*N)+ 3)\n",
    "                    \n",
    "                # east/west:\n",
    "                if c+1 < N: dsu.union(root+2,root+4+1)\n",
    "                if c-1 >=0: dsu.union(root+1,root-4+2)\n",
    "        \n",
    "        return sum(dsu.find(x) == x for x in range(4*N*N)) \n",
    "        \n",
    "A = Solution()\n",
    "print(A.regionsBySlashes([\n",
    "  \" /\",\n",
    "  \"/ \"\n",
    "]))\n",
    "print(A.regionsBySlashes([\n",
    "  \" /\",\n",
    "  \"  \"\n",
    "]))\n",
    "print(A.regionsBySlashes([\n",
    "  \"\\\\/\",\n",
    "  \"/\\\\\"\n",
    "]))\n",
    "print(A.regionsBySlashes([\n",
    "  \"/\\\\\",\n",
    "  \"\\\\/\"\n",
    "]))\n",
    "print(A.regionsBySlashes([\n",
    "  \"//\",\n",
    "  \"/ \"\n",
    "]))"
   ]
  },
  {
   "cell_type": "code",
   "execution_count": 7,
   "metadata": {},
   "outputs": [
    {
     "name": "stdout",
     "output_type": "stream",
     "text": [
      "range(0, 3)\n"
     ]
    }
   ],
   "source": [
    "print(range(3))"
   ]
  },
  {
   "cell_type": "code",
   "execution_count": 8,
   "metadata": {},
   "outputs": [
    {
     "data": {
      "text/plain": [
       "range(0, 3)"
      ]
     },
     "execution_count": 8,
     "metadata": {},
     "output_type": "execute_result"
    }
   ],
   "source": [
    "range(3)"
   ]
  },
  {
   "cell_type": "code",
   "execution_count": 17,
   "metadata": {},
   "outputs": [
    {
     "name": "stdout",
     "output_type": "stream",
     "text": [
      "2\n",
      "1\n",
      "4\n",
      "5\n",
      "3\n"
     ]
    }
   ],
   "source": [
    "class Solution:\n",
    "    def regionsBySlashes(self, grid):\n",
    "        n = len(grid)\n",
    "        # nums = list(range(4 * n * n))\n",
    "        # matrix = [nums[i:i + 4] for i in range(len(nums)) if not i % 4]\n",
    "        # print(matrix)  每个位置 分为 0到3 的4块, 打印出来方便查看.\n",
    "        p = list(range(4 * n * n))\n",
    "\n",
    "        def get_root(x):\n",
    "            while p[x] != p[p[x]]:\n",
    "                p[x] = get_root(p[x])\n",
    "            return p[x]\n",
    "\n",
    "        def union(x, y):\n",
    "            x_root = get_root(x)\n",
    "            y_root = get_root(y)\n",
    "            p[x_root] = y_root\n",
    "\n",
    "        def u():\n",
    "            for r in range(n):\n",
    "                for c in range(n):\n",
    "                    pos = 4 * (r * n + c)\n",
    "                    if grid[r][c] not in \"\\\\\":  # not in  则如果为\" \" 也联通了一次\n",
    "                        union(pos + 0, pos + 3)\n",
    "                        union(pos + 1, pos + 2)\n",
    "                    if grid[r][c] not in \"/\":\n",
    "                        union(pos + 0, pos + 1)\n",
    "                        union(pos + 2, pos + 3)\n",
    "                    if r + 1 < n:  # 该点2位置 与 下面的0位置 并  下面点的new_pos = 4*((r+1)*n+c)  \n",
    "                        union(pos + 2, pos + 4 * n + 0)\n",
    "                    if r - 1 >= 0:  # 该点0位置 与 上面的2位置 并\n",
    "                        union(pos + 0, pos - 4 * n + 2)\n",
    "                    if c + 1 < n:  # 该点1位置 与 右边的3位置 并  右边点new_pos = 4 * (r*n+ (c+1)) = pos + 4 + 3 = pos + 7\n",
    "                        union(pos + 1, pos + 7)\n",
    "                    if c - 1 >= 0:  # 该点3位置 与 左边的1位置 并  左边点new_pos = 4 * (r*n+ (c-1)) = pos - 4 + 1 = pos - 3\n",
    "                        union(pos + 3, pos - 3)\n",
    "\n",
    "        u()\n",
    "        u()\n",
    "        return sum(p[x] == x for x in range(4 * n * n))  # 返回联通快的个数\n",
    "A = Solution()\n",
    "print(A.regionsBySlashes([\n",
    "  \" /\",\n",
    "  \"/ \"\n",
    "]))\n",
    "print(A.regionsBySlashes([\n",
    "  \" /\",\n",
    "  \"  \"\n",
    "]))\n",
    "print(A.regionsBySlashes([\n",
    "  \"\\\\/\",\n",
    "  \"/\\\\\"\n",
    "]))\n",
    "print(A.regionsBySlashes([\n",
    "  \"/\\\\\",\n",
    "  \"\\\\/\"\n",
    "]))\n",
    "print(A.regionsBySlashes([\n",
    "  \"//\",\n",
    "  \"/ \"\n",
    "]))"
   ]
  },
  {
   "cell_type": "code",
   "execution_count": null,
   "metadata": {},
   "outputs": [],
   "source": []
  }
 ],
 "metadata": {
  "kernelspec": {
   "display_name": "Python 3",
   "language": "python",
   "name": "python3"
  },
  "language_info": {
   "codemirror_mode": {
    "name": "ipython",
    "version": 3
   },
   "file_extension": ".py",
   "mimetype": "text/x-python",
   "name": "python",
   "nbconvert_exporter": "python",
   "pygments_lexer": "ipython3",
   "version": "3.7.4"
  }
 },
 "nbformat": 4,
 "nbformat_minor": 2
}
