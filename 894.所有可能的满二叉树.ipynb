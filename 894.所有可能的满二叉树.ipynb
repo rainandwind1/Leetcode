{
 "cells": [
  {
   "cell_type": "code",
   "execution_count": null,
   "metadata": {},
   "outputs": [],
   "source": [
    "class Solution(object):\n",
    "    memo = {0: [], 1: [TreeNode(0)]}\n",
    "    def allPossibleFBT(self, N):\n",
    "        if N not in Solution.memo:\n",
    "            ans = []\n",
    "            for x in range(N):\n",
    "                y = N - 1 - x\n",
    "                for left in self.allPossibleFBT(x):\n",
    "                    for right in self.allPossibleFBT(y):\n",
    "                        bns = TreeNode(0)\n",
    "                        bns.left = left\n",
    "                        bns.right = right\n",
    "                        ans.append(bns)\n",
    "                Solution.memo[N] = ans\n",
    "        return Solution.memo[N]"
   ]
  }
 ],
 "metadata": {
  "kernelspec": {
   "display_name": "Python 3",
   "language": "python",
   "name": "python3"
  },
  "language_info": {
   "codemirror_mode": {
    "name": "ipython",
    "version": 3
   },
   "file_extension": ".py",
   "mimetype": "text/x-python",
   "name": "python",
   "nbconvert_exporter": "python",
   "pygments_lexer": "ipython3",
   "version": "3.7.4"
  }
 },
 "nbformat": 4,
 "nbformat_minor": 2
}
