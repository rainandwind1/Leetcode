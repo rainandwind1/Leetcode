{
 "cells": [
  {
   "cell_type": "code",
   "execution_count": 1,
   "metadata": {},
   "outputs": [
    {
     "name": "stdout",
     "output_type": "stream",
     "text": [
      "False\n",
      "True\n"
     ]
    }
   ],
   "source": [
    "# 核心思想就是动态规划，用一个二维数据dp记录当前情况是从i到j时\n",
    "# 先取分数的人，能比后取分数的人多得多少分。\n",
    "\n",
    "# length=j-i+1从1开始递增：\n",
    "# 1、当长度是1时，先取数的可以多得nums[i]分；\n",
    "# 2、当长度是2时，先取数的人取两个数中较大的数，\n",
    "# 最终比后取数的人多得abs(nums[i] - nums[j])；\n",
    "# 3、当长度大于等于3时，可能先取左边的数，也可能\n",
    "# 先取右边的数，分别可以多得nums[i] - dp[i + 1][j]\n",
    "# 和num[j] - d[i][j - 1]分，取两者中较大的数即可。\n",
    "\n",
    "\n",
    "class Solution(object):\n",
    "    def PredictTheWinner(self, nums):\n",
    "        \"\"\"\n",
    "        :type nums: List[int]\n",
    "        :rtype: bool\n",
    "        \"\"\"\n",
    "        n = len(nums)\n",
    "        if n == 1:\n",
    "            return True\n",
    "        dp = [[0 for i in range(n)] for i in range(n)]\n",
    "        for length in range(1,n+1):\n",
    "            for i in range(0,n - length + 1):\n",
    "                j = i + length - 1\n",
    "                if length == 1:\n",
    "                    dp[i][j] = nums[i]\n",
    "                elif length == 2:\n",
    "                    dp[i][j] = nums[i] - nums[j] if nums[i] >= nums[j] else nums[j] - nums[i]\n",
    "                else:\n",
    "                    dp[i][j] = max(nums[i] - dp[i+1][j],nums[j] - dp[i][j - 1])\n",
    "        if dp[0][n - 1] >= 0:\n",
    "            return True\n",
    "        return False\n",
    "\n",
    "A = Solution()\n",
    "print(A.PredictTheWinner([1, 5, 2]))\n",
    "print(A.PredictTheWinner([1, 5, 233, 7]))"
   ]
  },
  {
   "cell_type": "code",
   "execution_count": null,
   "metadata": {},
   "outputs": [],
   "source": []
  }
 ],
 "metadata": {
  "kernelspec": {
   "display_name": "Python 3",
   "language": "python",
   "name": "python3"
  },
  "language_info": {
   "codemirror_mode": {
    "name": "ipython",
    "version": 3
   },
   "file_extension": ".py",
   "mimetype": "text/x-python",
   "name": "python",
   "nbconvert_exporter": "python",
   "pygments_lexer": "ipython3",
   "version": "3.7.4"
  }
 },
 "nbformat": 4,
 "nbformat_minor": 2
}
