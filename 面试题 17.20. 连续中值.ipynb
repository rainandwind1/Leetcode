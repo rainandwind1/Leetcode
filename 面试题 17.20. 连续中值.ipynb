{
 "cells": [
  {
   "cell_type": "code",
   "execution_count": null,
   "metadata": {},
   "outputs": [],
   "source": [
    "class MedianFinder(object):\n",
    "\n",
    "    def __init__(self):\n",
    "        \"\"\"\n",
    "        initialize your data structure here.\n",
    "        \"\"\"\n",
    "        self.res = []\n",
    "        self.l = 0\n",
    "\n",
    "\n",
    "    def addNum(self, num):\n",
    "        \"\"\"\n",
    "        :type num: int\n",
    "        :rtype: None\n",
    "        \"\"\"\n",
    "        self.res.append(num)\n",
    "        self.l += 1\n",
    "\n",
    "\n",
    "    def findMedian(self):\n",
    "        \"\"\"\n",
    "        :rtype: float\n",
    "        \"\"\"\n",
    "        if self.l == 0:\n",
    "            return 0\n",
    "        self.res.sort()\n",
    "        if self.l % 2 == 0 and self.l != 0:\n",
    "            index = int(self.l / 2)\n",
    "            return (self.res[index] + self.res[index-1]) / 2.0\n",
    "        else:\n",
    "            index = int(self.l / 2)\n",
    "            return self.res[index]\n",
    "        "
   ]
  }
 ],
 "metadata": {
  "kernelspec": {
   "display_name": "Python 3",
   "language": "python",
   "name": "python3"
  },
  "language_info": {
   "codemirror_mode": {
    "name": "ipython",
    "version": 3
   },
   "file_extension": ".py",
   "mimetype": "text/x-python",
   "name": "python",
   "nbconvert_exporter": "python",
   "pygments_lexer": "ipython3",
   "version": "3.7.4"
  }
 },
 "nbformat": 4,
 "nbformat_minor": 2
}
