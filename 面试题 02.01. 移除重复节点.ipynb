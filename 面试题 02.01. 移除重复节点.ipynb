{
 "cells": [
  {
   "cell_type": "code",
   "execution_count": null,
   "metadata": {},
   "outputs": [],
   "source": [
    "class Solution(object):\n",
    "    def removeDuplicateNodes(self, head):\n",
    "        \"\"\"\n",
    "        :type head: ListNode\n",
    "        :rtype: ListNode\n",
    "        \"\"\"\n",
    "        res = {}\n",
    "        pre = ListNode(None)\n",
    "        cur = pre\n",
    "        while head:\n",
    "            if res.get(head.val, 0) == 0:\n",
    "                cur.next = ListNode(head.val)\n",
    "                cur = cur.next\n",
    "                res[head.val] = res.get(head.val, 0) + 1\n",
    "            head = head.next\n",
    "        return pre.next"
   ]
  }
 ],
 "metadata": {
  "kernelspec": {
   "display_name": "Python 3",
   "language": "python",
   "name": "python3"
  },
  "language_info": {
   "codemirror_mode": {
    "name": "ipython",
    "version": 3
   },
   "file_extension": ".py",
   "mimetype": "text/x-python",
   "name": "python",
   "nbconvert_exporter": "python",
   "pygments_lexer": "ipython3",
   "version": "3.7.4"
  }
 },
 "nbformat": 4,
 "nbformat_minor": 2
}
