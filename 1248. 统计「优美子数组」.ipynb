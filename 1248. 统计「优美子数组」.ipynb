{
 "cells": [
  {
   "cell_type": "code",
   "execution_count": 3,
   "metadata": {},
   "outputs": [
    {
     "name": "stdout",
     "output_type": "stream",
     "text": [
      "1\n"
     ]
    }
   ],
   "source": [
    "def combine(m, n):\n",
    "    num1 = 1\n",
    "    num2 = 1\n",
    "    for i in range(m,m-n,-1):\n",
    "        num1 *= i\n",
    "    for i in range(1,n+1):\n",
    "        num2 *= i\n",
    "    return int(num1/num2)\n",
    "\n",
    "print(combine(6,0))"
   ]
  },
  {
   "cell_type": "code",
   "execution_count": null,
   "metadata": {},
   "outputs": [],
   "source": [
    "class Solution(object):\n",
    "    def numberOfSubarrays(self, nums, k):\n",
    "        \"\"\"\n",
    "        :type nums: List[int]\n",
    "        :type k: int\n",
    "        :rtype: int\n",
    "        \"\"\"\n",
    "        res, count, index = 0,0,[-1]\n",
    "        for i in range(len(nums)):\n",
    "            count += nums[i]%2\n",
    "            if count >= len(index):\n",
    "                index.append(i)\n",
    "            if count >= k:\n",
    "                res += index[count - k+1] - index[count-k]\n",
    "        return res\n"
   ]
  }
 ],
 "metadata": {
  "kernelspec": {
   "display_name": "Python 3",
   "language": "python",
   "name": "python3"
  },
  "language_info": {
   "codemirror_mode": {
    "name": "ipython",
    "version": 3
   },
   "file_extension": ".py",
   "mimetype": "text/x-python",
   "name": "python",
   "nbconvert_exporter": "python",
   "pygments_lexer": "ipython3",
   "version": "3.7.4"
  }
 },
 "nbformat": 4,
 "nbformat_minor": 2
}
