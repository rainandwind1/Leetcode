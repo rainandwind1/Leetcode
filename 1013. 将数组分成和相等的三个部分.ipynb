{
 "cells": [
  {
   "cell_type": "code",
   "execution_count": 14,
   "metadata": {},
   "outputs": [
    {
     "name": "stdout",
     "output_type": "stream",
     "text": [
      "0\n",
      "0 1 1\n",
      "0 2 0\n",
      "0 2\n",
      "2 3 1\n",
      "2 4 0\n",
      "2 4\n",
      "False\n"
     ]
    }
   ],
   "source": [
    "class Solution(object):\n",
    "    def canThreePartsEqualSum(self, A):\n",
    "        \"\"\"\n",
    "        :type A: List[int]\n",
    "        :rtype: bool\n",
    "        \"\"\"\n",
    "        s = sum(A)\n",
    "        print(s)\n",
    "        if s % 3 != 0:\n",
    "            return False\n",
    "        index_1 = 0\n",
    "        index_2 = index_1 + 1\n",
    "        count = 0\n",
    "        while index_1 < index_2 <= len(A):\n",
    "            s_ = sum(A[index_1:index_2])\n",
    "            print(index_1, index_2, s_)\n",
    "            if s_ != s / 3:\n",
    "                index_2 += 1\n",
    "            elif s_ == s / 3:\n",
    "                count += 1\n",
    "                if count == 2 and index_2 < len(A):\n",
    "                    return True if sum(A[index_2:]) == s / 3 else False\n",
    "                print(index_1, index_2)\n",
    "                \n",
    "                index_1 = index_2\n",
    "                index_2 = index_1 + 1\n",
    "        if count >= 3:\n",
    "            return True\n",
    "        return False\n",
    "            \n",
    "A = Solution()\n",
    "print(A.canThreePartsEqualSum([1,-1,1,-1]))"
   ]
  },
  {
   "cell_type": "code",
   "execution_count": null,
   "metadata": {},
   "outputs": [],
   "source": []
  },
  {
   "cell_type": "code",
   "execution_count": null,
   "metadata": {},
   "outputs": [],
   "source": []
  }
 ],
 "metadata": {
  "kernelspec": {
   "display_name": "Python 3",
   "language": "python",
   "name": "python3"
  },
  "language_info": {
   "codemirror_mode": {
    "name": "ipython",
    "version": 3
   },
   "file_extension": ".py",
   "mimetype": "text/x-python",
   "name": "python",
   "nbconvert_exporter": "python",
   "pygments_lexer": "ipython3",
   "version": "3.7.4"
  }
 },
 "nbformat": 4,
 "nbformat_minor": 2
}
