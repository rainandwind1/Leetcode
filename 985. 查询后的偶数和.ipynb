{
 "cells": [
  {
   "cell_type": "code",
   "execution_count": null,
   "metadata": {},
   "outputs": [],
   "source": [
    "class Solution(object):\n",
    "    def sumEvenAfterQueries(self, A, queries):\n",
    "        \"\"\"\n",
    "        :type A: List[int]\n",
    "        :type queries: List[List[int]]\n",
    "        :rtype: List[int]\n",
    "        \"\"\"\n",
    "        res = 0\n",
    "        e_index = []\n",
    "        for idx, i in enumerate(A):\n",
    "            if i % 2 == 0:\n",
    "                res += i\n",
    "                e_index.append(idx)\n",
    "        p = []\n",
    "        for que in queries:\n",
    "            val, index = que\n",
    "            if index in e_index:\n",
    "                res -= A[index]\n",
    "            A[index] += val\n",
    "            if A[index] %2 == 0:\n",
    "                if index not in e_index:\n",
    "                    e_index.append(index)\n",
    "                res += A[index]\n",
    "            else:\n",
    "                if index in e_index:\n",
    "                    e_index.remove(index)\n",
    "            p.append(res)\n",
    "        return p"
   ]
  },
  {
   "cell_type": "code",
   "execution_count": null,
   "metadata": {},
   "outputs": [],
   "source": [
    "class Solution(object):\n",
    "    def sumEvenAfterQueries(self, A, queries):\n",
    "        \"\"\"\n",
    "        :type A: List[int]\n",
    "        :type queries: List[List[int]]\n",
    "        :rtype: List[int]\n",
    "        \"\"\"\n",
    "        res = 0\n",
    "        e_index = {}\n",
    "        for idx, i in enumerate(A):\n",
    "            if i % 2 == 0:\n",
    "                res += i\n",
    "                e_index[idx] = 1\n",
    "        p = []\n",
    "\n",
    "        for que in queries:\n",
    "            val, index = que\n",
    "            if e_index.get(index, 0) == 1:\n",
    "                e_index[index] -= 1\n",
    "                res -= A[index]\n",
    "            A[index] += val\n",
    "            if A[index] %2 == 0:\n",
    "                e_index[index] = 1\n",
    "                res += A[index]\n",
    "            else:\n",
    "                if e_index.get(index, 0) == 1:\n",
    "                    e_index[index] -= 1\n",
    "            p.append(res)\n",
    "        return p"
   ]
  }
 ],
 "metadata": {
  "kernelspec": {
   "display_name": "Python 3",
   "language": "python",
   "name": "python3"
  },
  "language_info": {
   "codemirror_mode": {
    "name": "ipython",
    "version": 3
   },
   "file_extension": ".py",
   "mimetype": "text/x-python",
   "name": "python",
   "nbconvert_exporter": "python",
   "pygments_lexer": "ipython3",
   "version": "3.7.4"
  }
 },
 "nbformat": 4,
 "nbformat_minor": 2
}
