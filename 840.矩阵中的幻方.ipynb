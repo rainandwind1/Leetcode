{
 "cells": [
  {
   "cell_type": "code",
   "execution_count": 52,
   "metadata": {},
   "outputs": [
    {
     "name": "stdout",
     "output_type": "stream",
     "text": [
      "[[3, 2, 9], [6, 1, 8], [7, 5, 3]]\n",
      "0 0 0\n",
      "[[2, 9, 2], [1, 8, 4], [5, 3, 2]]\n",
      "0 0 0\n",
      "[[9, 2, 7], [8, 4, 2], [3, 2, 7]]\n",
      "0 0 0\n",
      "[[6, 1, 8], [7, 5, 3], [2, 9, 4]]\n",
      "15 15 15\n",
      "15 15 15\n",
      "[[1, 8, 4], [5, 3, 2], [9, 4, 9]]\n",
      "0 15 0\n",
      "[[8, 4, 2], [3, 2, 7], [4, 9, 6]]\n",
      "0 15 0\n",
      "[[7, 5, 3], [2, 9, 4], [4, 3, 8]]\n",
      "15 0 0\n",
      "[[5, 3, 2], [9, 4, 9], [3, 8, 2]]\n",
      "0 0 0\n",
      "[[3, 2, 7], [4, 9, 6], [8, 2, 5]]\n",
      "0 0 0\n",
      "1\n"
     ]
    }
   ],
   "source": [
    "class Solution(object):\n",
    "    def numMagicSquaresInside(self, grid):\n",
    "        \"\"\"\n",
    "        :type grid: List[List[int]]\n",
    "        :rtype: int\n",
    "        \"\"\"\n",
    "        magic_num = 0\n",
    "        def is_magic(grid_3):\n",
    "            print(grid_3)\n",
    "            row_sum,col_sum,tri_sum = 0,0,0\n",
    "            if sum(grid_3[0]) == sum(grid_3[1]) and sum(grid_3[1]) == sum(grid_3[2]):\n",
    "                row_sum = sum(grid_3[0])\n",
    "            if (grid_3[0][0]+grid_3[1][0]+grid_3[2][0]) == (grid_3[0][1]+grid_3[1][1]+grid_3[2][1]) and (grid_3[0][1]+grid_3[1][1]+grid_3[2][1]) == (grid_3[0][2]+grid_3[1][2]+grid_3[2][2]):\n",
    "                col_sum = grid_3[0][2]+grid_3[1][2]+grid_3[2][2]\n",
    "            if (grid_3[0][0] + grid_3[2][2])==(grid_3[0][2] + grid_3[2][0]):\n",
    "                tri_sum = grid_3[0][2] + grid_3[2][0] + grid_3[1][1]\n",
    "            print(row_sum,col_sum,tri_sum)\n",
    "            if row_sum == col_sum and col_sum == tri_sum and row_sum != 0:\n",
    "                print(row_sum,col_sum,tri_sum)\n",
    "                if len(set(grid_3[0])) +len(set(grid_3[1]))+len(set(grid_3[2])) == 9 and max(grid_3[0]+grid_3[1]+grid_3[2]) == 9:\n",
    "                    return 1\n",
    "                else:\n",
    "                    return 0\n",
    "            return 0\n",
    "        for i in range(len(grid) - 2):\n",
    "            for j in range(len(grid[0]) - 2):\n",
    "                magic_num += is_magic([grid[i][j:j+3],grid[i+1][j:j+3],grid[i+2][j:j+3]])\n",
    "        return magic_num\n",
    "        \n",
    "        \n",
    "        \n",
    "A = Solution()\n",
    "print(A.numMagicSquaresInside([[3,2,9,2,7],[6,1,8,4,2],[7,5,3,2,7],[2,9,4,9,6],[4,3,8,2,5]]))\n",
    "\n",
    "\n",
    "\n",
    "\n",
    "\n",
    "# print(grid[1])\n",
    "# for i in range(len(grid) - 2):\n",
    "#     for j in range(len(grid[0]) - 2):\n",
    "#         print(i,j,grid[i:i+3][j:j+3])"
   ]
  },
  {
   "cell_type": "code",
   "execution_count": null,
   "metadata": {},
   "outputs": [],
   "source": []
  },
  {
   "cell_type": "code",
   "execution_count": null,
   "metadata": {},
   "outputs": [],
   "source": []
  },
  {
   "cell_type": "code",
   "execution_count": null,
   "metadata": {},
   "outputs": [],
   "source": []
  }
 ],
 "metadata": {
  "kernelspec": {
   "display_name": "Python 3",
   "language": "python",
   "name": "python3"
  },
  "language_info": {
   "codemirror_mode": {
    "name": "ipython",
    "version": 3
   },
   "file_extension": ".py",
   "mimetype": "text/x-python",
   "name": "python",
   "nbconvert_exporter": "python",
   "pygments_lexer": "ipython3",
   "version": "3.7.4"
  }
 },
 "nbformat": 4,
 "nbformat_minor": 2
}
