{
 "cells": [
  {
   "cell_type": "code",
   "execution_count": 1,
   "metadata": {},
   "outputs": [
    {
     "name": "stdout",
     "output_type": "stream",
     "text": [
      "1\n",
      "0\n"
     ]
    }
   ],
   "source": [
    "class Solution(object):\n",
    "    def minSwapsCouples(self, row):\n",
    "        \"\"\"\n",
    "        :type row: List[int]\n",
    "        :rtype: int\n",
    "        \"\"\"\n",
    "        n, res = len(row), 0\n",
    "        for i in range(0,n,2):\n",
    "            mate = row[i] ^ 1\n",
    "            if row[i + 1] != mate:\n",
    "                index = i + 2 + row[i+2:].index(mate)\n",
    "                row[i+1], row[index], res = row[index], row[i+1], res + 1\n",
    "        return res\n",
    "        \n",
    "A = Solution()\n",
    "print(A.minSwapsCouples([0, 2, 1, 3]))\n",
    "print(A.minSwapsCouples([3, 2, 0, 1]))"
   ]
  },
  {
   "cell_type": "code",
   "execution_count": null,
   "metadata": {},
   "outputs": [],
   "source": [
    "    def minSwapsCouples(self, row: List[int]) -> int:\n",
    "        # 贪心算法\n",
    "        n, res = len(row), 0\n",
    "        for i in range(0, n, 2):  # 遍历所有座位对的第一个人\n",
    "            mate = row[i] ^ 1  # 它的另一半为当前值异或1即将最后一位取反\n",
    "            if row[i+1] != mate:  # 如果此时坐的不是它的另一半\n",
    "                j = i+2+row[i+2:].index(mate)  # 找到它的另一半，直接从i+2找起节省时间\n",
    "                row[i+1], row[j], res = row[j], row[i+1], res+1  # 交换\n",
    "        return res\n"
   ]
  }
 ],
 "metadata": {
  "kernelspec": {
   "display_name": "Python 3",
   "language": "python",
   "name": "python3"
  },
  "language_info": {
   "codemirror_mode": {
    "name": "ipython",
    "version": 3
   },
   "file_extension": ".py",
   "mimetype": "text/x-python",
   "name": "python",
   "nbconvert_exporter": "python",
   "pygments_lexer": "ipython3",
   "version": "3.7.4"
  }
 },
 "nbformat": 4,
 "nbformat_minor": 2
}
