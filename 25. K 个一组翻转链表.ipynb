{
 "cells": [
  {
   "cell_type": "code",
   "execution_count": null,
   "metadata": {},
   "outputs": [],
   "source": [
    "# Definition for singly-linked list.\n",
    "# class ListNode(object):\n",
    "#     def __init__(self, x):\n",
    "#         self.val = x\n",
    "#         self.next = None\n",
    "\n",
    "class Solution(object):\n",
    "    def reverseKGroup(self, head, k):\n",
    "        \"\"\"\n",
    "        :type head: ListNode\n",
    "        :type k: int\n",
    "        :rtype: ListNode\n",
    "        \"\"\"\n",
    "        res = []\n",
    "        while head:\n",
    "            res.append(head.val)\n",
    "            head = head.next\n",
    "        s = -1\n",
    "        e = k - 1\n",
    "        h = ListNode(None)\n",
    "        pre = h\n",
    "        while e < len(res):\n",
    "            for i in range(e, s, -1):\n",
    "                new_node = ListNode(res[i])\n",
    "                pre.next = new_node\n",
    "                pre = pre.next\n",
    "            s = e\n",
    "            e = s + k\n",
    "        for i in range(s+1,len(res)):\n",
    "            new_node = ListNode(res[i])\n",
    "            pre.next = new_node\n",
    "            pre = pre.next\n",
    "        return h.next\n",
    "            \n",
    "        "
   ]
  }
 ],
 "metadata": {
  "kernelspec": {
   "display_name": "Python 3",
   "language": "python",
   "name": "python3"
  },
  "language_info": {
   "codemirror_mode": {
    "name": "ipython",
    "version": 3
   },
   "file_extension": ".py",
   "mimetype": "text/x-python",
   "name": "python",
   "nbconvert_exporter": "python",
   "pygments_lexer": "ipython3",
   "version": "3.7.4"
  }
 },
 "nbformat": 4,
 "nbformat_minor": 2
}
