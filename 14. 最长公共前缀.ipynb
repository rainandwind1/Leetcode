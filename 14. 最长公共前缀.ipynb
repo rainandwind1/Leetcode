{
 "cells": [
  {
   "cell_type": "code",
   "execution_count": null,
   "metadata": {},
   "outputs": [],
   "source": [
    "class Solution(object):\n",
    "    def longestCommonPrefix(self, strs):\n",
    "        \"\"\"\n",
    "        :type strs: List[str]\n",
    "        :rtype: str\n",
    "        \"\"\"\n",
    "        if not strs:\n",
    "            return \"\"\n",
    "        if len(strs) == 1 or strs[0] == \"\":\n",
    "            return strs[0]\n",
    "        res = \"\"\n",
    "        index = 1\n",
    "        flag = False\n",
    "        while index <= len(strs[0]):\n",
    "            a = strs[0][0:index]\n",
    "            for s in strs:\n",
    "                if a == s[0:index]:\n",
    "                    continue\n",
    "                else:\n",
    "                    flag = True\n",
    "            if flag:\n",
    "                break\n",
    "            else:\n",
    "                res = a\n",
    "                index += 1\n",
    "        return res"
   ]
  }
 ],
 "metadata": {
  "kernelspec": {
   "display_name": "Python 3",
   "language": "python",
   "name": "python3"
  },
  "language_info": {
   "codemirror_mode": {
    "name": "ipython",
    "version": 3
   },
   "file_extension": ".py",
   "mimetype": "text/x-python",
   "name": "python",
   "nbconvert_exporter": "python",
   "pygments_lexer": "ipython3",
   "version": "3.7.4"
  }
 },
 "nbformat": 4,
 "nbformat_minor": 2
}
