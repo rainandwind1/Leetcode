{
 "cells": [
  {
   "cell_type": "code",
   "execution_count": null,
   "metadata": {},
   "outputs": [],
   "source": [
    "class Solution(object):\n",
    "    def merge(self, A, m, B, n):\n",
    "        \"\"\"\n",
    "        :type A: List[int]\n",
    "        :type m: int\n",
    "        :type B: List[int]\n",
    "        :type n: int\n",
    "        :rtype: None Do not return anything, modify A in-place instead.\n",
    "        \"\"\"\n",
    "        A[m : m+n] = B\n",
    "        def fast_sort(nums):\n",
    "            if not nums:\n",
    "                return []\n",
    "            mid = len(nums) // 2\n",
    "            return fast_sort([i for i in nums if i < nums[mid]]) + [i for i in nums if i == nums[mid]] + fast_sort([i for i in nums if i > nums[mid]])\n",
    "        target = fast_sort(A)\n",
    "        for i in range(len(A)):\n",
    "            A[i] = target[i]"
   ]
  },
  {
   "cell_type": "code",
   "execution_count": null,
   "metadata": {},
   "outputs": [],
   "source": [
    "class Solution(object):\n",
    "    def merge(self, A, m, B, n):\n",
    "        \"\"\"\n",
    "        :type A: List[int]\n",
    "        :type m: int\n",
    "        :type B: List[int]\n",
    "        :type n: int\n",
    "        :rtype: None Do not return anything, modify A in-place instead.\n",
    "        \"\"\"\n",
    "        idx_1, idx_2, idx = m - 1, n - 1, m + n - 1\n",
    "        while idx_2 >= 0:\n",
    "            if idx_1 < 0 or B[idx_2] >= A[idx_1]:\n",
    "                A[idx] = B[idx_2]\n",
    "                idx_2 -= 1\n",
    "            else:\n",
    "                A[idx] = A[idx_1]\n",
    "                idx_1 -= 1\n",
    "            idx -= 1"
   ]
  }
 ],
 "metadata": {
  "kernelspec": {
   "display_name": "Python 3",
   "language": "python",
   "name": "python3"
  },
  "language_info": {
   "codemirror_mode": {
    "name": "ipython",
    "version": 3
   },
   "file_extension": ".py",
   "mimetype": "text/x-python",
   "name": "python",
   "nbconvert_exporter": "python",
   "pygments_lexer": "ipython3",
   "version": "3.7.4"
  }
 },
 "nbformat": 4,
 "nbformat_minor": 2
}
