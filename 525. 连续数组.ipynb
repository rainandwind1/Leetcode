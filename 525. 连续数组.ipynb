{
 "cells": [
  {
   "cell_type": "code",
   "execution_count": 10,
   "metadata": {},
   "outputs": [
    {
     "name": "stdout",
     "output_type": "stream",
     "text": [
      "[0, 1, 1, 2] [0, 0, 1, 1]\n",
      "2\n"
     ]
    }
   ],
   "source": [
    "# 超时\n",
    "class Solution(object):\n",
    "    def findMaxLength(self, nums):\n",
    "        \"\"\"\n",
    "        :type nums: List[int]\n",
    "        :rtype: int\n",
    "        \"\"\"\n",
    "        max_len = 0\n",
    "        cnt_0 = 0\n",
    "        cnt_1 = 0\n",
    "        res_0 = [0]\n",
    "        res_1 = [0]\n",
    "        for i in nums:\n",
    "            if i == 0:\n",
    "                cnt_0 += 1\n",
    "            else:\n",
    "                cnt_1 += 1\n",
    "            res_0.append(cnt_0)\n",
    "            res_1.append(cnt_1)\n",
    "        print(res_0, res_1)\n",
    "        for i in range(len(res_0)):\n",
    "            for j in range(i+1, len(res_1)):\n",
    "                if res_0[j] - res_0[i] == res_1[j] - res_1[i]:\n",
    "                    max_len = max(max_len, j - i)\n",
    "        return max_len\n",
    "A = Solution()\n",
    "print(A.findMaxLength([0,1,0]))"
   ]
  },
  {
   "cell_type": "code",
   "execution_count": 16,
   "metadata": {},
   "outputs": [
    {
     "name": "stdout",
     "output_type": "stream",
     "text": [
      "0 1\n",
      "2\n"
     ]
    }
   ],
   "source": [
    "# 超时\n",
    "class Solution(object):\n",
    "    def findMaxLength(self, nums):\n",
    "        \"\"\"\n",
    "        :type nums: List[int]\n",
    "        :rtype: int\n",
    "        \"\"\"\n",
    "        max_len = 0\n",
    "        for i in range(len(nums)):\n",
    "            for j in range(i+1, len(nums)):\n",
    "                print(i, j)\n",
    "                if j - i + 1 == 2*sum(nums[i:j+1]):\n",
    "                    max_len = max(max_len, j - i + 1)\n",
    "        return max_len\n",
    "A = Solution()\n",
    "print(A.findMaxLength([0,1]))"
   ]
  },
  {
   "cell_type": "code",
   "execution_count": null,
   "metadata": {},
   "outputs": [],
   "source": [
    "class Solution(object):\n",
    "    def findMaxLength(self, nums):\n",
    "        \"\"\"\n",
    "        :type nums: List[int]\n",
    "        :rtype: int\n",
    "        \"\"\"\n",
    "        dp, cur, max_len = {0:-1}, 0, 0\n",
    "        for idx, n in enumerate(nums):\n",
    "            cur += 1 if n else -1\n",
    "            max_len = max(max_len, idx - dp.setdefault(cur, idx))\n",
    "        return max_len"
   ]
  }
 ],
 "metadata": {
  "kernelspec": {
   "display_name": "Python 3",
   "language": "python",
   "name": "python3"
  },
  "language_info": {
   "codemirror_mode": {
    "name": "ipython",
    "version": 3
   },
   "file_extension": ".py",
   "mimetype": "text/x-python",
   "name": "python",
   "nbconvert_exporter": "python",
   "pygments_lexer": "ipython3",
   "version": "3.7.4"
  }
 },
 "nbformat": 4,
 "nbformat_minor": 2
}
