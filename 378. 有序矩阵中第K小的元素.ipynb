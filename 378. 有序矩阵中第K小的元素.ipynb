{
 "cells": [
  {
   "cell_type": "code",
   "execution_count": null,
   "metadata": {},
   "outputs": [],
   "source": [
    "class Solution(object):\n",
    "    def kthSmallest(self, matrix, k):\n",
    "        \"\"\"\n",
    "        :type matrix: List[List[int]]\n",
    "        :type k: int\n",
    "        :rtype: int\n",
    "        \"\"\"\n",
    "        count = 0\n",
    "        depth = 1\n",
    "        depth_count = 1\n",
    "        count_i = 0\n",
    "        res = []\n",
    "        idx_1, idx_2 = 0, 0\n",
    "        while count < k:\n",
    "            while count_i < depth_count:\n",
    "                res.append(matrix[idx_1][idx_2])\n",
    "                idx_1, idx_2 = idx_1 + 1, idx_2 - 1\n",
    "                count_i += 1\n",
    "            count += depth\n",
    "            depth += 1\n",
    "            if depth < len(matrix):\n",
    "                depth_count = depth\n",
    "                idx_1, idx_2 = 0, depth - 1\n",
    "            else:\n",
    "                depth_count = 2*len(matrix) - depth\n",
    "                idx_1, idx_2 = depth - len(matrix), len(matrix) - 1\n",
    "            count_i = 0\n",
    "        res.sort()\n",
    "        return res[k - 1]"
   ]
  },
  {
   "cell_type": "code",
   "execution_count": null,
   "metadata": {},
   "outputs": [],
   "source": [
    "class Solution(object):\n",
    "    def kthSmallest(self, matrix, k):\n",
    "        \"\"\"\n",
    "        :type matrix: List[List[int]]\n",
    "        :type k: int\n",
    "        :rtype: int\n",
    "        \"\"\"\n",
    "        n = len(matrix)\n",
    "        pq = [(matrix[i][0], i, 0) for i in range(n)]\n",
    "        heapq.heapify(pq)\n",
    "\n",
    "        ret = 0\n",
    "        for i in range(k - 1):\n",
    "            num, x, y = heapq.heappop(pq)\n",
    "            if y != n - 1:\n",
    "                heapq.heappush(pq, (matrix[x][y + 1], x, y + 1))\n",
    "        \n",
    "        return heapq.heappop(pq)[0]"
   ]
  }
 ],
 "metadata": {
  "kernelspec": {
   "display_name": "Python 3",
   "language": "python",
   "name": "python3"
  },
  "language_info": {
   "codemirror_mode": {
    "name": "ipython",
    "version": 3
   },
   "file_extension": ".py",
   "mimetype": "text/x-python",
   "name": "python",
   "nbconvert_exporter": "python",
   "pygments_lexer": "ipython3",
   "version": "3.7.4"
  }
 },
 "nbformat": 4,
 "nbformat_minor": 2
}
