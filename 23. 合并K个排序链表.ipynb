{
 "cells": [
  {
   "cell_type": "code",
   "execution_count": null,
   "metadata": {},
   "outputs": [],
   "source": [
    "# 模拟\n",
    "class Solution(object):\n",
    "    def mergeKLists(self, lists):\n",
    "        \"\"\"\n",
    "        :type lists: List[ListNode]\n",
    "        :rtype: ListNode\n",
    "        \"\"\"\n",
    "        res = []\n",
    "        for i in lists:\n",
    "            while i:\n",
    "                res.append(i.val)\n",
    "                i = i.next\n",
    "        res.sort()\n",
    "        head = ListNode(None)\n",
    "        pre = head\n",
    "        for i in res:\n",
    "            new = ListNode(i)\n",
    "            pre.next = new\n",
    "            pre = new\n",
    "        return head.next\n",
    "              "
   ]
  },
  {
   "cell_type": "code",
   "execution_count": 3,
   "metadata": {},
   "outputs": [
    {
     "name": "stdout",
     "output_type": "stream",
     "text": [
      "(0, 2)\n",
      "(1, 4)\n",
      "(2, 1)\n",
      "(3, 0)\n",
      "(4, 3)\n"
     ]
    }
   ],
   "source": [
    "import heapq\n",
    "a = []\n",
    "b = [2,4,1,0,3]\n",
    "for i in range(len(b)):\n",
    "    heapq.heappush(a,(i,b[i]))\n",
    "for i in range(len(b)):\n",
    "    print(heapq.heappop(a))\n",
    "    "
   ]
  },
  {
   "cell_type": "code",
   "execution_count": null,
   "metadata": {},
   "outputs": [],
   "source": [
    "class Solution(object):\n",
    "    def mergeKLists(self, lists):\n",
    "        \"\"\"\n",
    "        :type lists: List[ListNode]\n",
    "        :rtype: ListNode\n",
    "        \"\"\"\n",
    "        head = ListNode(None)\n",
    "        pre = head\n",
    "        import heapq\n",
    "        res = []\n",
    "        for i in range(len(lists)):\n",
    "            if lists[i]:\n",
    "                heapq.heappush(res,(lists[i].val, i))\n",
    "                lists[i] = lists[i].next\n",
    "        while res:\n",
    "            val, idx = heapq.heappop(res)\n",
    "            new = ListNode(val)\n",
    "            pre.next = new\n",
    "            pre = pre.next\n",
    "            if lists[idx]:\n",
    "                heapq.heappush(res,(lists[idx].val,idx))\n",
    "                lists[idx] = lists[idx].next\n",
    "        return head.next\n",
    "            "
   ]
  }
 ],
 "metadata": {
  "kernelspec": {
   "display_name": "Python 3",
   "language": "python",
   "name": "python3"
  },
  "language_info": {
   "codemirror_mode": {
    "name": "ipython",
    "version": 3
   },
   "file_extension": ".py",
   "mimetype": "text/x-python",
   "name": "python",
   "nbconvert_exporter": "python",
   "pygments_lexer": "ipython3",
   "version": "3.7.4"
  }
 },
 "nbformat": 4,
 "nbformat_minor": 2
}
