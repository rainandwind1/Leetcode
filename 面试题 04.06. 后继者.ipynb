{
 "cells": [
  {
   "cell_type": "code",
   "execution_count": null,
   "metadata": {},
   "outputs": [],
   "source": [
    "# Definition for a binary tree node.\n",
    "# class TreeNode:\n",
    "#     def __init__(self, x):\n",
    "#         self.val = x\n",
    "#         self.left = None\n",
    "#         self.right = None\n",
    "\n",
    "class Solution:\n",
    "    def inorderSuccessor(self, root: TreeNode, p: TreeNode) -> TreeNode:\n",
    "        self.res = []\n",
    "        def search_mid(node):\n",
    "            if not node:\n",
    "                return\n",
    "            search_mid(node.left)\n",
    "            self.res.append(node)\n",
    "            search_mid(node.right)\n",
    "        search_mid(root)\n",
    "        for key, i in enumerate(self.res):\n",
    "            if i.val == p.val:\n",
    "                if key == len(self.res) - 1:\n",
    "                    return None\n",
    "                else:\n",
    "                    return self.res[key+1]\n",
    "        return None"
   ]
  }
 ],
 "metadata": {
  "kernelspec": {
   "display_name": "Python 3",
   "language": "python",
   "name": "python3"
  },
  "language_info": {
   "codemirror_mode": {
    "name": "ipython",
    "version": 3
   },
   "file_extension": ".py",
   "mimetype": "text/x-python",
   "name": "python",
   "nbconvert_exporter": "python",
   "pygments_lexer": "ipython3",
   "version": "3.7.4"
  }
 },
 "nbformat": 4,
 "nbformat_minor": 2
}
