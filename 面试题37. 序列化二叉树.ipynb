{
 "cells": [
  {
   "cell_type": "code",
   "execution_count": 25,
   "metadata": {},
   "outputs": [
    {
     "name": "stdout",
     "output_type": "stream",
     "text": [
      "\"[1, 2, 3, None, 'null']\"\n",
      "\"[1,2,3,None]\"\n"
     ]
    }
   ],
   "source": [
    "a = [1,2,3,None]\n",
    "a.append(\"null\")\n",
    "print('\"'+str(a)+'\"')\n",
    "a = ['1','2','3','None']\n",
    "print('\"['+','.join(a)+']\"')"
   ]
  },
  {
   "cell_type": "code",
   "execution_count": 26,
   "metadata": {},
   "outputs": [
    {
     "ename": "TypeError",
     "evalue": "serialize() missing 1 required positional argument: 'root'",
     "output_type": "error",
     "traceback": [
      "\u001b[1;31m---------------------------------------------------------------------------\u001b[0m",
      "\u001b[1;31mTypeError\u001b[0m                                 Traceback (most recent call last)",
      "\u001b[1;32m<ipython-input-26-b1d0a9c79d56>\u001b[0m in \u001b[0;36m<module>\u001b[1;34m\u001b[0m\n\u001b[0;32m     33\u001b[0m \u001b[1;33m\u001b[0m\u001b[0m\n\u001b[0;32m     34\u001b[0m \u001b[0mA\u001b[0m \u001b[1;33m=\u001b[0m \u001b[0mCodec\u001b[0m\u001b[1;33m(\u001b[0m\u001b[1;33m)\u001b[0m\u001b[1;33m\u001b[0m\u001b[1;33m\u001b[0m\u001b[0m\n\u001b[1;32m---> 35\u001b[1;33m \u001b[0mprint\u001b[0m\u001b[1;33m(\u001b[0m\u001b[0mA\u001b[0m\u001b[1;33m.\u001b[0m\u001b[0mserialize\u001b[0m\u001b[1;33m(\u001b[0m\u001b[1;33m)\u001b[0m\u001b[1;33m)\u001b[0m\u001b[1;33m\u001b[0m\u001b[1;33m\u001b[0m\u001b[0m\n\u001b[0m",
      "\u001b[1;31mTypeError\u001b[0m: serialize() missing 1 required positional argument: 'root'"
     ]
    }
   ],
   "source": [
    "from collections import deque\n",
    "class Codec:\n",
    "\n",
    "    def serialize(self, root):\n",
    "        \"\"\"Encodes a tree to a single string.\n",
    "        \n",
    "        :type root: TreeNode\n",
    "        :rtype: str\n",
    "        \"\"\"\n",
    "        res = []\n",
    "        p = deque()\n",
    "        p.append(left)\n",
    "        while p:\n",
    "            node = p.popleft()\n",
    "            if node:\n",
    "                res.append(node)\n",
    "            else:\n",
    "                res.append(null)\n",
    "            if not node:\n",
    "                continue\n",
    "            else:\n",
    "                p.append(node.left)\n",
    "                p.append(node.right)\n",
    "        return '\"'+str(res)+'\"'\n",
    "        \n",
    "\n",
    "    def deserialize(self, data):\n",
    "        \"\"\"Decodes your encoded data to tree.\n",
    "        \n",
    "        :type data: str\n",
    "        :rtype: TreeNode\n",
    "        \"\"\"\n",
    "        \n",
    "A = Codec()\n",
    "print(A.serialize())"
   ]
  },
  {
   "cell_type": "code",
   "execution_count": 24,
   "metadata": {},
   "outputs": [
    {
     "name": "stdout",
     "output_type": "stream",
     "text": [
      "1,2,3,null,null,4,5\n",
      "['1', '2', '3', 'null', 'null', '4', '5'] 1\n"
     ]
    }
   ],
   "source": [
    "b = \"[1,2,3,null,null,4,5]\"\n",
    "b = b[1:-1]\n",
    "print(b)\n",
    "print(b.split(','),b[0])"
   ]
  },
  {
   "cell_type": "code",
   "execution_count": null,
   "metadata": {},
   "outputs": [],
   "source": [
    "  def deserialize(self, data):\n",
    "        if data == \"[]\": return\n",
    "        vals, i = data[1:-1].split(','), 1\n",
    "        root = TreeNode(int(vals[0]))\n",
    "        queue = collections.deque()\n",
    "        queue.append(root)\n",
    "        while queue:\n",
    "            node = queue.popleft()\n",
    "            if vals[i] != \"null\":\n",
    "                node.left = TreeNode(int(vals[i]))\n",
    "                queue.append(node.left)\n",
    "            i += 1\n",
    "            if vals[i] != \"null\":\n",
    "                node.right = TreeNode(int(vals[i]))\n",
    "                queue.append(node.right)\n",
    "            i += 1\n",
    "        return root\n"
   ]
  },
  {
   "cell_type": "code",
   "execution_count": null,
   "metadata": {},
   "outputs": [],
   "source": [
    "# Definition for a binary tree node.\n",
    "# class TreeNode(object):\n",
    "#     def __init__(self, x):\n",
    "#         self.val = x\n",
    "#         self.left = None\n",
    "#         self.right = None\n",
    "\n",
    "from collections import deque\n",
    "class Codec:\n",
    "\n",
    "    def serialize(self, root):\n",
    "        \"\"\"Encodes a tree to a single string.\n",
    "        \n",
    "        :type root: TreeNode\n",
    "        :rtype: str\n",
    "        \"\"\"\n",
    "        if not root:\n",
    "            return []\n",
    "        res = []\n",
    "        p = deque()\n",
    "        p.append(root)\n",
    "        while p:\n",
    "            node = p.popleft()\n",
    "            if node:\n",
    "                res.append(str(node.val))\n",
    "            else:\n",
    "                res.append('null')\n",
    "            if not node:\n",
    "                continue\n",
    "            else:\n",
    "                p.append(node.left)\n",
    "                p.append(node.right)\n",
    "        return '\"['+','.join(res)+']\"'\n",
    "        \n",
    "\n",
    "    def deserialize(self, data):\n",
    "        \"\"\"Decodes your encoded data to tree.\n",
    "        \n",
    "        :type data: str\n",
    "        :rtype: TreeNode\n",
    "        \"\"\"\n",
    "        if data == []: \n",
    "            return\n",
    "        a = data[2:-2].split(',')\n",
    "        root = TreeNode(int(a[0]))\n",
    "        p = deque()\n",
    "        p.append(root)\n",
    "        index = 1\n",
    "        while p:\n",
    "            node = p.popleft()\n",
    "            if a[index] != 'null':\n",
    "                node.left = TreeNode(int(a[index]))\n",
    "                p.append(node.left)\n",
    "            index += 1\n",
    "            if a[index] != 'null':\n",
    "                node.right = TreeNode(int(a[index]))\n",
    "                p.append(node.right)\n",
    "            index += 1\n",
    "            \n",
    "        return root\n",
    "            \n",
    "        "
   ]
  },
  {
   "cell_type": "code",
   "execution_count": null,
   "metadata": {},
   "outputs": [],
   "source": []
  }
 ],
 "metadata": {
  "kernelspec": {
   "display_name": "Python 3",
   "language": "python",
   "name": "python3"
  },
  "language_info": {
   "codemirror_mode": {
    "name": "ipython",
    "version": 3
   },
   "file_extension": ".py",
   "mimetype": "text/x-python",
   "name": "python",
   "nbconvert_exporter": "python",
   "pygments_lexer": "ipython3",
   "version": "3.7.4"
  }
 },
 "nbformat": 4,
 "nbformat_minor": 2
}
