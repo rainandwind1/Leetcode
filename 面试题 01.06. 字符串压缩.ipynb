{
 "cells": [
  {
   "cell_type": "code",
   "execution_count": null,
   "metadata": {},
   "outputs": [],
   "source": [
    "class Solution(object):\n",
    "    def compressString(self, S):\n",
    "        \"\"\"\n",
    "        :type S: str\n",
    "        :rtype: str\n",
    "        \"\"\"\n",
    "        res = \"\"\n",
    "        index = 0\n",
    "        while index < len(S):\n",
    "            t = S[index]\n",
    "            count = 0\n",
    "            while S[index] == t:\n",
    "                count += 1\n",
    "                index += 1\n",
    "                if index >= len(S):\n",
    "                    break\n",
    "            res += S[index - 1]\n",
    "            res += str(count)\n",
    "            \n",
    "        if len(res) < len(S):\n",
    "            return res\n",
    "        return S"
   ]
  }
 ],
 "metadata": {
  "kernelspec": {
   "display_name": "Python 3",
   "language": "python",
   "name": "python3"
  },
  "language_info": {
   "codemirror_mode": {
    "name": "ipython",
    "version": 3
   },
   "file_extension": ".py",
   "mimetype": "text/x-python",
   "name": "python",
   "nbconvert_exporter": "python",
   "pygments_lexer": "ipython3",
   "version": "3.7.4"
  }
 },
 "nbformat": 4,
 "nbformat_minor": 2
}
