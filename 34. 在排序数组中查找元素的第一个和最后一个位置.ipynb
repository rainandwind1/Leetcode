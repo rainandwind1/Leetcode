{
 "cells": [
  {
   "cell_type": "code",
   "execution_count": 5,
   "metadata": {},
   "outputs": [
    {
     "name": "stdout",
     "output_type": "stream",
     "text": [
      "0 0\n",
      "0 0\n",
      "[0, 0]\n"
     ]
    }
   ],
   "source": [
    "class Solution(object):\n",
    "    def searchRange(self, nums, target):\n",
    "        \"\"\"\n",
    "        :type nums: List[int]\n",
    "        :type target: int\n",
    "        :rtype: List[int]\n",
    "        \"\"\"\n",
    "        l = 0\n",
    "        r = len(nums) - 1\n",
    "        index = -1\n",
    "        res = [-1, -1]\n",
    "        while l <= r:\n",
    "            print(l,r)\n",
    "            mid = (r + l) // 2\n",
    "            if nums[mid] < target:\n",
    "                l = mid + 1\n",
    "            elif nums[mid] > target:\n",
    "                r = mid - 1\n",
    "            else:\n",
    "                while nums[r] != target:\n",
    "                    if r - 1 >= 0:\n",
    "                        r -= 1\n",
    "                    else:\n",
    "                        break\n",
    "                res[1] = r\n",
    "                while nums[l] != target:\n",
    "                    if l + 1 < len(nums) - 1:\n",
    "                        l += 1\n",
    "                    else:\n",
    "                        break\n",
    "                res[0] = l\n",
    "                print(l, r)\n",
    "                return res        \n",
    "        return res\n",
    "    \n",
    "    \n",
    "A = Solution()\n",
    "print(A.searchRange([1],1))"
   ]
  },
  {
   "cell_type": "code",
   "execution_count": null,
   "metadata": {},
   "outputs": [],
   "source": []
  },
  {
   "cell_type": "code",
   "execution_count": null,
   "metadata": {},
   "outputs": [],
   "source": []
  },
  {
   "cell_type": "code",
   "execution_count": null,
   "metadata": {},
   "outputs": [],
   "source": []
  }
 ],
 "metadata": {
  "kernelspec": {
   "display_name": "Python 3",
   "language": "python",
   "name": "python3"
  },
  "language_info": {
   "codemirror_mode": {
    "name": "ipython",
    "version": 3
   },
   "file_extension": ".py",
   "mimetype": "text/x-python",
   "name": "python",
   "nbconvert_exporter": "python",
   "pygments_lexer": "ipython3",
   "version": "3.7.4"
  }
 },
 "nbformat": 4,
 "nbformat_minor": 2
}
