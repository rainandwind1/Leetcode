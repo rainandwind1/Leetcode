{
 "cells": [
  {
   "cell_type": "code",
   "execution_count": 2,
   "metadata": {},
   "outputs": [
    {
     "name": "stdout",
     "output_type": "stream",
     "text": [
      "['o', 'l', 'l', 'e', 'h']\n",
      "['h', 'a', 'n', 'n', 'a', 'H']\n"
     ]
    }
   ],
   "source": [
    "class Solution(object):\n",
    "    def reverseString(self, s):\n",
    "        \"\"\"\n",
    "        :type s: List[str]\n",
    "        :rtype: None Do not return anything, modify s in-place instead.\n",
    "        \"\"\"\n",
    "        index_b = 0\n",
    "        index_e = len(s) - 1\n",
    "        while index_b < index_e:\n",
    "            s[index_b], s[index_e] = s[index_e], s[index_b]\n",
    "            index_b += 1\n",
    "            index_e -= 1\n",
    "        return s\n",
    "            \n",
    "        \n",
    "        \n",
    "        \n",
    "        \n",
    "A = Solution()\n",
    "print(A.reverseString([\"h\",\"e\",\"l\",\"l\",\"o\"]))\n",
    "print(A.reverseString([\"H\",\"a\",\"n\",\"n\",\"a\",\"h\"]))"
   ]
  },
  {
   "cell_type": "code",
   "execution_count": null,
   "metadata": {},
   "outputs": [],
   "source": []
  }
 ],
 "metadata": {
  "kernelspec": {
   "display_name": "Python 3",
   "language": "python",
   "name": "python3"
  },
  "language_info": {
   "codemirror_mode": {
    "name": "ipython",
    "version": 3
   },
   "file_extension": ".py",
   "mimetype": "text/x-python",
   "name": "python",
   "nbconvert_exporter": "python",
   "pygments_lexer": "ipython3",
   "version": "3.7.4"
  }
 },
 "nbformat": 4,
 "nbformat_minor": 2
}
