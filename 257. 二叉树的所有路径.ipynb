{
 "cells": [
  {
   "cell_type": "code",
   "execution_count": null,
   "metadata": {},
   "outputs": [],
   "source": [
    "class Solution(object):\n",
    "    def binaryTreePaths(self, root):\n",
    "        \"\"\"\n",
    "        :type root: TreeNode\n",
    "        :rtype: List[str]\n",
    "        \"\"\"\n",
    "        if not root:\n",
    "            return []\n",
    "        result = []\n",
    "        def search_route(head, stri):\n",
    "            if len(stri) > 0:\n",
    "                stri += \"->\"\n",
    "            stri += str(head.val)\n",
    "            if head.left:\n",
    "                search_route(head.left,stri)\n",
    "            if head.right:\n",
    "                search_route(head.right,stri)\n",
    "            if not head.left and not head.right:\n",
    "                result.append(stri)\n",
    "                return\n",
    "        search_route(root,\"\")\n",
    "        return result"
   ]
  }
 ],
 "metadata": {
  "kernelspec": {
   "display_name": "Python 3",
   "language": "python",
   "name": "python3"
  },
  "language_info": {
   "codemirror_mode": {
    "name": "ipython",
    "version": 3
   },
   "file_extension": ".py",
   "mimetype": "text/x-python",
   "name": "python",
   "nbconvert_exporter": "python",
   "pygments_lexer": "ipython3",
   "version": "3.7.4"
  }
 },
 "nbformat": 4,
 "nbformat_minor": 2
}
