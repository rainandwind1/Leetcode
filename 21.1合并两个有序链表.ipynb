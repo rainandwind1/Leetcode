{
 "cells": [
  {
   "cell_type": "code",
   "execution_count": null,
   "metadata": {},
   "outputs": [],
   "source": [
    "# Definition for singly-linked list.\n",
    "# class ListNode(object):\n",
    "#     def __init__(self, x):\n",
    "#         self.val = x\n",
    "#         self.next = None\n",
    "\n",
    "class Solution(object):\n",
    "    def mergeTwoLists(self, l1, l2):\n",
    "        \"\"\"\n",
    "        :type l1: ListNode\n",
    "        :type l2: ListNode\n",
    "        :rtype: ListNode\n",
    "        \"\"\"\n",
    "        pre = ListNode(None)\n",
    "        index = pre\n",
    "        while l1 or l2:\n",
    "            if not l1:\n",
    "                index.next = l2\n",
    "                break\n",
    "            elif not l2:\n",
    "                index.next = l1\n",
    "                break\n",
    "            else:\n",
    "                if l1.val >= l2.val:\n",
    "                    new = ListNode(l2.val)\n",
    "                    index.next = new\n",
    "                    index = index.next\n",
    "                    l2 = l2.next\n",
    "                else:\n",
    "                    new = ListNode(l1.val)\n",
    "                    index.next = new\n",
    "                    index = index.next\n",
    "                    l1 = l1.next\n",
    "        return pre.next"
   ]
  }
 ],
 "metadata": {
  "kernelspec": {
   "display_name": "Python 3",
   "language": "python",
   "name": "python3"
  },
  "language_info": {
   "codemirror_mode": {
    "name": "ipython",
    "version": 3
   },
   "file_extension": ".py",
   "mimetype": "text/x-python",
   "name": "python",
   "nbconvert_exporter": "python",
   "pygments_lexer": "ipython3",
   "version": "3.7.4"
  }
 },
 "nbformat": 4,
 "nbformat_minor": 2
}
