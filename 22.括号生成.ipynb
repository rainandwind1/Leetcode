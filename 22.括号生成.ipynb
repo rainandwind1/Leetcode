{
 "cells": [
  {
   "cell_type": "code",
   "execution_count": 9,
   "metadata": {},
   "outputs": [
    {
     "name": "stdout",
     "output_type": "stream",
     "text": [
      "0 0  []\n",
      "1 0 ( []\n",
      "2 0 (( []\n",
      "3 0 ((( []\n",
      "3 1 ((() []\n",
      "3 2 ((()) []\n",
      "3 3 ((())) ['((()))']\n",
      "2 1 (() ['((()))']\n",
      "3 1 (()( ['((()))']\n",
      "3 2 (()() ['((()))']\n",
      "3 3 (()()) ['((()))', '(()())']\n",
      "2 2 (()) ['((()))', '(()())']\n",
      "3 2 (())( ['((()))', '(()())']\n",
      "3 3 (())() ['((()))', '(()())', '(())()']\n",
      "1 1 () ['((()))', '(()())', '(())()']\n",
      "2 1 ()( ['((()))', '(()())', '(())()']\n",
      "3 1 ()(( ['((()))', '(()())', '(())()']\n",
      "3 2 ()(() ['((()))', '(()())', '(())()']\n",
      "3 3 ()(()) ['((()))', '(()())', '(())()', '()(())']\n",
      "2 2 ()() ['((()))', '(()())', '(())()', '()(())']\n",
      "3 2 ()()( ['((()))', '(()())', '(())()', '()(())']\n",
      "3 3 ()()() ['((()))', '(()())', '(())()', '()(())', '()()()']\n",
      "['((()))', '(()())', '(())()', '()(())', '()()()']\n"
     ]
    }
   ],
   "source": [
    "class Solution(object):\n",
    "    def generateParenthesis(self, n):\n",
    "        \"\"\"\n",
    "        :type n: int\n",
    "        :rtype: List[str]\n",
    "        \"\"\"\n",
    "        res = []\n",
    "        def f(l, r, s):\n",
    "            l == r == n and res.append(s)\n",
    "            l < n and f(l+1, r, s + '(')\n",
    "            r < l and f(l, r+1, s + ')')\n",
    "            \n",
    "        f(0,0,'')\n",
    "        return res\n",
    "            \n",
    "            \n",
    "            \n",
    "        \n",
    "        \n",
    "        \n",
    "        \n",
    "A = Solution()\n",
    "print(A.generateParenthesis(3))"
   ]
  },
  {
   "cell_type": "code",
   "execution_count": 3,
   "metadata": {},
   "outputs": [
    {
     "name": "stdout",
     "output_type": "stream",
     "text": [
      "\n",
      "()()\n"
     ]
    }
   ],
   "source": [
    "str_ = \"\"\n",
    "print(str_)\n",
    "str_ = 2*\"()\"\n",
    "print(str_)"
   ]
  },
  {
   "cell_type": "code",
   "execution_count": 6,
   "metadata": {},
   "outputs": [
    {
     "name": "stdout",
     "output_type": "stream",
     "text": [
      "[1]\n"
     ]
    }
   ],
   "source": [
    "a = []\n",
    "2>0 and a.append(1)\n",
    "print(a)"
   ]
  },
  {
   "cell_type": "code",
   "execution_count": null,
   "metadata": {},
   "outputs": [],
   "source": []
  }
 ],
 "metadata": {
  "kernelspec": {
   "display_name": "Python 3",
   "language": "python",
   "name": "python3"
  },
  "language_info": {
   "codemirror_mode": {
    "name": "ipython",
    "version": 3
   },
   "file_extension": ".py",
   "mimetype": "text/x-python",
   "name": "python",
   "nbconvert_exporter": "python",
   "pygments_lexer": "ipython3",
   "version": "3.7.4"
  }
 },
 "nbformat": 4,
 "nbformat_minor": 2
}
