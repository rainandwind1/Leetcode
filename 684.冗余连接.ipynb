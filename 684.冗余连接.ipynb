{
 "cells": [
  {
   "cell_type": "code",
   "execution_count": 30,
   "metadata": {},
   "outputs": [
    {
     "name": "stdout",
     "output_type": "stream",
     "text": [
      "[2, 3]\n"
     ]
    }
   ],
   "source": [
    "class DSU:\n",
    "    def __init__(self, length):\n",
    "        self.res = [i for i in range(length)]\n",
    "    \n",
    "    def find(self, x):\n",
    "        if self.res[x] != x:\n",
    "            return self.find(self.res[x])\n",
    "        else:\n",
    "            return x\n",
    "    def union(self, x, y):\n",
    "        xr = self.find(x)\n",
    "        yr = self.find(y)\n",
    "        self.res[xr] = yr\n",
    "import copy\n",
    "class Solution(object):\n",
    "    def findRedundantConnection(self, edges):\n",
    "        \"\"\"\n",
    "        :type edges: List[List[int]]\n",
    "        :rtype: List[int]\n",
    "        \"\"\"\n",
    "        l = len(edges)\n",
    "        edg = edges.copy()\n",
    "        dsu = DSU(len(edges))\n",
    "        for i in edges[::-1]:\n",
    "            dsu.res = [n for n in range(l)]\n",
    "            result = i\n",
    "            edg.remove(result)\n",
    "            for edge in edg:\n",
    "                dsu.union(edge[0]-1,edge[1]-1)\n",
    "            num = sum(int(x == dsu.find(x)) for x in range(l))\n",
    "            if num == 1:\n",
    "                return result\n",
    "            edg = edges.copy()\n",
    "\n",
    "            \n",
    "A = Solution()\n",
    "print(A.findRedundantConnection( [[1,2], [1,3], [2,3]]))"
   ]
  },
  {
   "cell_type": "code",
   "execution_count": null,
   "metadata": {},
   "outputs": [],
   "source": []
  },
  {
   "cell_type": "code",
   "execution_count": null,
   "metadata": {},
   "outputs": [],
   "source": []
  }
 ],
 "metadata": {
  "kernelspec": {
   "display_name": "Python 3",
   "language": "python",
   "name": "python3"
  },
  "language_info": {
   "codemirror_mode": {
    "name": "ipython",
    "version": 3
   },
   "file_extension": ".py",
   "mimetype": "text/x-python",
   "name": "python",
   "nbconvert_exporter": "python",
   "pygments_lexer": "ipython3",
   "version": "3.7.4"
  }
 },
 "nbformat": 4,
 "nbformat_minor": 2
}
