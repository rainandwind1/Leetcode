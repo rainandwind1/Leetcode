{
 "cells": [
  {
   "cell_type": "code",
   "execution_count": 23,
   "metadata": {},
   "outputs": [
    {
     "name": "stdout",
     "output_type": "stream",
     "text": [
      "([2, 1], 0)\n",
      "1\n",
      "([2, 1], 1)\n",
      "([2, 1, 1], 0)\n"
     ]
    }
   ],
   "source": [
    "class DSU:\n",
    "    def __init__(self,N):\n",
    "        self.target = [i for i in range(N)]\n",
    "        self.count = 0\n",
    "    \n",
    "    def find(self,x,num):\n",
    "        num += 1\n",
    "        if self.target[x] != x:\n",
    "            return self.find(self.target[x],num)\n",
    "        return x, num\n",
    "\n",
    "    def union(self,x,y):\n",
    "        xr, x_n = self.find(x,0)\n",
    "        yr, y_n = self.find(y,0)\n",
    "        self.target[xr] = yr\n",
    "        \n",
    "    \n",
    "class Solution(object):\n",
    "    def minMalwareSpread(self, graph, initial):\n",
    "        \"\"\"\n",
    "        :type graph: List[List[int]]\n",
    "        :type initial: List[int]\n",
    "        :rtype: int\n",
    "        \"\"\"\n",
    "        len_list = []\n",
    "        l = len(graph)\n",
    "        dsu = DSU(l)\n",
    "        for i in range(l):\n",
    "            for j in range(l):\n",
    "                if graph[i][j] == 1:\n",
    "                    dsu.union(i,j)\n",
    "        for s in initial:\n",
    "            len_list.append(dsu.find(s,0)[1])\n",
    "        index_list = list(set(len_list))\n",
    "        index_list.sort(reverse=True)\n",
    "        for i in index_list:\n",
    "            if len_list.count(i)>1:\n",
    "                continue\n",
    "            return len_list,initial[len_list.index(i)]\n",
    "        return index_list[0]\n",
    "            \n",
    "            \n",
    "        \n",
    "        \n",
    "        \n",
    "        \n",
    "A = Solution()\n",
    "print(A.minMalwareSpread([[1,1,0],[1,1,0],[0,0,1]],[0,1]))\n",
    "print(A.minMalwareSpread([[1,0,0],[0,1,0],[0,0,1]],[0,2]))\n",
    "print(A.minMalwareSpread([[1,1,1],[1,1,1],[1,1,1]],[1,2]))\n",
    "print(A.minMalwareSpread([[1,1,0],[1,1,0],[0,0,1]],[0,1,2]))"
   ]
  },
  {
   "cell_type": "code",
   "execution_count": 17,
   "metadata": {},
   "outputs": [
    {
     "data": {
      "text/plain": [
       "[4, 3, 2, 1]"
      ]
     },
     "execution_count": 17,
     "metadata": {},
     "output_type": "execute_result"
    }
   ],
   "source": [
    "A = [1,4,2,3,3]\n",
    "B = set(A)\n",
    "B\n",
    "C = list(B)\n",
    "C.sort(reverse=True)\n",
    "C"
   ]
  },
  {
   "cell_type": "code",
   "execution_count": null,
   "metadata": {},
   "outputs": [],
   "source": [
    "c"
   ]
  }
 ],
 "metadata": {
  "kernelspec": {
   "display_name": "Python 3",
   "language": "python",
   "name": "python3"
  },
  "language_info": {
   "codemirror_mode": {
    "name": "ipython",
    "version": 3
   },
   "file_extension": ".py",
   "mimetype": "text/x-python",
   "name": "python",
   "nbconvert_exporter": "python",
   "pygments_lexer": "ipython3",
   "version": "3.7.4"
  }
 },
 "nbformat": 4,
 "nbformat_minor": 2
}
