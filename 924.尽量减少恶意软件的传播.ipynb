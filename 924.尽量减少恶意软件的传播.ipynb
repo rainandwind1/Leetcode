{
 "cells": [
  {
   "cell_type": "code",
   "execution_count": null,
   "metadata": {},
   "outputs": [],
   "source": [
    "class Solution(object):\n",
    "    def minMalwareSpread(self, graph, initial):\n",
    "        \"\"\"\n",
    "        :type graph: List[List[int]]\n",
    "        :type initial: List[int]\n",
    "        :rtype: int\n",
    "        \"\"\"\n",
    "        \n",
    "        \n",
    "        \n",
    "        \n",
    "A = Solution()\n",
    "print(A.minMalwareSpread([[1,1,0],[1,1,0],[0,0,1]],[0,1]))\n",
    "print(A.minMalwareSpread([[1,0,0],[0,1,0],[0,0,1]],[0,2]))\n",
    "print(A.minMalwareSpread([[1,1,1],[1,1,1],[1,1,1]],[1,2]))"
   ]
  },
  {
   "cell_type": "code",
   "execution_count": null,
   "metadata": {},
   "outputs": [],
   "source": []
  }
 ],
 "metadata": {
  "kernelspec": {
   "display_name": "Python 3",
   "language": "python",
   "name": "python3"
  },
  "language_info": {
   "codemirror_mode": {
    "name": "ipython",
    "version": 3
   },
   "file_extension": ".py",
   "mimetype": "text/x-python",
   "name": "python",
   "nbconvert_exporter": "python",
   "pygments_lexer": "ipython3",
   "version": "3.7.4"
  }
 },
 "nbformat": 4,
 "nbformat_minor": 2
}
