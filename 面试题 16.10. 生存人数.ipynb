{
 "cells": [
  {
   "cell_type": "code",
   "execution_count": 18,
   "metadata": {},
   "outputs": [
    {
     "name": "stdout",
     "output_type": "stream",
     "text": [
      "50 100\n",
      "1 51\n",
      "0 48\n",
      "[1. 2. 2. 2. 2. 2. 2. 2. 2. 2. 2. 2. 2. 2. 2. 2. 2. 2. 2. 2. 2. 2. 2. 2.\n",
      " 2. 2. 2. 2. 2. 2. 2. 2. 2. 2. 2. 2. 2. 2. 2. 2. 2. 2. 2. 2. 2. 2. 2. 2.\n",
      " 2. 1. 2. 2. 1. 1. 1. 1. 1. 1. 1. 1. 1. 1. 1. 1. 1. 1. 1. 1. 1. 1. 1. 1.\n",
      " 1. 1. 1. 1. 1. 1. 1. 1. 1. 1. 1. 1. 1. 1. 1. 1. 1. 1. 1. 1. 1. 1. 1. 1.\n",
      " 1. 1. 1. 1.]\n",
      "1901\n"
     ]
    }
   ],
   "source": [
    "import numpy as np\n",
    "class Solution(object):\n",
    "    def maxAliveYear(self, birth, death):\n",
    "        \"\"\"\n",
    "        :type birth: List[int]\n",
    "        :type death: List[int]\n",
    "        :rtype: int\n",
    "        \"\"\"\n",
    "        res = np.zeros(100)\n",
    "        while birth:\n",
    "            s = birth.pop() - 1900\n",
    "            e = death.pop() - 1900\n",
    "            res[s:e+1] += 1\n",
    "        print(res)\n",
    "        return np.argmax(res) + 1900\n",
    "        \n",
    "A = Solution()\n",
    "print(A.maxAliveYear([1900, 1901, 1950],[1948, 1951, 2000]))"
   ]
  },
  {
   "cell_type": "code",
   "execution_count": null,
   "metadata": {},
   "outputs": [],
   "source": []
  }
 ],
 "metadata": {
  "kernelspec": {
   "display_name": "Python 3",
   "language": "python",
   "name": "python3"
  },
  "language_info": {
   "codemirror_mode": {
    "name": "ipython",
    "version": 3
   },
   "file_extension": ".py",
   "mimetype": "text/x-python",
   "name": "python",
   "nbconvert_exporter": "python",
   "pygments_lexer": "ipython3",
   "version": "3.7.4"
  }
 },
 "nbformat": 4,
 "nbformat_minor": 2
}
