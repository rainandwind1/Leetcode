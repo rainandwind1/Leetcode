{
 "cells": [
  {
   "cell_type": "code",
   "execution_count": 24,
   "metadata": {},
   "outputs": [
    {
     "data": {
      "text/plain": [
       "(True, False)"
      ]
     },
     "execution_count": 24,
     "metadata": {},
     "output_type": "execute_result"
    }
   ],
   "source": [
    "class Solution(object):\n",
    "    def increasingTriplet(self, nums):\n",
    "        \"\"\" \n",
    "        :type nums: List[int]\n",
    "        :rtype: bool\n",
    "        \"\"\"\n",
    "        min_index = -1\n",
    "        count_flag = 0\n",
    "        def increase(nums,count_flag):\n",
    "            if len(nums) > 0:\n",
    "                min_num =  min(nums)\n",
    "                min_index = nums.index(min_num)\n",
    "                count_flag += 1\n",
    "                if count_flag > 2:\n",
    "                    return True\n",
    "                else:\n",
    "                    return increase(nums[min_index + 1:],count_flag)\n",
    "            else:\n",
    "                return False\n",
    "        return increase(nums,count_flag)\n",
    "        \n",
    "        \n",
    "\n",
    "result = Solution()\n",
    "result.increasingTriplet([1,2,3,4,5]),result.increasingTriplet([12,15,106,6,9,8])\n",
    "\n"
   ]
  },
  {
   "cell_type": "code",
   "execution_count": 20,
   "metadata": {},
   "outputs": [
    {
     "data": {
      "text/plain": [
       "True"
      ]
     },
     "execution_count": 20,
     "metadata": {},
     "output_type": "execute_result"
    }
   ],
   "source": [
    "min_index = -1\n",
    "count_flag = 0\n",
    "nums = [1,2,3,4,5]\n",
    "def increase(nums,count_flag):\n",
    "    if len(nums) > 0:\n",
    "        min_num =  min(nums)\n",
    "        min_index = nums.index(min_num)\n",
    "        count_flag += 1\n",
    "        if count_flag > 2:\n",
    "            return True\n",
    "        else:\n",
    "            return increase(nums[min_index + 1:],count_flag)\n",
    "    else:\n",
    "        return False\n",
    "increase(nums,count_flag)\n"
   ]
  },
  {
   "cell_type": "code",
   "execution_count": 39,
   "metadata": {},
   "outputs": [
    {
     "name": "stdout",
     "output_type": "stream",
     "text": [
      "1 1\n",
      "2 5\n",
      "True\n",
      "[2, 1, 5, 0] [6]\n"
     ]
    }
   ],
   "source": [
    "class Solution(object):\n",
    "    def increasingTriplet(self, nums):\n",
    "        \"\"\" \n",
    "        :type nums: List[int]\n",
    "        :rtype: bool\n",
    "        \"\"\"\n",
    "        for index,num in enumerate(nums):\n",
    "            if index == 0 or index == len(nums) - 1:\n",
    "                continue\n",
    "            print(index,num)\n",
    "            if num > min(nums[:index]) and num < max(nums[index + 1:]):\n",
    "                return True\n",
    "            else:\n",
    "                continue\n",
    "        return False\n",
    "        \n",
    "\n",
    "result = Solution()\n",
    "print(result.increasingTriplet([2,1,5,0,4,6]))\n",
    "nums = [2,1,5,0,4,6]\n",
    "print(nums[:4],nums[5:])\n"
   ]
  },
  {
   "cell_type": "code",
   "execution_count": null,
   "metadata": {},
   "outputs": [],
   "source": []
  },
  {
   "cell_type": "code",
   "execution_count": null,
   "metadata": {},
   "outputs": [],
   "source": []
  },
  {
   "cell_type": "code",
   "execution_count": null,
   "metadata": {},
   "outputs": [],
   "source": []
  }
 ],
 "metadata": {
  "kernelspec": {
   "display_name": "Python 3",
   "language": "python",
   "name": "python3"
  },
  "language_info": {
   "codemirror_mode": {
    "name": "ipython",
    "version": 3
   },
   "file_extension": ".py",
   "mimetype": "text/x-python",
   "name": "python",
   "nbconvert_exporter": "python",
   "pygments_lexer": "ipython3",
   "version": "3.7.4"
  }
 },
 "nbformat": 4,
 "nbformat_minor": 2
}
