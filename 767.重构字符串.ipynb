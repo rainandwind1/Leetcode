{
 "cells": [
  {
   "cell_type": "code",
   "execution_count": 8,
   "metadata": {},
   "outputs": [
    {
     "name": "stdout",
     "output_type": "stream",
     "text": [
      "aba\n",
      "ababababab\n",
      "vlvov\n"
     ]
    }
   ],
   "source": [
    "class Solution(object):\n",
    "    def reorganizeString(self, S):\n",
    "        \"\"\"\n",
    "        :type S: str\n",
    "        :rtype: str\n",
    "        \"\"\"\n",
    "        S_dict = {}\n",
    "        result = \"\"\n",
    "        set_S = set(S)\n",
    "        if len(set_S) == 1:\n",
    "            return \"\"\n",
    "        for i in S:\n",
    "            if i not in S_dict:\n",
    "                S_dict[i] = 1\n",
    "            else:\n",
    "                S_dict[i] += 1\n",
    "        target_list = sorted(S_dict.items(),key = lambda items:items[1],reverse=True)\n",
    "        if target_list[0][1] > (len(S) + 1)/2:\n",
    "            return \"\"\n",
    "        else:\n",
    "            result = [1 for i in range(len(S))]\n",
    "            #print(result)\n",
    "            index_odd,index_even = 0,1\n",
    "            for i in target_list:\n",
    "                while S_dict[i[0]] > 0:\n",
    "                    if index_odd >= len(S):\n",
    "                        break\n",
    "                    result[index_odd] = i[0]\n",
    "                    S_dict[i[0]] -= 1\n",
    "                    index_odd += 2\n",
    "            for i in target_list:\n",
    "                while S_dict[i[0]] > 0:\n",
    "                    if index_even >= len(S):\n",
    "                        break\n",
    "                    result[index_even] = i[0]\n",
    "                    S_dict[i[0]] -= 1\n",
    "                    index_even += 2\n",
    "            return \"\".join(result)\n",
    "\n",
    "        \n",
    "A = Solution()\n",
    "print(A.reorganizeString(\"aab\"))\n",
    "print(A.reorganizeString(\"abbabbaaab\"))\n",
    "print(A.reorganizeString(\"vvvlo\"))\n"
   ]
  },
  {
   "cell_type": "code",
   "execution_count": null,
   "metadata": {},
   "outputs": [],
   "source": []
  },
  {
   "cell_type": "code",
   "execution_count": null,
   "metadata": {},
   "outputs": [],
   "source": []
  }
 ],
 "metadata": {
  "kernelspec": {
   "display_name": "Python 3",
   "language": "python",
   "name": "python3"
  },
  "language_info": {
   "codemirror_mode": {
    "name": "ipython",
    "version": 3
   },
   "file_extension": ".py",
   "mimetype": "text/x-python",
   "name": "python",
   "nbconvert_exporter": "python",
   "pygments_lexer": "ipython3",
   "version": "3.7.4"
  }
 },
 "nbformat": 4,
 "nbformat_minor": 2
}
