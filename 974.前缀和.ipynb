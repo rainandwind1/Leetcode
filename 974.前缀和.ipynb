{
 "cells": [
  {
   "cell_type": "code",
   "execution_count": null,
   "metadata": {},
   "outputs": [],
   "source": [
    "class Solution(object):\n",
    "    def subarraysDivByK(self, A, K):\n",
    "        \"\"\"\n",
    "        :type A: List[int]\n",
    "        :type K: int\n",
    "        :rtype: int\n",
    "        \"\"\"\n",
    "        # 超时\n",
    "        # res = 0\n",
    "        # for i in range(len(A)):\n",
    "        #     s = A[i]\n",
    "        #     if s % K == 0:\n",
    "        #         res += 1\n",
    "        #     for j in range(i + 1, len(A)):\n",
    "        #         s += A[j]\n",
    "        #         if s % K == 0:\n",
    "        #             res += 1\n",
    "        # return res\n",
    "        \n",
    "        # 前缀和\n",
    "        d = {0: 1}\n",
    "        s, res = 0, 0\n",
    "        for a in A:\n",
    "            s += a\n",
    "            res += d.get(s % K, 0)\n",
    "            d[s % K] = d.get(s % K, 0) + 1\n",
    "        return res\n",
    "        "
   ]
  }
 ],
 "metadata": {
  "kernelspec": {
   "display_name": "Python 3",
   "language": "python",
   "name": "python3"
  },
  "language_info": {
   "codemirror_mode": {
    "name": "ipython",
    "version": 3
   },
   "file_extension": ".py",
   "mimetype": "text/x-python",
   "name": "python",
   "nbconvert_exporter": "python",
   "pygments_lexer": "ipython3",
   "version": "3.7.4"
  }
 },
 "nbformat": 4,
 "nbformat_minor": 2
}
