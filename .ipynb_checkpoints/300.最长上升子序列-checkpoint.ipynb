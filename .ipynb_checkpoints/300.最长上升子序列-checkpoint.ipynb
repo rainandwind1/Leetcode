{
 "cells": [
  {
   "cell_type": "code",
   "execution_count": null,
   "metadata": {},
   "outputs": [],
   "source": [
    "class Solution(object):\n",
    "    def lengthOfLIS(self, nums):\n",
    "        \"\"\"\n",
    "        :type nums: List[int]\n",
    "        :rtype: int\n",
    "        \"\"\"\n",
    "        if len(nums) <= 1:\n",
    "            return len(nums)\n",
    "        max_len = 1\n",
    "        index_s = 0\n",
    "        index_e = 1\n",
    "        while index_e < len(nums):\n",
    "            if nums[index_e] > nums[index_e - 1]:\n",
    "                index_e += 1\n",
    "            else:\n",
    "                max_len = max(max_len, index_e - index_s)\n",
    "                index_s = index_e\n",
    "                index_e += 1\n",
    "        max_len = max(max_len, index_e - index_s)      \n",
    "        return max_len"
   ]
  },
  {
   "cell_type": "code",
   "execution_count": 1,
   "metadata": {},
   "outputs": [
    {
     "name": "stdout",
     "output_type": "stream",
     "text": [
      "2\n"
     ]
    }
   ],
   "source": [
    "class Solution(object):\n",
    "    def lengthOfLIS(self, nums):\n",
    "        \"\"\"\n",
    "        :type nums: List[int]\n",
    "        :rtype: int\n",
    "        \"\"\"\n",
    "        max_len = 0\n",
    "        for i in range(len(nums)):\n",
    "            l = 1\n",
    "            res = nums[i]\n",
    "            for j in range(i + 1,len(nums)):\n",
    "                if nums[j] > res:\n",
    "                    l += 1\n",
    "                    res = nums[j]\n",
    "            max_len = max(max_len, l)\n",
    "        return max_len\n",
    "            \n",
    "A = Solution()\n",
    "print(A.lengthOfLIS([10,9,2,5,3,4]))"
   ]
  },
  {
   "cell_type": "code",
   "execution_count": null,
   "metadata": {},
   "outputs": [],
   "source": [
    "class Solution(object):\n",
    "    def lengthOfLIS(self, nums):\n",
    "        \"\"\"\n",
    "        :type nums: List[int]\n",
    "        :rtype: int\n",
    "        \"\"\"\n",
    "        if not nums:\n",
    "            return 0\n",
    "        dp = [1]*len(nums)\n",
    "        for i in range(len(nums)):\n",
    "            for j in range(i):\n",
    "                if nums[i] > nums[j]:\n",
    "                    dp[i] = max(dp[i], dp[j] + 1)\n",
    "        return max(dp)"
   ]
  }
 ],
 "metadata": {
  "kernelspec": {
   "display_name": "Python 3",
   "language": "python",
   "name": "python3"
  },
  "language_info": {
   "codemirror_mode": {
    "name": "ipython",
    "version": 3
   },
   "file_extension": ".py",
   "mimetype": "text/x-python",
   "name": "python",
   "nbconvert_exporter": "python",
   "pygments_lexer": "ipython3",
   "version": "3.7.4"
  }
 },
 "nbformat": 4,
 "nbformat_minor": 2
}
