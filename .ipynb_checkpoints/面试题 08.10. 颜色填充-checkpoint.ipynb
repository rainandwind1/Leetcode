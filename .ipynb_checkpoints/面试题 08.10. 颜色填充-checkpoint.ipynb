{
 "cells": [
  {
   "cell_type": "code",
   "execution_count": null,
   "metadata": {},
   "outputs": [],
   "source": [
    "class Solution(object):\n",
    "    def floodFill(self, image, sr, sc, newColor):\n",
    "        \"\"\"\n",
    "        :type image: List[List[int]]\n",
    "        :type sr: int\n",
    "        :type sc: int\n",
    "        :type newColor: int\n",
    "        :rtype: List[List[int]]\n",
    "        \"\"\"\n",
    "        l = len(image)\n",
    "        w = len(image[0])\n",
    "        color = newColor\n",
    "        src_color = image[sr][sc]\n",
    "        if color == src_color:\n",
    "            return image\n",
    "        def paint_color(r, c):\n",
    "            if image[r][c] == src_color:\n",
    "                image[r][c] = color\n",
    "                # 上\n",
    "                if r - 1 >= 0:\n",
    "                    paint_color(r - 1, c)\n",
    "                # 下\n",
    "                if r + 1 < l:\n",
    "                    paint_color(r + 1, c)\n",
    "                # 左\n",
    "                if c - 1 >= 0:\n",
    "                    paint_color(r, c - 1)\n",
    "                # 右\n",
    "                if c + 1 < w:\n",
    "                    paint_color(r, c + 1)\n",
    "        paint_color(sr, sc)\n",
    "        return image\n",
    "            "
   ]
  },
  {
   "cell_type": "code",
   "execution_count": null,
   "metadata": {},
   "outputs": [],
   "source": [
    "class Solution(object):\n",
    "    def floodFill(self, image, sr, sc, newColor):\n",
    "        \"\"\"\n",
    "        :type image: List[List[int]]\n",
    "        :type sr: int\n",
    "        :type sc: int\n",
    "        :type newColor: int\n",
    "        :rtype: List[List[int]]\n",
    "        \"\"\"\n",
    "        l = len(image)\n",
    "        w = len(image[0])\n",
    "        color = newColor\n",
    "        src_color = image[sr][sc]\n",
    "        if color == src_color:\n",
    "            return image\n",
    "        def paint_color(r, c):\n",
    "            if r < 0 or r >= l or c < 0 or c >= w:\n",
    "                return\n",
    "            if image[r][c] == src_color:\n",
    "                image[r][c] = color\n",
    "                paint_color(r - 1, c)\n",
    "                paint_color(r + 1, c)\n",
    "                paint_color(r, c - 1)\n",
    "                paint_color(r, c + 1)\n",
    "        paint_color(sr, sc)\n",
    "        return image\n",
    "            "
   ]
  }
 ],
 "metadata": {
  "kernelspec": {
   "display_name": "Python 3",
   "language": "python",
   "name": "python3"
  },
  "language_info": {
   "codemirror_mode": {
    "name": "ipython",
    "version": 3
   },
   "file_extension": ".py",
   "mimetype": "text/x-python",
   "name": "python",
   "nbconvert_exporter": "python",
   "pygments_lexer": "ipython3",
   "version": "3.7.4"
  }
 },
 "nbformat": 4,
 "nbformat_minor": 2
}
