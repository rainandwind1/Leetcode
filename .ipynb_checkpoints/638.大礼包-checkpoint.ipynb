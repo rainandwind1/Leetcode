{
 "cells": [
  {
   "cell_type": "code",
   "execution_count": null,
   "metadata": {},
   "outputs": [],
   "source": [
    "class Solution(object):\n",
    "    def shoppingOffers(self, price, special, needs):\n",
    "        \"\"\"\n",
    "        :type price: List[int]\n",
    "        :type special: List[List[int]]\n",
    "        :type needs: List[int]\n",
    "        :rtype: int\n",
    "        \"\"\"\n",
    "        \n",
    "        \n",
    "        \n",
    "        \n",
    "A = Solution()\n",
    "print(A.shoppingOffers([2,5], [[3,0,5],[1,2,10]], [3,2]))\n",
    "print(A.shoppingOffers([2,3,4], [[1,1,0,4],[2,2,1,9]], [1,2,1]))"
   ]
  }
 ],
 "metadata": {
  "kernelspec": {
   "display_name": "Python 3",
   "language": "python",
   "name": "python3"
  },
  "language_info": {
   "codemirror_mode": {
    "name": "ipython",
    "version": 3
   },
   "file_extension": ".py",
   "mimetype": "text/x-python",
   "name": "python",
   "nbconvert_exporter": "python",
   "pygments_lexer": "ipython3",
   "version": "3.7.4"
  }
 },
 "nbformat": 4,
 "nbformat_minor": 2
}
