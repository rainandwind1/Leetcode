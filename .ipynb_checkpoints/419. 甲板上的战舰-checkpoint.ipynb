{
 "cells": [
  {
   "cell_type": "code",
   "execution_count": null,
   "metadata": {},
   "outputs": [],
   "source": [
    "class dsu:\n",
    "    def __init__(self, w, l):\n",
    "        self.res = [[(i, j) for j in range(w)] for i in range(l)]\n",
    "        \n",
    "    def find(self, i, j):\n",
    "        if self.res[i][j] != (i , j):\n",
    "            return self.find(self.res[i][j][0],self.res[i][j][1])\n",
    "        return (i, j)\n",
    "    \n",
    "    def union(self, x1, y1, x2, y2):\n",
    "        t1 = self.find(x1, y1)\n",
    "        t2 = self.find(x2, y2)\n",
    "        self.res[t1[0]][t1[1]] = t2\n",
    "            \n",
    "\n",
    "class Solution(object):\n",
    "    def countBattleships(self, board):\n",
    "        \"\"\"\n",
    "        :type board: List[List[str]]\n",
    "        :rtype: int\n",
    "        \"\"\"\n",
    "        w = len(board[0])\n",
    "        l = len(board)\n",
    "        ds = dsu(w, l)\n",
    "        for i in range(l):\n",
    "            for j in range(w):\n",
    "                if board[i][j] == 'X':\n",
    "                    # 上\n",
    "                    if i - 1 >= 0:\n",
    "                        if board[i - 1][j] == \"X\":\n",
    "                            ds.union(i, j, i-1, j)\n",
    "                    # 下\n",
    "                    if i + 1 < l:\n",
    "                        if board[i + 1][j] == \"X\":\n",
    "                            ds.union(i, j, i+1, j)\n",
    "\n",
    "                    # 左\n",
    "                    if j - 1 >= 0:\n",
    "                        if board[i][j - 1] == \"X\":\n",
    "                            ds.union(i, j, i, j - 1)\n",
    "                    \n",
    "                    # 右\n",
    "                    if j + 1 < w:\n",
    "                        if board[i][j + 1] == \"X\":\n",
    "                            ds.union(i, j, i, j + 1)\n",
    "        res = 0\n",
    "        for i in range(l):\n",
    "            for j in range(w):\n",
    "                if board[i][j] == 'X' and ds.find(i, j) == (i, j):\n",
    "                    res += 1\n",
    "                    \n",
    "        return res\n",
    "        "
   ]
  }
 ],
 "metadata": {
  "kernelspec": {
   "display_name": "Python 3",
   "language": "python",
   "name": "python3"
  },
  "language_info": {
   "codemirror_mode": {
    "name": "ipython",
    "version": 3
   },
   "file_extension": ".py",
   "mimetype": "text/x-python",
   "name": "python",
   "nbconvert_exporter": "python",
   "pygments_lexer": "ipython3",
   "version": "3.7.4"
  }
 },
 "nbformat": 4,
 "nbformat_minor": 2
}
