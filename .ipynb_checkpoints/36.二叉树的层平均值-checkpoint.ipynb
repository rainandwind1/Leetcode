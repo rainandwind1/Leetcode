{
 "cells": [
  {
   "cell_type": "code",
   "execution_count": null,
   "metadata": {},
   "outputs": [],
   "source": [
    "class Solution(object):\n",
    "    def averageOfLevels(self, root):\n",
    "        \"\"\"\n",
    "        :type root: TreeNode\n",
    "        :rtype: List[float]\n",
    "        \"\"\"\n",
    "        res = []\n",
    "        a = []\n",
    "        def search_tree(root, depth):\n",
    "            if not root:\n",
    "                return\n",
    "            if depth > len(res) - 1:\n",
    "                res.append([])\n",
    "            res[depth].append(root.val)\n",
    "            search_tree(root.left,depth+1)\n",
    "            search_tree(root.right,depth+1)\n",
    "        search_tree(root,0)\n",
    "        for i in res:\n",
    "            a.append(sum(i)/float(len(i)))\n",
    "        return a"
   ]
  }
 ],
 "metadata": {
  "kernelspec": {
   "display_name": "Python 3",
   "language": "python",
   "name": "python3"
  },
  "language_info": {
   "codemirror_mode": {
    "name": "ipython",
    "version": 3
   },
   "file_extension": ".py",
   "mimetype": "text/x-python",
   "name": "python",
   "nbconvert_exporter": "python",
   "pygments_lexer": "ipython3",
   "version": "3.7.4"
  }
 },
 "nbformat": 4,
 "nbformat_minor": 2
}
