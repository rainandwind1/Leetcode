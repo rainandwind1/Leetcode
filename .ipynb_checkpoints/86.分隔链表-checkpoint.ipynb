{
 "cells": [
  {
   "cell_type": "code",
   "execution_count": null,
   "metadata": {},
   "outputs": [],
   "source": [
    "# Definition for singly-linked list.\n",
    "class ListNode(object):\n",
    "    def __init__(self, x):\n",
    "        self.val = x\n",
    "        self.next = None\n",
    "\n",
    "class Solution(object):\n",
    "    def partition(self, head, x):\n",
    "        \"\"\"\n",
    "        :type head: ListNode\n",
    "        :type x: int\n",
    "        :rtype: ListNode\n",
    "        \"\"\"\n",
    "        left_o = ListNode(-1)\n",
    "        right_o = ListNode(-1)\n",
    "        index = x\n",
    "        def search(x,left,right):\n",
    "            # print(left.val)\n",
    "            if x is None:\n",
    "                left.next = right_o.next\n",
    "                return\n",
    "            if x.val < index:\n",
    "                p = ListNode(x.val)\n",
    "                left.next = p\n",
    "                search(x.next,p,right) \n",
    "            elif x.val >= index:\n",
    "                p = ListNode(x.val)\n",
    "                right.next = p\n",
    "                search(x.next,left,p)\n",
    "        search(head,left_o,right_o)\n",
    "        return left_o.next\n"
   ]
  }
 ],
 "metadata": {
  "kernelspec": {
   "display_name": "Python 3",
   "language": "python",
   "name": "python3"
  },
  "language_info": {
   "codemirror_mode": {
    "name": "ipython",
    "version": 3
   },
   "file_extension": ".py",
   "mimetype": "text/x-python",
   "name": "python",
   "nbconvert_exporter": "python",
   "pygments_lexer": "ipython3",
   "version": "3.7.4"
  }
 },
 "nbformat": 4,
 "nbformat_minor": 2
}
