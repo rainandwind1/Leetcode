{
 "cells": [
  {
   "cell_type": "code",
   "execution_count": null,
   "metadata": {},
   "outputs": [],
   "source": [
    "import copy\n",
    "class Solution(object):\n",
    "    def findOrder(self, numCourses, prerequisites):\n",
    "        \"\"\"\n",
    "        :type numCourses: int\n",
    "        :type prerequisites: List[List[int]]\n",
    "        :rtype: List[int]\n",
    "        \"\"\"\n",
    "        t = [0] * numCourses\n",
    "        d = [[] for _ in range(numCourses)]\n",
    "        for i, j in prerequisites:\n",
    "            t[i] += 1\n",
    "            d[j].append(i)\n",
    "        q = [i for i, j in enumerate(t) if not j]\n",
    "        ans = copy.copy(q)\n",
    "        while q:\n",
    "            p = []\n",
    "            for i in q:\n",
    "                for j in d[i]:\n",
    "                    t[j] -= 1\n",
    "                    not t[j] and p.append(j)\n",
    "            ans.extend(p)\n",
    "            q = p\n",
    "        return not any(t) and ans or []\n",
    "                    \n",
    "        "
   ]
  }
 ],
 "metadata": {
  "kernelspec": {
   "display_name": "Python 3",
   "language": "python",
   "name": "python3"
  },
  "language_info": {
   "codemirror_mode": {
    "name": "ipython",
    "version": 3
   },
   "file_extension": ".py",
   "mimetype": "text/x-python",
   "name": "python",
   "nbconvert_exporter": "python",
   "pygments_lexer": "ipython3",
   "version": "3.7.4"
  }
 },
 "nbformat": 4,
 "nbformat_minor": 2
}
