{
 "cells": [
  {
   "cell_type": "code",
   "execution_count": 3,
   "metadata": {},
   "outputs": [
    {
     "name": "stdout",
     "output_type": "stream",
     "text": [
      "[3, 4, 5, 6]\n"
     ]
    }
   ],
   "source": [
    "# 超时\n",
    "class Solution(object):\n",
    "    def divingBoard(self, shorter, longer, k):\n",
    "        \"\"\"\n",
    "        :type shorter: int\n",
    "        :type longer: int\n",
    "        :type k: int\n",
    "        :rtype: List[int]\n",
    "        \"\"\"\n",
    "        length_list = []\n",
    "        if k = 0:\n",
    "            return []\n",
    "        for i in range(k+1):\n",
    "            length = i*shorter + (k-i)*longer\n",
    "            if length not in length_list:\n",
    "                length_list.append(length)\n",
    "        return sorted(length_list)\n",
    "        \n",
    "        \n",
    "        \n",
    "A = Solution()\n",
    "print(A.divingBoard(1,2,3))"
   ]
  },
  {
   "cell_type": "code",
   "execution_count": 6,
   "metadata": {},
   "outputs": [
    {
     "name": "stdout",
     "output_type": "stream",
     "text": [
      "[3, 4, 5, 6]\n"
     ]
    }
   ],
   "source": [
    "class Solution(object):\n",
    "    def divingBoard(self, shorter, longer, k):\n",
    "        \"\"\"\n",
    "        :type shorter: int\n",
    "        :type longer: int\n",
    "        :type k: int\n",
    "        :rtype: List[int]\n",
    "        \"\"\"\n",
    "        length_list = []\n",
    "        delta = longer-shorter\n",
    "        if k == 0:\n",
    "            return []\n",
    "        if delta == 0:\n",
    "            return [k*shorter]\n",
    "        for i in range(k+1):\n",
    "            length_list.append(k*shorter + i*delta)\n",
    "        return length_list\n",
    "        \n",
    "        \n",
    "        \n",
    "        \n",
    "A = Solution()\n",
    "print(A.divingBoard(1,2,3))"
   ]
  },
  {
   "cell_type": "code",
   "execution_count": null,
   "metadata": {},
   "outputs": [],
   "source": []
  }
 ],
 "metadata": {
  "kernelspec": {
   "display_name": "Python 3",
   "language": "python",
   "name": "python3"
  },
  "language_info": {
   "codemirror_mode": {
    "name": "ipython",
    "version": 3
   },
   "file_extension": ".py",
   "mimetype": "text/x-python",
   "name": "python",
   "nbconvert_exporter": "python",
   "pygments_lexer": "ipython3",
   "version": "3.7.4"
  }
 },
 "nbformat": 4,
 "nbformat_minor": 2
}
