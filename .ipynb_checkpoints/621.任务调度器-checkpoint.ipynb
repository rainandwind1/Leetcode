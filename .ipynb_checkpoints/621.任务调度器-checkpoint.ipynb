{
 "cells": [
  {
   "cell_type": "code",
   "execution_count": 6,
   "metadata": {},
   "outputs": [
    {
     "name": "stdout",
     "output_type": "stream",
     "text": [
      "{'1', 'A', 'B'}\n"
     ]
    }
   ],
   "source": [
    "A = [\"A\",\"A\",\"A\",\"B\",\"B\",\"B\"]\n",
    "t_set = set(A)\n",
    "t_set.add('1')\n",
    "print(t_set)"
   ]
  },
  {
   "cell_type": "code",
   "execution_count": null,
   "metadata": {},
   "outputs": [],
   "source": [
    "from collections import deque\n",
    "class Solution(object):\n",
    "    def leastInterval(self, tasks, n):\n",
    "        \"\"\"\n",
    "        :type tasks: List[str]\n",
    "        :type n: int\n",
    "        :rtype: int\n",
    "        \"\"\"\n",
    "        if n == 0:\n",
    "            return len(tasks)\n",
    "        num = 0\n",
    "        index = len(tasks)\n",
    "        res = deque(maxlen=n)\n",
    "        t_set = set(tasks)\n",
    "        t_set.add('1')\n",
    "        set_len = len(t_set)\n",
    "        while index > 0:\n",
    "            for i in t_set:\n",
    "                if i not in res:\n",
    "                    res.appendleft(i)\n",
    "                    if i is not '1':\n",
    "                        index -= 1\n",
    "                    elif set_len < n:\n",
    "                        for j in range(n - set_len + 2):\n",
    "                            res.appendleft('1')\n",
    "                        num += n - set_len + 2\n",
    "        return num + len(tasks) - 1\n",
    "\n",
    "A= Solution()\n",
    "print(A.leastInterval([\"A\",\"A\",\"A\",\"B\",\"B\",\"B\"],50))"
   ]
  },
  {
   "cell_type": "code",
   "execution_count": null,
   "metadata": {},
   "outputs": [],
   "source": [
    "class Solution(object):\n",
    "    def leastInterval(self, tasks, n):\n",
    "        \"\"\"\n",
    "        :type tasks: List[str]\n",
    "        :type n: int\n",
    "        :rtype: int\n",
    "        \"\"\"\n",
    "        if n == 0:\n",
    "            return len(tasks)\n",
    "        \n",
    "\n",
    "A= Solution()\n",
    "print(A.leastInterval([\"A\",\"A\",\"A\",\"B\",\"B\",\"B\"],2))"
   ]
  },
  {
   "cell_type": "code",
   "execution_count": null,
   "metadata": {},
   "outputs": [],
   "source": []
  }
 ],
 "metadata": {
  "kernelspec": {
   "display_name": "Python 3",
   "language": "python",
   "name": "python3"
  },
  "language_info": {
   "codemirror_mode": {
    "name": "ipython",
    "version": 3
   },
   "file_extension": ".py",
   "mimetype": "text/x-python",
   "name": "python",
   "nbconvert_exporter": "python",
   "pygments_lexer": "ipython3",
   "version": "3.7.4"
  }
 },
 "nbformat": 4,
 "nbformat_minor": 2
}
