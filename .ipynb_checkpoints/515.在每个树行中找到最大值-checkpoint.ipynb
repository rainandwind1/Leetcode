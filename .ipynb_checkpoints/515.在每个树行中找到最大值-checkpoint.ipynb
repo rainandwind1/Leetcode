{
 "cells": [
  {
   "cell_type": "code",
   "execution_count": null,
   "metadata": {},
   "outputs": [],
   "source": [
    "class Solution(object):\n",
    "    def largestValues(self, root):\n",
    "        \"\"\"\n",
    "        :type root: TreeNode\n",
    "        :rtype: List[int]\n",
    "        \"\"\"\n",
    "        res = []\n",
    "        result = []\n",
    "        def search_node(head,depth):\n",
    "            if not head:\n",
    "                return\n",
    "            if len(res) < depth+1:\n",
    "                res.append([])\n",
    "            res[depth].append(head.val)\n",
    "            search_node(head.left,depth+1)\n",
    "            search_node(head.right,depth+1)\n",
    "        search_node(root,0)\n",
    "        for i in res:\n",
    "            result.append(max(i))\n",
    "        return result"
   ]
  }
 ],
 "metadata": {
  "kernelspec": {
   "display_name": "Python 3",
   "language": "python",
   "name": "python3"
  },
  "language_info": {
   "codemirror_mode": {
    "name": "ipython",
    "version": 3
   },
   "file_extension": ".py",
   "mimetype": "text/x-python",
   "name": "python",
   "nbconvert_exporter": "python",
   "pygments_lexer": "ipython3",
   "version": "3.7.4"
  }
 },
 "nbformat": 4,
 "nbformat_minor": 2
}
