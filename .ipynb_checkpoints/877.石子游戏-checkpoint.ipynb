{
 "cells": [
  {
   "cell_type": "code",
   "execution_count": 5,
   "metadata": {},
   "outputs": [
    {
     "name": "stdout",
     "output_type": "stream",
     "text": [
      "True\n"
     ]
    }
   ],
   "source": [
    "class Solution(object):\n",
    "    def stoneGame(self, piles):\n",
    "        \"\"\"\n",
    "        :type piles: List[int]\n",
    "        :rtype: bool\n",
    "        \"\"\"\n",
    "        l = len(piles)\n",
    "        dp = [[0 for i in range(l)]for j in range(l)]\n",
    "        for length in range(1,l+1):  # 总长度从 1 到 l 遍历\n",
    "            for i in range(0,l-length+1): # 在长度 length 下 开头位置 i 可以取到的位置\n",
    "                j = i + length - 1        # 结尾的指针\n",
    "                if length == 1:\n",
    "                    dp[i][j] = piles[i]\n",
    "                elif length == 2:\n",
    "                    dp[i][j] = abs(piles[i] - piles[j]) \n",
    "                else:\n",
    "                    dp[i][j] = max(piles[i] - dp[i+1][j],piles[j] - dp[i][j - 1])\n",
    "        if dp[0][l - 1] >= 0:\n",
    "            return True\n",
    "        return False\n",
    "        \n",
    "        \n",
    "A = Solution()\n",
    "print(A.stoneGame([5,3,4,5]))"
   ]
  },
  {
   "cell_type": "code",
   "execution_count": null,
   "metadata": {},
   "outputs": [],
   "source": []
  },
  {
   "cell_type": "code",
   "execution_count": null,
   "metadata": {},
   "outputs": [],
   "source": []
  }
 ],
 "metadata": {
  "kernelspec": {
   "display_name": "Python 3",
   "language": "python",
   "name": "python3"
  },
  "language_info": {
   "codemirror_mode": {
    "name": "ipython",
    "version": 3
   },
   "file_extension": ".py",
   "mimetype": "text/x-python",
   "name": "python",
   "nbconvert_exporter": "python",
   "pygments_lexer": "ipython3",
   "version": "3.7.4"
  }
 },
 "nbformat": 4,
 "nbformat_minor": 2
}
