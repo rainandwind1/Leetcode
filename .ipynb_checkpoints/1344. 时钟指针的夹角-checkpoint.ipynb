{
 "cells": [
  {
   "cell_type": "code",
   "execution_count": null,
   "metadata": {},
   "outputs": [],
   "source": [
    "class Solution(object):\n",
    "    def angleClock(self, hour, minutes):\n",
    "        \"\"\"\n",
    "        :type hour: int\n",
    "        :type minutes: int\n",
    "        :rtype: float\n",
    "        \"\"\"\n",
    "        minu_index = minutes*6.\n",
    "        hou_index = (hour%12.)*30. + minutes/2.\n",
    "        angle = abs(minu_index - hou_index)\n",
    "        if angle >= 180:\n",
    "            return 360-angle\n",
    "        else:\n",
    "            return angle"
   ]
  }
 ],
 "metadata": {
  "kernelspec": {
   "display_name": "Python 3",
   "language": "python",
   "name": "python3"
  },
  "language_info": {
   "codemirror_mode": {
    "name": "ipython",
    "version": 3
   },
   "file_extension": ".py",
   "mimetype": "text/x-python",
   "name": "python",
   "nbconvert_exporter": "python",
   "pygments_lexer": "ipython3",
   "version": "3.7.4"
  }
 },
 "nbformat": 4,
 "nbformat_minor": 2
}
