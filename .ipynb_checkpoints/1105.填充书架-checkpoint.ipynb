{
 "cells": [
  {
   "cell_type": "code",
   "execution_count": 12,
   "metadata": {},
   "outputs": [
    {
     "name": "stdout",
     "output_type": "stream",
     "text": [
      "6\n"
     ]
    }
   ],
   "source": [
    "# 动态规划，用 dp[i] 表示放置前 i 本书所需要的书架最小高度，\n",
    "# 初始值 dp[0] = 0，其他为最大值 1000*1000。遍历每一本书，\n",
    "# 把当前这本书作为书架最后一层的最后一本书，将这本书之前的\n",
    "# 书向后调整，看看是否可以减少之前的书架高度。状态转移方程为\n",
    "# dp[i] = min(dp[i] , dp[j - 1] + h)，其中 j 表示最后一层所能容\n",
    "# 下书籍的索引，h 表示最后一层最大高度。\n",
    "\n",
    "\n",
    "class Solution(object):\n",
    "    def minHeightShelves(self, books, shelf_width):\n",
    "        \"\"\"\n",
    "        :type books: List[List[int]]\n",
    "        :type shelf_width: int\n",
    "        :rtype: int\n",
    "        \"\"\"\n",
    "        H = [1000000 for i in range(len(books) + 1)]\n",
    "        H[0] = 0\n",
    "        for i in range(1,len(books)+1):\n",
    "            tmp_width,j,h = 0, i ,0\n",
    "            while j > 0:\n",
    "                tmp_width += books[j-1][0]\n",
    "                if tmp_width > shelf_width:\n",
    "                    break\n",
    "                h = max(h,books[j-1][1])\n",
    "                H[i] = min(H[i],H[j-1] + h)\n",
    "                j -= 1\n",
    "        return H[-1]\n",
    "        \n",
    "        \n",
    "A = Solution()\n",
    "print(A.minHeightShelves([[1,1],[2,3],[2,3],[1,1],[1,1],[1,1],[1,2]],4))"
   ]
  },
  {
   "cell_type": "code",
   "execution_count": null,
   "metadata": {},
   "outputs": [],
   "source": []
  },
  {
   "cell_type": "code",
   "execution_count": null,
   "metadata": {},
   "outputs": [],
   "source": []
  }
 ],
 "metadata": {
  "kernelspec": {
   "display_name": "Python 3",
   "language": "python",
   "name": "python3"
  },
  "language_info": {
   "codemirror_mode": {
    "name": "ipython",
    "version": 3
   },
   "file_extension": ".py",
   "mimetype": "text/x-python",
   "name": "python",
   "nbconvert_exporter": "python",
   "pygments_lexer": "ipython3",
   "version": "3.7.4"
  }
 },
 "nbformat": 4,
 "nbformat_minor": 2
}
