{
 "cells": [
  {
   "cell_type": "code",
   "execution_count": null,
   "metadata": {},
   "outputs": [],
   "source": [
    "# Definition for a binary tree node.\n",
    "# class TreeNode(object):\n",
    "#     def __init__(self, x):\n",
    "#         self.val = x\n",
    "#         self.left = None\n",
    "#         self.right = None\n",
    "\n",
    "class Solution(object):\n",
    "    def constructMaximumBinaryTree(self, nums):\n",
    "        \"\"\"\n",
    "        :type nums: List[int]\n",
    "        :rtype: TreeNode\n",
    "        \"\"\"\n",
    "        pre = TreeNode(None)                  \n",
    "        def find_max(ls,head):\n",
    "            if ls:\n",
    "                max_index = ls.index(max(ls))\n",
    "                head.val = ls[max_index]\n",
    "                left = TreeNode(None)\n",
    "                head.left = find_max(ls[:max_index],left)\n",
    "                right = TreeNode(None)\n",
    "                head.right = find_max(ls[max_index+1:],right)\n",
    "                return head\n",
    "            else:\n",
    "                return\n",
    "        return find_max(nums,pre)\n",
    "    \n",
    "A = Solution()\n",
    "print(A.constructMaximumBinaryTree())"
   ]
  }
 ],
 "metadata": {
  "kernelspec": {
   "display_name": "Python 3",
   "language": "python",
   "name": "python3"
  },
  "language_info": {
   "codemirror_mode": {
    "name": "ipython",
    "version": 3
   },
   "file_extension": ".py",
   "mimetype": "text/x-python",
   "name": "python",
   "nbconvert_exporter": "python",
   "pygments_lexer": "ipython3",
   "version": "3.7.4"
  }
 },
 "nbformat": 4,
 "nbformat_minor": 2
}
