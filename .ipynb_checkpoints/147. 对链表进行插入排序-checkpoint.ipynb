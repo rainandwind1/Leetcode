{
 "cells": [
  {
   "cell_type": "code",
   "execution_count": null,
   "metadata": {},
   "outputs": [],
   "source": [
    "# 超时\n",
    "class Solution(object):\n",
    "    def __init__(self):\n",
    "        self.pre = ListNode(None)\n",
    "    def insertionSortList(self, head):\n",
    "        \"\"\"\n",
    "        :type head: ListNode\n",
    "        :rtype: ListNode\n",
    "        \"\"\"\n",
    "        def insert_node(pre,head,node):\n",
    "            if not head:\n",
    "                self.pre.next = node\n",
    "                return\n",
    "            if head.val < node.val:\n",
    "                if head.next:\n",
    "                    insert_node(head,head.next,node)\n",
    "                else:\n",
    "                    head.next = node\n",
    "                    return\n",
    "            else:\n",
    "                node.next = head\n",
    "                pre.next = node\n",
    "                return\n",
    "        def search_node(head):\n",
    "            if not head:\n",
    "                return\n",
    "            new_node = ListNode(head.val)\n",
    "            insert_node(self.pre,self.pre.next,new_node)\n",
    "            search_node(head.next)\n",
    "        search_node(head)\n",
    "        return self.pre.next\n"
   ]
  },
  {
   "cell_type": "code",
   "execution_count": null,
   "metadata": {},
   "outputs": [],
   "source": [
    "class Solution(object):\n",
    "    \n",
    "    def smaller(self, lstHead, node):\n",
    "        p, q = lstHead, lstHead.next\n",
    "        while q and q.val <= node.val:\n",
    "            p, q =  q, p.next\n",
    "        return p\n",
    "    \n",
    "    def insertionSortList(self, head):\n",
    "        lstHead = ListNode(-float('inf'))\n",
    "        lstHead.next = head\n",
    "        p,q = lstHead, lstHead.next\n",
    "        while q:\n",
    "            if p.val <= q.val:\n",
    "                p,q = q, q.next\n",
    "                continue\n",
    "            pp = self.smaller(lstHead,q)\n",
    "            pp.next, q.next, p.next = q, pp.next, q.next\n",
    "            q = p.next\n",
    "        return lstHead.next"
   ]
  }
 ],
 "metadata": {
  "kernelspec": {
   "display_name": "Python 3",
   "language": "python",
   "name": "python3"
  },
  "language_info": {
   "codemirror_mode": {
    "name": "ipython",
    "version": 3
   },
   "file_extension": ".py",
   "mimetype": "text/x-python",
   "name": "python",
   "nbconvert_exporter": "python",
   "pygments_lexer": "ipython3",
   "version": "3.7.4"
  }
 },
 "nbformat": 4,
 "nbformat_minor": 2
}
