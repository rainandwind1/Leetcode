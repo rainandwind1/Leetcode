{
 "cells": [
  {
   "cell_type": "code",
   "execution_count": 1,
   "metadata": {},
   "outputs": [
    {
     "name": "stdout",
     "output_type": "stream",
     "text": [
      "3\n"
     ]
    }
   ],
   "source": [
    "a = \"122121\"\n",
    "print(a.count('1'))"
   ]
  },
  {
   "cell_type": "code",
   "execution_count": null,
   "metadata": {},
   "outputs": [],
   "source": [
    "class Solution():\n",
    "    def countDigitOne(self, n):\n",
    "        if n <= 0:\n",
    "            return 0\n",
    "        num_s = str(n)\n",
    "        high = int(num_s[0])\n",
    "        Pow = 10**(len(num_s)-1)\n",
    "        last = n - high*Pow\n",
    "        \n",
    "        if high == 1:\n",
    "            return self.countDigitOne(Pow-1) + self.countDigitOne(last) + last + 1\n",
    "        else:\n",
    "            return Pow + high*self.countDigitOne(Pow-1) + self.countDigitOne(last)\n",
    "        "
   ]
  }
 ],
 "metadata": {
  "kernelspec": {
   "display_name": "Python 3",
   "language": "python",
   "name": "python3"
  },
  "language_info": {
   "codemirror_mode": {
    "name": "ipython",
    "version": 3
   },
   "file_extension": ".py",
   "mimetype": "text/x-python",
   "name": "python",
   "nbconvert_exporter": "python",
   "pygments_lexer": "ipython3",
   "version": "3.7.4"
  }
 },
 "nbformat": 4,
 "nbformat_minor": 2
}
