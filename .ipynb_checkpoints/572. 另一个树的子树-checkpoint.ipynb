{
 "cells": [
  {
   "cell_type": "code",
   "execution_count": null,
   "metadata": {},
   "outputs": [],
   "source": [
    "# Definition for a binary tree node.\n",
    "# class TreeNode(object):\n",
    "#     def __init__(self, x):\n",
    "#         self.val = x\n",
    "#         self.left = None\n",
    "#         self.right = None\n",
    "\n",
    "class Solution(object):\n",
    "    def isSubtree(self, s, t):\n",
    "        \"\"\"\n",
    "        :type s: TreeNode\n",
    "        :type t: TreeNode\n",
    "        :rtype: bool\n",
    "        \"\"\"\n",
    "        def search_tree(n1, n2):\n",
    "            if not n1 and not n2:\n",
    "                return True\n",
    "            if (not n1 and n2) or (not n2 and n1):\n",
    "                return False\n",
    "            if n1.val != n2.val:\n",
    "                return False\n",
    "            else:\n",
    "                return search_tree(n1.left, n2.left) and search_tree(n1.right, n2.right)\n",
    "        self.res = False\n",
    "        self.flag = False\n",
    "        def search(n):\n",
    "            if not n:\n",
    "                return\n",
    "            if n.val == t.val:\n",
    "                self.res = search_tree(n, t)\n",
    "                if self.res:\n",
    "                    self.flag = True\n",
    "                    return\n",
    "            search(n.left)\n",
    "            search(n.right)\n",
    "        search(s)\n",
    "        return self.res or self.flag \n",
    "        \n",
    "            "
   ]
  }
 ],
 "metadata": {
  "kernelspec": {
   "display_name": "Python 3",
   "language": "python",
   "name": "python3"
  },
  "language_info": {
   "codemirror_mode": {
    "name": "ipython",
    "version": 3
   },
   "file_extension": ".py",
   "mimetype": "text/x-python",
   "name": "python",
   "nbconvert_exporter": "python",
   "pygments_lexer": "ipython3",
   "version": "3.7.4"
  }
 },
 "nbformat": 4,
 "nbformat_minor": 2
}
