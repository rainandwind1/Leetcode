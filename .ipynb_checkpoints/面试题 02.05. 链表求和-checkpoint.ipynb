{
 "cells": [
  {
   "cell_type": "code",
   "execution_count": null,
   "metadata": {},
   "outputs": [],
   "source": [
    "\n",
    "class Solution(object):\n",
    "    def addTwoNumbers(self, l1, l2):\n",
    "        \"\"\"\n",
    "        :type l1: ListNode\n",
    "        :type l2: ListNode\n",
    "        :rtype: ListNode\n",
    "        \"\"\"\n",
    "        n1 = 0\n",
    "        n2 = 0\n",
    "        count = 0\n",
    "        while l1:\n",
    "            n1 += l1.val*10**count\n",
    "            l1 = l1.next\n",
    "            count += 1\n",
    "        count = 0\n",
    "        while l2:\n",
    "            n2 += l2.val*10**count\n",
    "            l2 = l2.next\n",
    "            count += 1\n",
    "        res = n1+n2\n",
    "        res = str(res)\n",
    "        head = ListNode(None)\n",
    "        pre = head\n",
    "        for i in res[::-1]:\n",
    "            new_node = ListNode(int(i))\n",
    "            pre.next = new_node\n",
    "            pre = new_node\n",
    "        return head.next"
   ]
  }
 ],
 "metadata": {
  "kernelspec": {
   "display_name": "Python 3",
   "language": "python",
   "name": "python3"
  },
  "language_info": {
   "codemirror_mode": {
    "name": "ipython",
    "version": 3
   },
   "file_extension": ".py",
   "mimetype": "text/x-python",
   "name": "python",
   "nbconvert_exporter": "python",
   "pygments_lexer": "ipython3",
   "version": "3.7.4"
  }
 },
 "nbformat": 4,
 "nbformat_minor": 2
}
