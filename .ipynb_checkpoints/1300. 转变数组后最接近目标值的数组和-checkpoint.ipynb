{
 "cells": [
  {
   "cell_type": "code",
   "execution_count": 1,
   "metadata": {},
   "outputs": [
    {
     "name": "stdout",
     "output_type": "stream",
     "text": [
      "[1, 2, 3, 6]\n"
     ]
    }
   ],
   "source": [
    "a = [2,3,6,1]\n",
    "a.sort()\n",
    "print(a)"
   ]
  },
  {
   "cell_type": "code",
   "execution_count": 5,
   "metadata": {},
   "outputs": [
    {
     "name": "stdout",
     "output_type": "stream",
     "text": [
      "5\n"
     ]
    }
   ],
   "source": [
    "class Solution(object):\n",
    "    def findBestValue(self, arr, target):\n",
    "        \"\"\"\n",
    "        :type arr: List[int]\n",
    "        :type target: int\n",
    "        :rtype: int\n",
    "        \"\"\"\n",
    "        arr.sort()\n",
    "        if target/len(arr) < arr[0]:\n",
    "            return int(target / len(arr))\n",
    "        before = float('+inf')\n",
    "        index = len(arr)-1\n",
    "        for i in range(len(arr)):\n",
    "            cur = abs(sum(arr[0:i]) + arr[i]*(len(arr)-i) - target)\n",
    "            if cur < before:\n",
    "                before = cur\n",
    "                continue\n",
    "            else:\n",
    "                index = i - 1\n",
    "                break\n",
    "#         print(before, cur, index)\n",
    "        if before == 0:\n",
    "            return arr[index]\n",
    "        else:\n",
    "            s1 = sum(arr[0:index + 1])\n",
    "            return int((target - s1)/(len(arr) - index - 1)) \n",
    "        \n",
    "A = Solution()\n",
    "print(A.findBestValue([2,3,5], 10))"
   ]
  },
  {
   "cell_type": "code",
   "execution_count": null,
   "metadata": {},
   "outputs": [],
   "source": [
    "class Solution:\n",
    "    def findBestValue(self, arr: List[int], target: int) -> int:\n",
    "        arr.sort()\n",
    "        n = len(arr)\n",
    "        prefix = [0]\n",
    "        for num in arr:\n",
    "            prefix.append(prefix[-1] + num)\n",
    "        \n",
    "        r, ans, diff = max(arr), 0, target\n",
    "        for i in range(1, r + 1):\n",
    "            it = bisect.bisect_left(arr, i)\n",
    "            cur = prefix[it] + (n - it) * i\n",
    "            if abs(cur - target) < diff:\n",
    "                ans, diff = i, abs(cur - target)\n",
    "        return ans"
   ]
  }
 ],
 "metadata": {
  "kernelspec": {
   "display_name": "Python 3",
   "language": "python",
   "name": "python3"
  },
  "language_info": {
   "codemirror_mode": {
    "name": "ipython",
    "version": 3
   },
   "file_extension": ".py",
   "mimetype": "text/x-python",
   "name": "python",
   "nbconvert_exporter": "python",
   "pygments_lexer": "ipython3",
   "version": "3.7.4"
  }
 },
 "nbformat": 4,
 "nbformat_minor": 2
}
