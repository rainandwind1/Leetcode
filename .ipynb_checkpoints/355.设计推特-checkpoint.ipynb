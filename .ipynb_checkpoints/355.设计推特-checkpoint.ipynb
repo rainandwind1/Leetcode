{
 "cells": [
  {
   "cell_type": "code",
   "execution_count": 47,
   "metadata": {},
   "outputs": [
    {
     "ename": "ValueError",
     "evalue": "list.remove(x): x not in list",
     "output_type": "error",
     "traceback": [
      "\u001b[1;31m---------------------------------------------------------------------------\u001b[0m",
      "\u001b[1;31mValueError\u001b[0m                                Traceback (most recent call last)",
      "\u001b[1;32m<ipython-input-47-b148bdafc806>\u001b[0m in \u001b[0;36m<module>\u001b[1;34m\u001b[0m\n\u001b[0;32m      3\u001b[0m \u001b[1;32mif\u001b[0m \u001b[1;36m1\u001b[0m \u001b[1;32mnot\u001b[0m \u001b[1;32min\u001b[0m \u001b[0ma\u001b[0m\u001b[1;33m.\u001b[0m\u001b[0mkeys\u001b[0m\u001b[1;33m(\u001b[0m\u001b[1;33m)\u001b[0m\u001b[1;33m:\u001b[0m\u001b[1;33m\u001b[0m\u001b[1;33m\u001b[0m\u001b[0m\n\u001b[0;32m      4\u001b[0m     \u001b[0ma\u001b[0m\u001b[1;33m[\u001b[0m\u001b[1;36m1\u001b[0m\u001b[1;33m]\u001b[0m \u001b[1;33m=\u001b[0m \u001b[1;33m[\u001b[0m\u001b[1;36m1\u001b[0m\u001b[1;33m]\u001b[0m\u001b[1;33m\u001b[0m\u001b[1;33m\u001b[0m\u001b[0m\n\u001b[1;32m----> 5\u001b[1;33m \u001b[0ma\u001b[0m\u001b[1;33m[\u001b[0m\u001b[1;36m1\u001b[0m\u001b[1;33m]\u001b[0m\u001b[1;33m.\u001b[0m\u001b[0mremove\u001b[0m\u001b[1;33m(\u001b[0m\u001b[1;36m0\u001b[0m\u001b[1;33m)\u001b[0m\u001b[1;33m\u001b[0m\u001b[1;33m\u001b[0m\u001b[0m\n\u001b[0m\u001b[0;32m      6\u001b[0m \u001b[0ma\u001b[0m\u001b[1;33m\u001b[0m\u001b[1;33m\u001b[0m\u001b[0m\n\u001b[0;32m      7\u001b[0m \u001b[1;33m\u001b[0m\u001b[0m\n",
      "\u001b[1;31mValueError\u001b[0m: list.remove(x): x not in list"
     ]
    }
   ],
   "source": [
    "import collections\n",
    "a = {}\n",
    "if 1 not in a.keys():\n",
    "    a[1] = [1]\n",
    "a[1].remove(0)\n",
    "a\n",
    "\n",
    "\n",
    "b = collections.deque()\n",
    "b.appendleft(1)\n",
    "b.appendleft(2)\n",
    "for i in b:\n",
    "    print(i)\n",
    "a = (1,2)\n",
    "print(a[0])"
   ]
  },
  {
   "cell_type": "code",
   "execution_count": 49,
   "metadata": {},
   "outputs": [
    {
     "name": "stdout",
     "output_type": "stream",
     "text": [
      "deque([(1, 5)])\n",
      "[5]\n",
      "[5]\n",
      "{1: [1, 2]}\n"
     ]
    }
   ],
   "source": [
    "import collections\n",
    "class Twitter(object):\n",
    "\n",
    "    def __init__(self):\n",
    "        \"\"\"\n",
    "        Initialize your data structure here.\n",
    "        \"\"\"\n",
    "        self.follow_dict = {}\n",
    "        self.follow_self = {}\n",
    "        self.tweet_list = collections.deque()\n",
    "        \n",
    "    def postTweet(self, userId, tweetId):\n",
    "        \"\"\"\n",
    "        Compose a new tweet.\n",
    "        :type userId: int\n",
    "        :type tweetId: int\n",
    "        :rtype: None\n",
    "        \"\"\"\n",
    "        self.tweet_list.appendleft((userId,tweetId))\n",
    "        \n",
    "\n",
    "    def getNewsFeed(self, userId):\n",
    "        \"\"\"\n",
    "        Retrieve the 10 most recent tweet ids in the user's news feed. Each item in the news feed must be posted by users who the user followed or by the user herself. Tweets must be ordered from most recent to least recent.\n",
    "        :type userId: int\n",
    "        :rtype: List[int]\n",
    "        \"\"\"\n",
    "        count = 0\n",
    "        new_list = []\n",
    "        if userId not in self.follow_dict.keys():\n",
    "            self.follow_dict[userId] = [userId]\n",
    "        index_id = self.follow_dict[userId]\n",
    "        for i in self.tweet_list:\n",
    "            if i[0] in index_id or i[0] == userId:\n",
    "                new_list.append(i[1])\n",
    "                count += 1\n",
    "                if count >= 10:\n",
    "                    return new_list\n",
    "        return new_list\n",
    "        \n",
    "\n",
    "    def follow(self, followerId, followeeId):\n",
    "        \"\"\"\n",
    "        Follower follows a followee. If the operation is invalid, it should be a no-op.\n",
    "        :type followerId: int\n",
    "        :type followeeId: int\n",
    "        :rtype: None\n",
    "        \"\"\"\n",
    "        if followerId not in self.follow_dict.keys():\n",
    "            self.follow_dict[followerId] = [followerId]\n",
    "        self.follow_dict[followerId].append(followeeId)\n",
    "            \n",
    "    def unfollow(self, followerId, followeeId):\n",
    "        \"\"\"\n",
    "        Follower unfollows a followee. If the operation is invalid, it should be a no-op.\n",
    "        :type followerId: int\n",
    "        :type followeeId: int\n",
    "        :rtype: None\n",
    "        \"\"\"\n",
    "        if followerId not in self.follow_dict.keys():\n",
    "            self.follow_dict[followerId] = [followerId]\n",
    "        if followeeId in self.follow_dict[followerId]:\n",
    "            self.follow_dict[followerId].remove(followeeId)\n",
    "\n",
    "        \n",
    "obj = Twitter()\n",
    "obj.postTweet(1,5)\n",
    "print(obj.tweet_list)\n",
    "param_2 = obj.getNewsFeed(1)\n",
    "print(param_2)\n",
    "obj.unfollow(1,5)\n",
    "obj.follow(1,2)\n",
    "\n",
    "param_2 = obj.getNewsFeed(1)\n",
    "print(param_2)\n",
    "print(obj.follow_dict)"
   ]
  },
  {
   "cell_type": "code",
   "execution_count": null,
   "metadata": {},
   "outputs": [],
   "source": []
  }
 ],
 "metadata": {
  "kernelspec": {
   "display_name": "Python 3",
   "language": "python",
   "name": "python3"
  },
  "language_info": {
   "codemirror_mode": {
    "name": "ipython",
    "version": 3
   },
   "file_extension": ".py",
   "mimetype": "text/x-python",
   "name": "python",
   "nbconvert_exporter": "python",
   "pygments_lexer": "ipython3",
   "version": "3.7.4"
  }
 },
 "nbformat": 4,
 "nbformat_minor": 2
}
