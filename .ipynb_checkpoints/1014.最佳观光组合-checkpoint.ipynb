{
 "cells": [
  {
   "cell_type": "code",
   "execution_count": 3,
   "metadata": {},
   "outputs": [
    {
     "name": "stdout",
     "output_type": "stream",
     "text": [
      "11\n"
     ]
    }
   ],
   "source": [
    "# 超时了超时了啊超时了怎么说\n",
    "class Solution(object):\n",
    "    def maxScoreSightseeingPair(self, A):\n",
    "        \"\"\"\n",
    "        :type A: List[int]\n",
    "        :rtype: int\n",
    "        \"\"\"\n",
    "        max_val = float('-inf')\n",
    "        for idx, value in enumerate(A):\n",
    "            for j in range(idx + 1, len(A)):\n",
    "                max_val = max(max_val, A[idx] + A[j] + idx - j)\n",
    "        return max_val\n",
    "\n",
    "A = Solution()\n",
    "print(A.maxScoreSightseeingPair([8,1,5,2,6]))"
   ]
  },
  {
   "cell_type": "code",
   "execution_count": null,
   "metadata": {},
   "outputs": [],
   "source": [
    "class Solution(object):\n",
    "    def maxScoreSightseeingPair(self, A):\n",
    "        \"\"\"\n",
    "        :type A: List[int]\n",
    "        :rtype: int\n",
    "        \"\"\"\n",
    "        l = A[0]\n",
    "        res = float('-inf')\n",
    "        for i in range(1, len(A)):\n",
    "            res = max(res, l + A[i] - i)\n",
    "            l = max(l, A[i] + i)\n",
    "        return res"
   ]
  }
 ],
 "metadata": {
  "kernelspec": {
   "display_name": "Python 3",
   "language": "python",
   "name": "python3"
  },
  "language_info": {
   "codemirror_mode": {
    "name": "ipython",
    "version": 3
   },
   "file_extension": ".py",
   "mimetype": "text/x-python",
   "name": "python",
   "nbconvert_exporter": "python",
   "pygments_lexer": "ipython3",
   "version": "3.7.4"
  }
 },
 "nbformat": 4,
 "nbformat_minor": 2
}
