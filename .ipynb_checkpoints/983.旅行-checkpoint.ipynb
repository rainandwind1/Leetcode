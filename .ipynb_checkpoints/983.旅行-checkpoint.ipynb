{
 "cells": [
  {
   "cell_type": "code",
   "execution_count": null,
   "metadata": {},
   "outputs": [],
   "source": [
    "class Solution(object):\n",
    "    def mincostTickets(self, days, costs):\n",
    "        \"\"\"\n",
    "        :type days: List[int]\n",
    "        :type costs: List[int]\n",
    "        :rtype: int\n",
    "        \"\"\"\n",
    "        dp = [0 for i in range(days[-1] + 1)]\n",
    "        days_idx = 0\n",
    "        for i in range(1, len(dp)):\n",
    "            if i != days[days_idx]:\n",
    "                dp[i] = dp[i - 1]\n",
    "            else:\n",
    "                dp[i] = min(dp[max(0, i - 1)]+costs[0], dp[max(0, i - 7)]+costs[1], dp[max(0,i - 30)] + costs[2])\n",
    "                days_idx += 1\n",
    "        return dp[-1]\n",
    "        "
   ]
  }
 ],
 "metadata": {
  "kernelspec": {
   "display_name": "Python 3",
   "language": "python",
   "name": "python3"
  },
  "language_info": {
   "codemirror_mode": {
    "name": "ipython",
    "version": 3
   },
   "file_extension": ".py",
   "mimetype": "text/x-python",
   "name": "python",
   "nbconvert_exporter": "python",
   "pygments_lexer": "ipython3",
   "version": "3.7.4"
  }
 },
 "nbformat": 4,
 "nbformat_minor": 2
}
