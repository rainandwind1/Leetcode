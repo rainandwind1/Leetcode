{
 "cells": [
  {
   "cell_type": "code",
   "execution_count": 1,
   "metadata": {},
   "outputs": [],
   "source": [
    "# 多线程练习\n",
    "# 线程A将调用 zero()\n",
    "# 线程B将调用 even()\n",
    "# 线程C将调用 odd()\n",
    "# 每个线程都有一个printNumber 方法输出一个整数，请修改给出的代码以输出整数序列\n",
    "# 010203040506...，其中序列的长度必须为2n\n",
    "import threading\n",
    "\n",
    "class ZeroEvenOdd(object):\n",
    "    def __init__(self, n):\n",
    "        self.n = n\n",
    "        self.Zero = threading.Semaphore(1)\n",
    "        self.Even = threading.Semaphore(0)\n",
    "        self.Old = threading.Semaphore(0)\n",
    "        \n",
    "    # printNumber(x) outputs \"x\", where x is an integer.\n",
    "    def zero(self, printNumber):\n",
    "        \"\"\"\n",
    "        :type printNumber: method\n",
    "        :rtype: void\n",
    "        \"\"\"\n",
    "        for i in range(1,self.n+1):\n",
    "            self.Zero.acquire()\n",
    "            printNumber(0)\n",
    "            if i%2 == 1:\n",
    "                self.Old.release()\n",
    "            else:\n",
    "                self.Even.release()\n",
    "        \n",
    "        \n",
    "        \n",
    "        \n",
    "    def even(self, printNumber):\n",
    "        \"\"\"\n",
    "        :type printNumber: method\n",
    "        :rtype: void\n",
    "        \"\"\"\n",
    "        for i in range(1,self.n+1):\n",
    "            if i%2 == 0:\n",
    "                self.Even.acquire()\n",
    "                printNumber(i)\n",
    "                self.Zero.release()\n",
    "        \n",
    "        \n",
    "        \n",
    "    def odd(self, printNumber):\n",
    "        \"\"\"\n",
    "        :type printNumber: method\n",
    "        :rtype: void\n",
    "        \"\"\"\n",
    "        for i in range(1,self.n+1):\n",
    "            if i%2 == 1:\n",
    "                self.Old.release()\n",
    "                printNumber(i)\n",
    "                self.Zero.release()\n",
    "        \n",
    "        \n",
    "A = ZeroEvenOdd(3)"
   ]
  },
  {
   "cell_type": "code",
   "execution_count": null,
   "metadata": {},
   "outputs": [],
   "source": []
  }
 ],
 "metadata": {
  "kernelspec": {
   "display_name": "Python 3",
   "language": "python",
   "name": "python3"
  },
  "language_info": {
   "codemirror_mode": {
    "name": "ipython",
    "version": 3
   },
   "file_extension": ".py",
   "mimetype": "text/x-python",
   "name": "python",
   "nbconvert_exporter": "python",
   "pygments_lexer": "ipython3",
   "version": "3.7.4"
  }
 },
 "nbformat": 4,
 "nbformat_minor": 2
}
