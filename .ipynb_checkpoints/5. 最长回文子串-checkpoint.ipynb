{
 "cells": [
  {
   "cell_type": "code",
   "execution_count": null,
   "metadata": {},
   "outputs": [],
   "source": [
    "class Solution(object):\n",
    "    def longestPalindrome(self, s):\n",
    "        \"\"\"\n",
    "        :type s: str\n",
    "        :rtype: str\n",
    "        \"\"\"\n",
    "        n = len(s)\n",
    "        dp = [[False] * n for _ in range(n)]\n",
    "        ans = \"\"\n",
    "        # 枚举子串的长度 l+1\n",
    "        for l in range(n):\n",
    "            # 枚举子串的起始位置 i，这样可以通过 j=i+l 得到子串的结束位置\n",
    "            for i in range(n):\n",
    "                j = i + l\n",
    "                if j >= len(s):\n",
    "                    break\n",
    "                if l == 0:\n",
    "                    dp[i][j] = True\n",
    "                elif l == 1:\n",
    "                    dp[i][j] = (s[i] == s[j])\n",
    "                else:\n",
    "                    dp[i][j] = (dp[i + 1][j - 1] and s[i] == s[j])\n",
    "                if dp[i][j] and l + 1 > len(ans):\n",
    "                    ans = s[i:j+1]\n",
    "        return ans"
   ]
  }
 ],
 "metadata": {
  "kernelspec": {
   "display_name": "Python 3",
   "language": "python",
   "name": "python3"
  },
  "language_info": {
   "codemirror_mode": {
    "name": "ipython",
    "version": 3
   },
   "file_extension": ".py",
   "mimetype": "text/x-python",
   "name": "python",
   "nbconvert_exporter": "python",
   "pygments_lexer": "ipython3",
   "version": "3.7.4"
  }
 },
 "nbformat": 4,
 "nbformat_minor": 2
}
