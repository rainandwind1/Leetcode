{
 "cells": [
  {
   "cell_type": "code",
   "execution_count": 4,
   "metadata": {},
   "outputs": [
    {
     "name": "stdout",
     "output_type": "stream",
     "text": [
      "{0: [1], 1: [2, 5], 2: [3, 4, 6, 7]}\n",
      "None\n"
     ]
    }
   ],
   "source": [
    "class Solution(object):\n",
    "    def recoverFromPreorder(self, S):\n",
    "        \"\"\"\n",
    "        :type S: str\n",
    "        :rtype: TreeNode\n",
    "        \"\"\"\n",
    "        res = {}\n",
    "        count = 0\n",
    "        index = 0\n",
    "        while index < len(S):\n",
    "            if S[index] != '-':\n",
    "                res[count] = res.get(count, []) + [int(S[index])]\n",
    "                count = 0\n",
    "            else:\n",
    "                count += 1\n",
    "            index += 1\n",
    "        print(res)\n",
    "                \n",
    "A = Solution()\n",
    "print(A.recoverFromPreorder(\"1-2--3--4-5--6--7\"))"
   ]
  },
  {
   "cell_type": "code",
   "execution_count": 8,
   "metadata": {},
   "outputs": [
    {
     "name": "stdout",
     "output_type": "stream",
     "text": [
      "10\n"
     ]
    }
   ],
   "source": [
    "a = \"1-2--3--4-598--6--7\"\n",
    "print(int('10'))"
   ]
  },
  {
   "cell_type": "code",
   "execution_count": null,
   "metadata": {},
   "outputs": [],
   "source": [
    "\n",
    "class Solution(object):\n",
    "    def recoverFromPreorder(self, S):\n",
    "        \"\"\"\n",
    "        :type S: str\n",
    "        :rtype: TreeNode\n",
    "        \"\"\"\n",
    "        res = {-1: TreeNode(None)}\n",
    "        def recover(val, depth):\n",
    "            res[depth] = TreeNode(val)\n",
    "            if not res[depth - 1].left:\n",
    "                res[depth - 1].left = res[depth]\n",
    "            else:\n",
    "                res[depth - 1].right = res[depth]\n",
    "        num_str = ''\n",
    "        depth = 0\n",
    "        S += '-'\n",
    "        for i in S:\n",
    "            if i != '-':\n",
    "                num_str += i\n",
    "            elif num_str:\n",
    "                recover(int(num_str), depth)\n",
    "                depth = 1\n",
    "                num_str = ''\n",
    "            else:\n",
    "                depth += 1\n",
    "        return res[0]\n",
    "            "
   ]
  },
  {
   "cell_type": "code",
   "execution_count": null,
   "metadata": {},
   "outputs": [],
   "source": []
  }
 ],
 "metadata": {
  "kernelspec": {
   "display_name": "Python 3",
   "language": "python",
   "name": "python3"
  },
  "language_info": {
   "codemirror_mode": {
    "name": "ipython",
    "version": 3
   },
   "file_extension": ".py",
   "mimetype": "text/x-python",
   "name": "python",
   "nbconvert_exporter": "python",
   "pygments_lexer": "ipython3",
   "version": "3.7.4"
  }
 },
 "nbformat": 4,
 "nbformat_minor": 2
}
