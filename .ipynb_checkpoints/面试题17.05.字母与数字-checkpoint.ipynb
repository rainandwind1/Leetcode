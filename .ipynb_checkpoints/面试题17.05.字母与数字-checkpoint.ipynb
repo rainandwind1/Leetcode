{
 "cells": [
  {
   "cell_type": "code",
   "execution_count": null,
   "metadata": {},
   "outputs": [],
   "source": [
    "print(\"A\"<\"Z\")"
   ]
  },
  {
   "cell_type": "code",
   "execution_count": null,
   "metadata": {},
   "outputs": [],
   "source": [
    "# 给定一个放有字符和数字的数组，找到最长的子数组，且包含的字符和数字的个数相同。\n",
    "# 返回该子数组，若不存在这样的数组，返回一个空数组。\n",
    "\n",
    "class Solution(object):\n",
    "    def findLongestSubarray(self, array):\n",
    "        \"\"\"\n",
    "        :type array: List[str]\n",
    "        :rtype: List[str]\n",
    "        \"\"\"\n",
    "        cha_count,num_count,menmory_index,index = 0,0,0,0\n",
    "        while True:\n",
    "            if cha_count == num_count:\n",
    "                memory_index = 2*cha_count\n",
    "            if index == len(array):\n",
    "                break\n",
    "            if array[index] <= \"9\" and array[index] >= \"0\":\n",
    "                num_count += 1\n",
    "            else:\n",
    "                cha_count += 1\n",
    "            index += 1\n",
    "        return array[:menmory_index]\n",
    "        \n",
    "        \n",
    "        \n",
    "        \n",
    "        \n",
    "\n",
    "        \n",
    "A = Solution()\n",
    "print(1)\n",
    "print(A.findLongestSubarray([\"A\",\"1\",\"B\",\"C\",\"D\",\"2\",\"3\",\"4\",\"E\",\"5\",\"F\",\"G\",\"6\",\"7\",\"H\",\"I\",\"J\",\"K\",\"L\",\"M\"]))\n",
    "print(A.findLongestSubarray([\"A\",\"A\"]))\n",
    "\n"
   ]
  },
  {
   "cell_type": "code",
   "execution_count": null,
   "metadata": {},
   "outputs": [],
   "source": []
  },
  {
   "cell_type": "code",
   "execution_count": null,
   "metadata": {},
   "outputs": [],
   "source": []
  }
 ],
 "metadata": {
  "kernelspec": {
   "display_name": "Python 3",
   "language": "python",
   "name": "python3"
  },
  "language_info": {
   "codemirror_mode": {
    "name": "ipython",
    "version": 3
   },
   "file_extension": ".py",
   "mimetype": "text/x-python",
   "name": "python",
   "nbconvert_exporter": "python",
   "pygments_lexer": "ipython3",
   "version": "3.7.4"
  }
 },
 "nbformat": 4,
 "nbformat_minor": 2
}
