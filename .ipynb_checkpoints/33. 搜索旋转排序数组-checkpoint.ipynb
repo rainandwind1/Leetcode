{
 "cells": [
  {
   "cell_type": "code",
   "execution_count": null,
   "metadata": {},
   "outputs": [],
   "source": [
    "class Solution(object):\n",
    "    def search(self, nums, target):\n",
    "        \"\"\"\n",
    "        :type nums: List[int]\n",
    "        :type target: int\n",
    "        :rtype: int\n",
    "        \"\"\"\n",
    "        \n",
    "        def search_devide(left, right, target):\n",
    "            if left > right:\n",
    "                return -1\n",
    "            mid = (left + right) / 2\n",
    "            if nums[mid] == target:\n",
    "                return mid\n",
    "            elif nums[mid] > target:\n",
    "                return search_devide(left, mid - 1, target)\n",
    "            elif nums[mid] < target:\n",
    "                return search_devide(mid + 1, right, target)\n",
    "        left = 0\n",
    "        right = len(nums) - 1\n",
    "        mid = (left + right) / 2\n",
    "        while left <= right:\n",
    "            if target < nums[left] and target > nums[right]:\n",
    "                return -1\n",
    "            if nums[mid] >= nums[right]:\n",
    "                if nums[mid] >= target and nums[left] <= target:\n",
    "                    return search_devide(left, mid, target)\n",
    "                else:\n",
    "                        left = mid + 1\n",
    "                        mid = (left + right) / 2\n",
    "                \n",
    "            elif nums[mid] < nums[right]:\n",
    "                if nums[mid] <= target and target <= nums[right]:\n",
    "                    return search_devide(mid, right, target)\n",
    "                else:\n",
    "                        right = mid - 1\n",
    "                        mid = (left + right) / 2\n",
    "        return -1"
   ]
  }
 ],
 "metadata": {
  "kernelspec": {
   "display_name": "Python 3",
   "language": "python",
   "name": "python3"
  },
  "language_info": {
   "codemirror_mode": {
    "name": "ipython",
    "version": 3
   },
   "file_extension": ".py",
   "mimetype": "text/x-python",
   "name": "python",
   "nbconvert_exporter": "python",
   "pygments_lexer": "ipython3",
   "version": "3.7.4"
  }
 },
 "nbformat": 4,
 "nbformat_minor": 2
}
