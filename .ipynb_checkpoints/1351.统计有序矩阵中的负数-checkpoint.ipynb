{
 "cells": [
  {
   "cell_type": "code",
   "execution_count": 13,
   "metadata": {},
   "outputs": [
    {
     "name": "stdout",
     "output_type": "stream",
     "text": [
      "8\n",
      "16\n",
      "0\n",
      "1\n"
     ]
    }
   ],
   "source": [
    "# 二分 超时\n",
    "class Solution(object):\n",
    "    def countNegatives(self, grid):\n",
    "        \"\"\"\n",
    "        :type grid: List[List[int]]\n",
    "        :rtype: int\n",
    "        \"\"\"\n",
    "        def half_count(target):\n",
    "            if target[-1] >= 0:\n",
    "                return 0\n",
    "            if target[0] < 0:\n",
    "                return len(target)\n",
    "            if len(target) < 2:\n",
    "                if target[0] < 0:\n",
    "                    return 1\n",
    "                else:\n",
    "                    return 0\n",
    "            half_mem = 0\n",
    "            num = 0\n",
    "            half_index = int(len(target)/2) - 1\n",
    "            while True:\n",
    "                if target[half_index] >= 0:\n",
    "                    if target[half_index + 1] < 0:\n",
    "                        return len(target) - half_index - 1\n",
    "                    half_index = int((half_index + len(target) + 1)/2) - 1\n",
    "                else:\n",
    "                    if target[half_index - 1] >= 0:\n",
    "                        return len(target) - half_index\n",
    "                    half_index = int((half_index + half_mem + 2)/2) - 1\n",
    "                half_mem = half_index\n",
    "        res = 0\n",
    "        l = len(grid) - 1\n",
    "        while l > -1:\n",
    "            if half_count(grid[l]) == 0:\n",
    "                return res\n",
    "            res += half_count(grid[l])\n",
    "#             print(\"stan\",res)\n",
    "            \n",
    "            l -= 1\n",
    "        return res\n",
    "        \n",
    "        \n",
    "A = Solution()\n",
    "print(A.countNegatives([[4,3,2,-1],[3,2,1,-1],[1,1,-1,-2],[-1,-1,-2,-3]]))\n",
    "print(A.countNegatives([[3,-1,-3,-3,-3],[2,-2,-3,-3,-3],[1,-2,-3,-3,-3],[0,-3,-3,-3,-3]]))\n",
    "print(A.countNegatives([[3,2],[1,0]]))\n",
    "print(A.countNegatives([[-1]]))"
   ]
  },
  {
   "cell_type": "code",
   "execution_count": 18,
   "metadata": {},
   "outputs": [
    {
     "name": "stdout",
     "output_type": "stream",
     "text": [
      "8\n",
      "16\n",
      "0\n",
      "1\n"
     ]
    }
   ],
   "source": [
    "class Solution(object):\n",
    "    def countNegatives(self, grid):\n",
    "        \"\"\"\n",
    "        :type grid: List[List[int]]\n",
    "        :rtype: int\n",
    "        \"\"\"\n",
    "        sum_num = 0\n",
    "        M = len(grid)\n",
    "        N = len(grid[0])\n",
    "        for i in range(N):\n",
    "            for j in range(M-1,-1,-1):\n",
    "                if grid[j][i] >=0:\n",
    "                    break\n",
    "                else:\n",
    "                    sum_num += 1\n",
    "        return sum_num\n",
    "                    \n",
    "\n",
    "        \n",
    "        \n",
    "A = Solution()\n",
    "print(A.countNegatives([[4,3,2,-1],[3,2,1,-1],[1,1,-1,-2],[-1,-1,-2,-3]]))\n",
    "print(A.countNegatives([[3,-1,-3,-3,-3],[2,-2,-3,-3,-3],[1,-2,-3,-3,-3],[0,-3,-3,-3,-3]]))\n",
    "print(A.countNegatives([[3,2],[1,0]]))\n",
    "print(A.countNegatives([[-1]]))"
   ]
  },
  {
   "cell_type": "code",
   "execution_count": null,
   "metadata": {},
   "outputs": [],
   "source": []
  },
  {
   "cell_type": "code",
   "execution_count": null,
   "metadata": {},
   "outputs": [],
   "source": []
  }
 ],
 "metadata": {
  "kernelspec": {
   "display_name": "Python 3",
   "language": "python",
   "name": "python3"
  },
  "language_info": {
   "codemirror_mode": {
    "name": "ipython",
    "version": 3
   },
   "file_extension": ".py",
   "mimetype": "text/x-python",
   "name": "python",
   "nbconvert_exporter": "python",
   "pygments_lexer": "ipython3",
   "version": "3.7.4"
  }
 },
 "nbformat": 4,
 "nbformat_minor": 2
}
