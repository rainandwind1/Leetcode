{
 "cells": [
  {
   "cell_type": "code",
   "execution_count": 4,
   "metadata": {},
   "outputs": [
    {
     "name": "stdout",
     "output_type": "stream",
     "text": [
      "[('p', 'p', 'e'), ('p', 'e', 'p'), ('p', 'p', 'e'), ('p', 'e', 'p'), ('e', 'p', 'p'), ('e', 'p', 'p')]\n",
      "['ppe', 'pep', 'epp']\n"
     ]
    }
   ],
   "source": [
    "import itertools\n",
    "class Solution(object):\n",
    "    def permutation(self, S):\n",
    "        \"\"\"\n",
    "        :type S: str\n",
    "        :rtype: List[str]\n",
    "        \"\"\"\n",
    "        res = []\n",
    "        s = list(itertools.permutations(list(S),len(S)))\n",
    "#         print(s)\n",
    "        for str_ls in s:\n",
    "            p = ''\n",
    "            for c in str_ls:\n",
    "                p += c\n",
    "            res.append(p)\n",
    "        return list(set(res))\n",
    "                \n",
    "        \n",
    "A = Solution()\n",
    "print(A.permutation(\"ppe\"))"
   ]
  },
  {
   "cell_type": "code",
   "execution_count": null,
   "metadata": {},
   "outputs": [],
   "source": [
    "class Solution(object):\n",
    "    def permutation(self, S):\n",
    "        \"\"\"\n",
    "        :type S: str\n",
    "        :rtype: List[str]\n",
    "        \"\"\"\n",
    "        res = []\n",
    "        def dfs(s, str_l):\n",
    "            if not s:\n",
    "                res.append(str_l)\n",
    "            else:\n",
    "                for idx,c in enumerate(s):\n",
    "                    dfs(s[:idx]+s[idx+1:], str_l + c)\n",
    "        dfs(S, '')\n",
    "        return list(set(res))"
   ]
  }
 ],
 "metadata": {
  "kernelspec": {
   "display_name": "Python 3",
   "language": "python",
   "name": "python3"
  },
  "language_info": {
   "codemirror_mode": {
    "name": "ipython",
    "version": 3
   },
   "file_extension": ".py",
   "mimetype": "text/x-python",
   "name": "python",
   "nbconvert_exporter": "python",
   "pygments_lexer": "ipython3",
   "version": "3.7.4"
  }
 },
 "nbformat": 4,
 "nbformat_minor": 2
}
