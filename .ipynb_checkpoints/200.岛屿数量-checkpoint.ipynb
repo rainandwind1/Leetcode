{
 "cells": [
  {
   "cell_type": "code",
   "execution_count": 4,
   "metadata": {},
   "outputs": [
    {
     "name": "stdout",
     "output_type": "stream",
     "text": [
      "[[(2, 0), (0, 0), (0, 0)], [(1, 0), (0, 0), (1, 2)], [(2, 0), (0, 0), (2, 0)]]\n",
      "1\n"
     ]
    }
   ],
   "source": [
    "# 并查集\n",
    "class ds:\n",
    "    def __init__(self,width,height):\n",
    "        self.res = [[(i,j) for j in range(width)] for i in range(height)]\n",
    "        \n",
    "    def find(self,cor):\n",
    "        x,y = cor\n",
    "        if self.res[x][y] != (x,y):\n",
    "            return self.find(self.res[x][y])\n",
    "        return cor\n",
    "    \n",
    "    def union(self,cor1,cor2):\n",
    "        x1,y1 = cor1\n",
    "        cor_1 = self.find(cor1)\n",
    "        cor_2 = self.find(cor2)\n",
    "        if cor_1 != cor_2:\n",
    "            self.res[self.find(cor1)[0]][self.find(cor1)[1]] = cor_2\n",
    "        \n",
    "\n",
    "class Solution(object):\n",
    "    def numIslands(self, grid):\n",
    "        \"\"\"\n",
    "        :type grid: List[List[str]]\n",
    "        :rtype: int\n",
    "        \"\"\"\n",
    "        if grid == []:\n",
    "            return 0\n",
    "        width = len(grid[0])\n",
    "        height = len(grid)\n",
    "        A = ds(width,height)\n",
    "        for i in range(height):\n",
    "            for j in range(width):\n",
    "                if grid[i][j] == '1':\n",
    "                    # 上\n",
    "                    if i-1 >= 0 and grid[i-1][j] == '1':\n",
    "                        A.union((i-1,j),(i,j))\n",
    "                    # 下\n",
    "                    if i+1 < height and grid[i+1][j] == '1':\n",
    "                        A.union((i+1,j),(i,j))\n",
    "                    # 左\n",
    "                    if j-1 >= 0 and grid[i][j-1] == '1':\n",
    "                        A.union((i,j-1),(i,j))\n",
    "                    # 右\n",
    "                    if j+1 < width and grid[i][j+1] == '1':\n",
    "                        A.union((i,j+1),(i,j))\n",
    "        ans = 0\n",
    "        print(A.res)\n",
    "        for i in range(height):\n",
    "            for j in range(width):\n",
    "                if grid[i][j] != '0':\n",
    "                    ans += int(A.find((i,j)) == (i,j))\n",
    "        return ans\n",
    "p = Solution()\n",
    "print(p.numIslands([[\"1\",\"1\",\"1\"],[\"0\",\"1\",\"0\"],[\"1\",\"1\",\"1\"]]))"
   ]
  },
  {
   "cell_type": "code",
   "execution_count": null,
   "metadata": {},
   "outputs": [],
   "source": [
    "# 深度优先搜索\n",
    "class Solution:\n",
    "    def numIslands(self, grid):\n",
    "        if(len(grid)==0):\n",
    "            return 0\n",
    "        res = 0\n",
    "        for i in range(len(grid)):\n",
    "            for j in range(len(grid[0])):\n",
    "                if grid[i][j] == '1':\n",
    "                    self.dfs(grid,i,j)\n",
    "                    res +=1\n",
    "        return res\n",
    "    def dfs(self,grid,i,j):\n",
    "        if(i < 0 or i >= len(grid) or j < 0 or j >= len(grid[0]) or grid[i][j] != '1'):\n",
    "            return\n",
    "        grid[i][j] = '2'\n",
    "        self.dfs(grid,i+1,j)\n",
    "        self.dfs(grid,i-1,j)\n",
    "        self.dfs(grid,i,j+1)\n",
    "        self.dfs(grid,i,j-1)"
   ]
  }
 ],
 "metadata": {
  "kernelspec": {
   "display_name": "Python 3",
   "language": "python",
   "name": "python3"
  },
  "language_info": {
   "codemirror_mode": {
    "name": "ipython",
    "version": 3
   },
   "file_extension": ".py",
   "mimetype": "text/x-python",
   "name": "python",
   "nbconvert_exporter": "python",
   "pygments_lexer": "ipython3",
   "version": "3.7.4"
  }
 },
 "nbformat": 4,
 "nbformat_minor": 2
}
