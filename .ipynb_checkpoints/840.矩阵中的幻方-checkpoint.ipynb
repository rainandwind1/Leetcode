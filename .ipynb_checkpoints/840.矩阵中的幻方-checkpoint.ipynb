{
 "cells": [
  {
   "cell_type": "code",
   "execution_count": 6,
   "metadata": {},
   "outputs": [
    {
     "ename": "IndentationError",
     "evalue": "expected an indented block (<ipython-input-6-bbfea90ca5c8>, line 26)",
     "output_type": "error",
     "traceback": [
      "\u001b[1;36m  File \u001b[1;32m\"<ipython-input-6-bbfea90ca5c8>\"\u001b[1;36m, line \u001b[1;32m26\u001b[0m\n\u001b[1;33m    A = Solution()\u001b[0m\n\u001b[1;37m                  ^\u001b[0m\n\u001b[1;31mIndentationError\u001b[0m\u001b[1;31m:\u001b[0m expected an indented block\n"
     ]
    }
   ],
   "source": [
    "class Solution(object):\n",
    "    def numMagicSquaresInside(self, grid):\n",
    "        \"\"\"\n",
    "        :type grid: List[List[int]]\n",
    "        :rtype: int\n",
    "        \"\"\"\n",
    "        magic_num = 0\n",
    "        def is_magic(grid_3):\n",
    "            row_sum,col_sum,tri_sum = 0,0,0\n",
    "            if sum(grid_3[0]) == sum(grid_3[1]) and sum(grid_3[1]) == sum(grid_3[2]):\n",
    "                row_sum = grid_3[0]\n",
    "            if sum(grid_3[:][0]) == sum(grid_3[:][1]) and sum(grid_3[:][1]) == sum(grid_3[:][2]):\n",
    "                col_sum = grid_3[:][0]\n",
    "            if (grid_3[0][0] + grid_3[2][2])==(grid_3[0][2] + grid_3[2][0]):\n",
    "                tri_sum = grid_3[0][2] + grid_3[2][0]\n",
    "            if row_sum == col_sum and col_sum == tri_sum and row_sum != 0:\n",
    "                return 1\n",
    "            return 0\n",
    "\n",
    "#             for j in range(len(grid[0]) - 2):\n",
    "#                 magic_num += is_magic(grid[i:i+3][j:334.递增的三元子序列.ipynb+3])\n",
    "#         return magic_num\n",
    "        \n",
    "        \n",
    "        \n",
    "A = Solution()\n",
    "print(A.numMagicSquaresInside([[4,3,8,4],\n",
    "      [9,5,1,9],\n",
    "      [2,7,6,2]]))\n",
    "\n",
    "grid = [[4,3,8,4],\n",
    "      [9,5,1,9],\n",
    "      [2,7,6,2]]\n",
    "\n",
    "for i in range(len(grid) - 2):\n",
    "    for j in range(len(grid[0]) - 2):\n",
    "        magic_num += is_magic(grid[i:i+3][j:334.递增的三元子序列.ipynb+3])\n",
    "return magic_num"
   ]
  },
  {
   "cell_type": "code",
   "execution_count": null,
   "metadata": {},
   "outputs": [],
   "source": []
  }
 ],
 "metadata": {
  "kernelspec": {
   "display_name": "Python 3",
   "language": "python",
   "name": "python3"
  },
  "language_info": {
   "codemirror_mode": {
    "name": "ipython",
    "version": 3
   },
   "file_extension": ".py",
   "mimetype": "text/x-python",
   "name": "python",
   "nbconvert_exporter": "python",
   "pygments_lexer": "ipython3",
   "version": "3.7.4"
  }
 },
 "nbformat": 4,
 "nbformat_minor": 2
}
