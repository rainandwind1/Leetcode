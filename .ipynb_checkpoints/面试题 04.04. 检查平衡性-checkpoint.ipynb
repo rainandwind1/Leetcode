{
 "cells": [
  {
   "cell_type": "code",
   "execution_count": null,
   "metadata": {},
   "outputs": [],
   "source": [
    "class Solution(object):\n",
    "    def __init__(self):\n",
    "        self.flag = True\n",
    "    def isBalanced(self, root):\n",
    "        \"\"\"\n",
    "        :type root: TreeNode\n",
    "        :rtype: bool\n",
    "        \"\"\"\n",
    "        def search_height(head):\n",
    "            if not head:\n",
    "                return 0\n",
    "            left_h = 1 + search_height(head.left)\n",
    "            right_h = 1 + search_height(head.right)\n",
    "            if abs(left_h - right_h) > 1:\n",
    "                self.flag = False\n",
    "            return max(left_h,right_h)\n",
    "        h = search_height(root)\n",
    "        return self.flag"
   ]
  }
 ],
 "metadata": {
  "kernelspec": {
   "display_name": "Python 3",
   "language": "python",
   "name": "python3"
  },
  "language_info": {
   "codemirror_mode": {
    "name": "ipython",
    "version": 3
   },
   "file_extension": ".py",
   "mimetype": "text/x-python",
   "name": "python",
   "nbconvert_exporter": "python",
   "pygments_lexer": "ipython3",
   "version": "3.7.4"
  }
 },
 "nbformat": 4,
 "nbformat_minor": 2
}
