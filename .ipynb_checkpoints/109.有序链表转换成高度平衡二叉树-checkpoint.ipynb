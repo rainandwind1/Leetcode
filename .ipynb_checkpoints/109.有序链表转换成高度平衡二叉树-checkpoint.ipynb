{
 "cells": [
  {
   "cell_type": "code",
   "execution_count": null,
   "metadata": {},
   "outputs": [],
   "source": [
    "class Solution:\n",
    "    def sortedListToBST(self, head: ListNode) -> TreeNode:\n",
    "        def findmid(head,tail):\n",
    "            slow = head\n",
    "            fast = head\n",
    "            while fast != tail and fast.next != tail:\n",
    "                slow = slow.next\n",
    "                fast = fast.next.next\n",
    "            return slow\n",
    "        def helper(head,tail):\n",
    "            if head == tail: return\n",
    "            node = findmid(head,tail)\n",
    "            root = TreeNode(node.val)\n",
    "            root.left = helper(head,node)\n",
    "            root.right = helper(node.next,tail)\n",
    "            return root\n",
    "        return helper(head,None)"
   ]
  }
 ],
 "metadata": {
  "kernelspec": {
   "display_name": "Python 3",
   "language": "python",
   "name": "python3"
  },
  "language_info": {
   "codemirror_mode": {
    "name": "ipython",
    "version": 3
   },
   "file_extension": ".py",
   "mimetype": "text/x-python",
   "name": "python",
   "nbconvert_exporter": "python",
   "pygments_lexer": "ipython3",
   "version": "3.7.4"
  }
 },
 "nbformat": 4,
 "nbformat_minor": 2
}
