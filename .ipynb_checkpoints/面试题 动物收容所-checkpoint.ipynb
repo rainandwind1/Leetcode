{
 "cells": [
  {
   "cell_type": "code",
   "execution_count": 2,
   "metadata": {},
   "outputs": [
    {
     "name": "stdout",
     "output_type": "stream",
     "text": [
      "deque([[1, 0]])\n",
      "[0, 0] [-1, -1] [-1, -1]\n"
     ]
    }
   ],
   "source": [
    "import collections\n",
    "class AnimalShelf(object):\n",
    "\n",
    "    def __init__(self):\n",
    "        self.home = collections.deque()\n",
    "\n",
    "    def enqueue(self, animal):\n",
    "        \"\"\"\n",
    "        :type animal: List[int]\n",
    "        :rtype: None\n",
    "        \"\"\"\n",
    "        self.home.appendleft(animal)\n",
    "\n",
    "\n",
    "    def dequeueAny(self):\n",
    "        \"\"\"\n",
    "        :rtype: List[int]\n",
    "        \"\"\"\n",
    "        res = [-1,-1]\n",
    "        if self.home:\n",
    "            res = self.home.pop()\n",
    "        return res\n",
    "\n",
    "\n",
    "    def dequeueDog(self):\n",
    "        \"\"\"\n",
    "        :rtype: List[int]\n",
    "        \"\"\"\n",
    "        mem = []\n",
    "        res = [-1,-1]\n",
    "        while res[1] != 1:\n",
    "            if self.home:\n",
    "                res = self.home.pop()\n",
    "                if res[1] != 1:\n",
    "                    mem.append(res)\n",
    "            else:\n",
    "                for i in mem[::-1]:\n",
    "                    self.home.append(i)\n",
    "                return [-1,-1]\n",
    "        for i in mem[::-1]:\n",
    "            self.home.append(i)\n",
    "        print(self.home)\n",
    "        return res\n",
    "\n",
    "\n",
    "    def dequeueCat(self):\n",
    "        \"\"\"\n",
    "        :rtype: List[int]\n",
    "        \"\"\"\n",
    "        mem = []\n",
    "        res = [-1,-1]\n",
    "        while res[1] != 0:\n",
    "            if self.home:\n",
    "                res = self.home.pop()\n",
    "                if res[1] != 0:\n",
    "                    mem.append(res)\n",
    "            else:\n",
    "                for i in mem[::-1]:\n",
    "                    self.home.append(i)\n",
    "                return [-1,-1]\n",
    "        for i in mem[::-1]:\n",
    "            self.home.append(i)\n",
    "        print(self.home)\n",
    "        return res\n",
    "\n",
    "\n",
    "\n",
    "\n",
    "# Your AnimalShelf object will be instantiated and called as such:\n",
    "obj = AnimalShelf()\n",
    "obj.enqueue([0,0])\n",
    "obj.enqueue([1,0])\n",
    "param_4 = obj.dequeueCat()\n",
    "param_3 = obj.dequeueDog()\n",
    "param_2 = obj.dequeueAny()\n",
    "print(param_4,param_3,param_2)\n",
    "\n"
   ]
  },
  {
   "cell_type": "code",
   "execution_count": null,
   "metadata": {},
   "outputs": [],
   "source": []
  }
 ],
 "metadata": {
  "kernelspec": {
   "display_name": "Python 3",
   "language": "python",
   "name": "python3"
  },
  "language_info": {
   "codemirror_mode": {
    "name": "ipython",
    "version": 3
   },
   "file_extension": ".py",
   "mimetype": "text/x-python",
   "name": "python",
   "nbconvert_exporter": "python",
   "pygments_lexer": "ipython3",
   "version": "3.7.4"
  }
 },
 "nbformat": 4,
 "nbformat_minor": 2
}
