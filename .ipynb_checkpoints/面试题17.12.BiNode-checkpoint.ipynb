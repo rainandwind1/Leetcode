{
 "cells": [
  {
   "cell_type": "code",
   "execution_count": null,
   "metadata": {},
   "outputs": [],
   "source": [
    "# Definition for a binary tree node.\n",
    "# class TreeNode(object):\n",
    "#     def __init__(self, x):\n",
    "#         self.val = x\n",
    "#         self.left = None\n",
    "#         self.right = None\n",
    "\n",
    "# 中序遍历之后  利用指针记录走过的节点\n",
    "class Solution(object):\n",
    "    def convertBiNode(self, root):\n",
    "        \"\"\"\n",
    "        :type root: TreeNode\n",
    "        :rtype: TreeNode\n",
    "        \"\"\"\n",
    "        head = TreeNode(None)\n",
    "        self.pre = head\n",
    "        self.mid_search(root)\n",
    "        return head.right\n",
    "        \n",
    "        \n",
    "    def mid_search(self,node):\n",
    "        if node:\n",
    "            self.mid_search(node.left)\n",
    "            node.left = None\n",
    "            self.pre.right = node\n",
    "            self.pre = node\n",
    "            self.mid_search(node.right)\n",
    "        \n",
    "        \n",
    "\n",
    "        \n",
    "A = Solution()"
   ]
  },
  {
   "cell_type": "code",
   "execution_count": null,
   "metadata": {},
   "outputs": [],
   "source": [
    "# 迭代法\n",
    "class Solution(object):\n",
    "    def convertBiNode(self, root):\n",
    "        \"\"\"\n",
    "        :type root: TreeNode\n",
    "        :rtype: TreeNode\n",
    "        \"\"\"\n",
    "        head = TreeNode(None)\n",
    "        pre = head\n",
    "        cur = root\n",
    "        stack = []\n",
    "        while cur or stack:\n",
    "            while cur:\n",
    "                stack.append(cur)\n",
    "                cur = cur.left\n",
    "            cur = stack.pop()\n",
    "            cur.left = None\n",
    "            pre.right = cur\n",
    "            pre = cur\n",
    "            cur = cur.right\n",
    "        return head.right"
   ]
  }
 ],
 "metadata": {
  "kernelspec": {
   "display_name": "Python 3",
   "language": "python",
   "name": "python3"
  },
  "language_info": {
   "codemirror_mode": {
    "name": "ipython",
    "version": 3
   },
   "file_extension": ".py",
   "mimetype": "text/x-python",
   "name": "python",
   "nbconvert_exporter": "python",
   "pygments_lexer": "ipython3",
   "version": "3.7.4"
  }
 },
 "nbformat": 4,
 "nbformat_minor": 2
}
