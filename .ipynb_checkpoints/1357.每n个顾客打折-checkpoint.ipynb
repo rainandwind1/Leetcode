{
 "cells": [
  {
   "cell_type": "code",
   "execution_count": null,
   "metadata": {},
   "outputs": [],
   "source": [
    "class Cashier(object):\n",
    "\n",
    "    def __init__(self, n, discount, products, prices):\n",
    "        \"\"\"\n",
    "        :type n: int\n",
    "        :type discount: int\n",
    "        :type products: List[int]\n",
    "        :type prices: List[int]\n",
    "        \"\"\"\n",
    "        self.count = 0\n",
    "        self.discount = discount\n",
    "        self.prices = {}\n",
    "        for pro, price in zip(products, prices):\n",
    "            self.prices[pro] = price\n",
    "        self.n = n\n",
    "\n",
    "\n",
    "    def getBill(self, product, amount):\n",
    "        \"\"\"\n",
    "        :type product: List[int]\n",
    "        :type amount: List[int]\n",
    "        :rtype: float\n",
    "        \"\"\"\n",
    "        self.count += 1\n",
    "        bill = 0.\n",
    "        for pro, num in zip(product, amount):\n",
    "            bill += self.prices[pro]*num\n",
    "        if self.count % self.n == 0:\n",
    "            bill = bill*(1.-self.discount/100.)\n",
    "            self.count = 0\n",
    "        return bill\n",
    "            \n",
    "        \n",
    "\n",
    "\n",
    "\n",
    "# Your Cashier object will be instantiated and called as such:\n",
    "# obj = Cashier(n, discount, products, prices)\n",
    "# param_1 = obj.getBill(product,amount)"
   ]
  }
 ],
 "metadata": {
  "kernelspec": {
   "display_name": "Python 3",
   "language": "python",
   "name": "python3"
  },
  "language_info": {
   "codemirror_mode": {
    "name": "ipython",
    "version": 3
   },
   "file_extension": ".py",
   "mimetype": "text/x-python",
   "name": "python",
   "nbconvert_exporter": "python",
   "pygments_lexer": "ipython3",
   "version": "3.7.4"
  }
 },
 "nbformat": 4,
 "nbformat_minor": 2
}
