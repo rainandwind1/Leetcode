{
 "cells": [
  {
   "cell_type": "code",
   "execution_count": 2,
   "metadata": {},
   "outputs": [
    {
     "name": "stdout",
     "output_type": "stream",
     "text": [
      "9\n",
      "8\n",
      "4\n",
      "4\n"
     ]
    }
   ],
   "source": [
    "class Solution(object):\n",
    "    def jump(self, nums):\n",
    "        \"\"\"\n",
    "        :type nums: List[int]\n",
    "        :rtype: int\n",
    "        \"\"\"\n",
    "        idx = 0\n",
    "        l = len(nums)\n",
    "        if l == 1:\n",
    "            return 0\n",
    "        steps = 0\n",
    "        while idx < l:\n",
    "            print(nums[idx])\n",
    "            steps += 1\n",
    "            idx_max = min(l - 1, idx + nums[idx])\n",
    "            if idx_max >= l - 1:\n",
    "                return steps\n",
    "            idx_min = min(l - 1, idx + 1)\n",
    "            max_val = nums[idx_min]\n",
    "            max_index = idx_min\n",
    "            for i in range(idx_min, idx_max+1):\n",
    "                if i + nums[i] >= l - 1:\n",
    "                    return steps+1\n",
    "                if nums[i] >= max_val:\n",
    "                    max_index = i\n",
    "            idx = max_index\n",
    "        return steps\n",
    "\n",
    "    \n",
    "A = Solution()\n",
    "print(A.jump([9,8,2,2,0,2,2,0,4,1,5,7,9,6,6,0,6,5,0,5]))"
   ]
  },
  {
   "cell_type": "code",
   "execution_count": null,
   "metadata": {},
   "outputs": [],
   "source": [
    "int jump(vector<int> &nums)\n",
    "{\n",
    "    int ans = 0;\n",
    "    int start = 0;\n",
    "    int end = 1;\n",
    "    while (end < nums.size())\n",
    "    {\n",
    "        int maxPos = 0;\n",
    "        for (int i = start; i < end; i++)\n",
    "        {\n",
    "            // 能跳到最远的距离\n",
    "            maxPos = max(maxPos, i + nums[i]);\n",
    "        }\n",
    "        start = end;      // 下一次起跳点范围开始的格子\n",
    "        end = maxPos + 1; // 下一次起跳点范围结束的格子\n",
    "        ans++;            // 跳跃次数\n",
    "    }\n",
    "    return ans;\n",
    "}"
   ]
  },
  {
   "cell_type": "code",
   "execution_count": null,
   "metadata": {},
   "outputs": [],
   "source": [
    "class Solution(object):\n",
    "    def jump(self, nums):\n",
    "        \"\"\"\n",
    "        :type nums: List[int]\n",
    "        :rtype: int\n",
    "        \"\"\"\n",
    "        steps = 0\n",
    "        pre = 0\n",
    "        end = 1\n",
    "        while end < len(nums):\n",
    "            max_pos = 0\n",
    "            for i in range(pre, end):\n",
    "                max_pos = max(max_pos, i + nums[i])\n",
    "            pre = end\n",
    "            end = max_pos + 1\n",
    "            steps += 1\n",
    "        return steps"
   ]
  }
 ],
 "metadata": {
  "kernelspec": {
   "display_name": "Python 3",
   "language": "python",
   "name": "python3"
  },
  "language_info": {
   "codemirror_mode": {
    "name": "ipython",
    "version": 3
   },
   "file_extension": ".py",
   "mimetype": "text/x-python",
   "name": "python",
   "nbconvert_exporter": "python",
   "pygments_lexer": "ipython3",
   "version": "3.7.4"
  }
 },
 "nbformat": 4,
 "nbformat_minor": 2
}
