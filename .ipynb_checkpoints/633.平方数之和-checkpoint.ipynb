{
 "cells": [
  {
   "cell_type": "code",
   "execution_count": null,
   "metadata": {},
   "outputs": [],
   "source": [
    "# 超时\n",
    "class Solution(object):\n",
    "    def judgeSquareSum(self, c):\n",
    "        \"\"\"\n",
    "        :type c: int\n",
    "        :rtype: bool\n",
    "        \"\"\"\n",
    "        R = int(c**0.5)\n",
    "        for i in range(0,R+1):\n",
    "            for j in range(0,R+1):\n",
    "                if i**2 + j**2 == c:\n",
    "                    return True\n",
    "        return False\n",
    "        \n",
    "    \n",
    "\n",
    "\n",
    "A = Solution()\n",
    "print(A.judgeSquareSum(5))\n",
    "print(A.judgeSquareSum(3))"
   ]
  },
  {
   "cell_type": "code",
   "execution_count": null,
   "metadata": {},
   "outputs": [],
   "source": [
    "R = 4\n",
    "print(R**0.5)"
   ]
  },
  {
   "cell_type": "code",
   "execution_count": 2,
   "metadata": {},
   "outputs": [
    {
     "name": "stdout",
     "output_type": "stream",
     "text": [
      "True\n",
      "False\n"
     ]
    }
   ],
   "source": [
    "# 双指针\n",
    "class Solution(object):\n",
    "    def judgeSquareSum(self, c):\n",
    "        \"\"\"\n",
    "        :type c: int\n",
    "        :rtype: bool\n",
    "        \"\"\"\n",
    "        R = int(c**0.5)\n",
    "        index_max = R\n",
    "        index_min = 0\n",
    "        while True:\n",
    "            sum_ = index_max**2 + index_min**2\n",
    "            if sum_ == c:\n",
    "                return True\n",
    "            if index_max == index_min:\n",
    "                break\n",
    "            elif sum_ > c:\n",
    "                index_max -= 1\n",
    "            elif sum_ < c:\n",
    "                index_min += 1\n",
    "\n",
    "        return False\n",
    "        \n",
    "    \n",
    "\n",
    "\n",
    "A = Solution()\n",
    "print(A.judgeSquareSum(5))\n",
    "print(A.judgeSquareSum(3))"
   ]
  },
  {
   "cell_type": "code",
   "execution_count": null,
   "metadata": {},
   "outputs": [],
   "source": []
  }
 ],
 "metadata": {
  "kernelspec": {
   "display_name": "Python 3",
   "language": "python",
   "name": "python3"
  },
  "language_info": {
   "codemirror_mode": {
    "name": "ipython",
    "version": 3
   },
   "file_extension": ".py",
   "mimetype": "text/x-python",
   "name": "python",
   "nbconvert_exporter": "python",
   "pygments_lexer": "ipython3",
   "version": "3.7.4"
  }
 },
 "nbformat": 4,
 "nbformat_minor": 2
}
