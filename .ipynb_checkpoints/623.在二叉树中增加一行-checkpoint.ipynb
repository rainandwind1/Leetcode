{
 "cells": [
  {
   "cell_type": "code",
   "execution_count": null,
   "metadata": {},
   "outputs": [],
   "source": [
    "# Definition for a binary tree node.\n",
    "# class TreeNode(object):\n",
    "#     def __init__(self, x):\n",
    "#         self.val = x\n",
    "#         self.left = None\n",
    "#         self.right = None\n",
    "\n",
    "class Solution(object):\n",
    "    def addOneRow(self, root, v, d):\n",
    "        \"\"\"\n",
    "        :type root: TreeNode\n",
    "        :type v: int\n",
    "        :type d: int\n",
    "        :rtype: TreeNode\n",
    "        \"\"\"\n",
    "        if d == 1:\n",
    "            new_node = TreeNode(v)\n",
    "            new_node.left = root\n",
    "            return new_node\n",
    "        target = []\n",
    "        def search_node(head, depth):\n",
    "            if not head:\n",
    "                return\n",
    "            if depth == d - 1:\n",
    "                target.append(head)\n",
    "            left = head.left\n",
    "            search_node(left,depth+1)\n",
    "            right = head.right\n",
    "            search_node(right,depth+1)\n",
    "        search_node(root,1)\n",
    "        for i in target:\n",
    "            new_left = TreeNode(v)\n",
    "            new_right = TreeNode(v)\n",
    "            i.left, new_left.left, i.right, new_right.right = new_left, i.left, new_right, i.right\n",
    "        return root\n",
    "            \n",
    "                "
   ]
  }
 ],
 "metadata": {
  "kernelspec": {
   "display_name": "Python 3",
   "language": "python",
   "name": "python3"
  },
  "language_info": {
   "codemirror_mode": {
    "name": "ipython",
    "version": 3
   },
   "file_extension": ".py",
   "mimetype": "text/x-python",
   "name": "python",
   "nbconvert_exporter": "python",
   "pygments_lexer": "ipython3",
   "version": "3.7.4"
  }
 },
 "nbformat": 4,
 "nbformat_minor": 2
}
