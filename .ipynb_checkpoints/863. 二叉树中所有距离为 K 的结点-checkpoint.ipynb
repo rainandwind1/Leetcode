{
 "cells": [
  {
   "cell_type": "code",
   "execution_count": null,
   "metadata": {},
   "outputs": [],
   "source": [
    "import copy\n",
    "class Solution(object):\n",
    "    def distanceK(self, root, target, K):\n",
    "        \"\"\"\n",
    "        :type root: TreeNode\n",
    "        :type target: TreeNode\n",
    "        :type K: int\n",
    "        :rtype: List[int]\n",
    "        \"\"\"\n",
    "        if K == 0:\n",
    "            return [target.val]\n",
    "        from collections import defaultdict\n",
    "        graph = defaultdict(set)\n",
    "        # 构建图\n",
    "        def dfs(root):\n",
    "            if root.left:\n",
    "                graph[root.val].add(root.left.val)\n",
    "                graph[root.left.val].add(root.val)\n",
    "                dfs(root.left)\n",
    "            if root.right:\n",
    "                graph[root.val].add(root.right.val)\n",
    "                graph[root.right.val].add(root.val)\n",
    "                dfs(root.right)\n",
    "        dfs(root)\n",
    "        res = list(graph[target.val])\n",
    "        visited = {target.val}\n",
    "        dis = 1\n",
    "        s = res\n",
    "        while dis < K:\n",
    "            s = []\n",
    "            for i in res:\n",
    "                if i not in visited:\n",
    "                    visited.add(i)\n",
    "                for j in graph[i]:\n",
    "                    if j not in visited:\n",
    "                        s.append(j)\n",
    "            res = s\n",
    "            dis += 1\n",
    "        return s\n",
    "                "
   ]
  }
 ],
 "metadata": {
  "kernelspec": {
   "display_name": "Python 3",
   "language": "python",
   "name": "python3"
  },
  "language_info": {
   "codemirror_mode": {
    "name": "ipython",
    "version": 3
   },
   "file_extension": ".py",
   "mimetype": "text/x-python",
   "name": "python",
   "nbconvert_exporter": "python",
   "pygments_lexer": "ipython3",
   "version": "3.7.4"
  }
 },
 "nbformat": 4,
 "nbformat_minor": 2
}
