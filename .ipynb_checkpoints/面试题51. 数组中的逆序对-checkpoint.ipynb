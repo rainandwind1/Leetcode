{
 "cells": [
  {
   "cell_type": "code",
   "execution_count": null,
   "metadata": {},
   "outputs": [],
   "source": [
    "# 归并\n",
    "class Solution:\n",
    "    def reversePairs(self, nums: List[int]) -> int:\n",
    "        def mergeSort(l=0, r=len(nums)):#左闭右开区间\n",
    "            if r - l > 1:\n",
    "                mid = (l + r)//2\n",
    "                mergeSort(l, mid)\n",
    "                mergeSort(mid, r)\n",
    "                i, j, tmp = l, mid, []\n",
    "                while i < mid and j < r:\n",
    "                    if nums[i] <= nums[j]:\n",
    "                        tmp.append(nums[i])\n",
    "                        i += 1\n",
    "                    else:\n",
    "                        tmp.append(nums[j])\n",
    "                        j += 1\n",
    "                        self.cnt += mid - i\n",
    "                tmp.extend(nums[i:mid] if i<mid else nums[j:r])\n",
    "                nums[l:r] = tmp\n",
    "\n",
    "        self.cnt = 0\n",
    "        mergeSort()\n",
    "        return self.cnt\n"
   ]
  }
 ],
 "metadata": {
  "kernelspec": {
   "display_name": "Python 3",
   "language": "python",
   "name": "python3"
  },
  "language_info": {
   "codemirror_mode": {
    "name": "ipython",
    "version": 3
   },
   "file_extension": ".py",
   "mimetype": "text/x-python",
   "name": "python",
   "nbconvert_exporter": "python",
   "pygments_lexer": "ipython3",
   "version": "3.7.4"
  }
 },
 "nbformat": 4,
 "nbformat_minor": 2
}
