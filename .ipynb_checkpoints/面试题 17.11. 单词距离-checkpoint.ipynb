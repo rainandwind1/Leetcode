{
 "cells": [
  {
   "cell_type": "code",
   "execution_count": null,
   "metadata": {},
   "outputs": [],
   "source": [
    "class Solution(object):\n",
    "    def findClosest(self, words, word1, word2):\n",
    "        \"\"\"\n",
    "        :type words: List[str]\n",
    "        :type word1: str\n",
    "        :type word2: str\n",
    "        :rtype: int\n",
    "        \"\"\"\n",
    "        index = 0\n",
    "        idx_1 = -1\n",
    "        idx_2 = -1\n",
    "        min_len = float('inf')\n",
    "        while index < len(words):\n",
    "            if words[index] == word1 or words[index] == word2:\n",
    "                if words[index] == word1:\n",
    "                    idx_1 = index\n",
    "                if words[index] == word2:\n",
    "                    idx_2 = index\n",
    "                if idx_1 >= 0 and idx_2 >= 0:\n",
    "                    min_len = min(min_len, abs(idx_2 - idx_1))\n",
    "            index += 1\n",
    "        return min_len"
   ]
  }
 ],
 "metadata": {
  "kernelspec": {
   "display_name": "Python 3",
   "language": "python",
   "name": "python3"
  },
  "language_info": {
   "codemirror_mode": {
    "name": "ipython",
    "version": 3
   },
   "file_extension": ".py",
   "mimetype": "text/x-python",
   "name": "python",
   "nbconvert_exporter": "python",
   "pygments_lexer": "ipython3",
   "version": "3.7.4"
  }
 },
 "nbformat": 4,
 "nbformat_minor": 2
}
