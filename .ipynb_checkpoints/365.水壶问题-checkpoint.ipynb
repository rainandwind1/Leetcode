{
 "cells": [
  {
   "cell_type": "code",
   "execution_count": 4,
   "metadata": {},
   "outputs": [
    {
     "name": "stdout",
     "output_type": "stream",
     "text": [
      "True\n",
      "False\n"
     ]
    }
   ],
   "source": [
    "class Solution(object):\n",
    "    def canMeasureWater(self, x, y, z):\n",
    "        \"\"\"\n",
    "        :type x: int\n",
    "        :type y: int\n",
    "        :type z: int\n",
    "        :rtype: bool\n",
    "        \"\"\"\n",
    "        # 装满任意一个水壶\n",
    "        # 清空任意一个水壶\n",
    "        # 从一个水壶想另外一个水壶倒水，直到装满或者倒空\n",
    "        from collections import deque\n",
    "        queue = deque([[0,0]])\n",
    "        visited = set([(0,0)])\n",
    "        while queue:\n",
    "            cur_x,cur_y = queue.pop()\n",
    "            if z in [cur_x,cur_y,cur_x+cur_y]:\n",
    "                return True\n",
    "            for item in[\n",
    "                (x,cur_y),(cur_x,y), #加满\n",
    "                (0,cur_y),(cur_x,0), #清空\n",
    "                (cur_x - y + cur_y,y) if y-cur_y <= cur_x else (0,cur_y+cur_x),\n",
    "                (x,cur_y- x + cur_x) if x-cur_x <= cur_y else (cur_x + cur_y,0)\n",
    "            ]:\n",
    "                if item not in visited:\n",
    "                    queue.appendleft(item)\n",
    "                    visited.add(item)\n",
    "        return False\n",
    "        \n",
    "A = Solution()\n",
    "print(A.canMeasureWater(3,5,4))\n",
    "print(A.canMeasureWater(2,6,5))"
   ]
  },
  {
   "cell_type": "code",
   "execution_count": 5,
   "metadata": {},
   "outputs": [
    {
     "name": "stdout",
     "output_type": "stream",
     "text": [
      "True\n",
      "False\n"
     ]
    }
   ],
   "source": [
    "class Solution:\n",
    "    def canMeasureWater(self, x: int, y: int, z: int) -> bool:  \n",
    "        from collections import deque\n",
    "        queue = deque([[0, 0]])\n",
    "        visited = set([(0, 0)])\n",
    "\n",
    "        while queue:\n",
    "            cur_x, cur_y = queue.pop()\n",
    "            if z in [cur_x, cur_y, cur_x + cur_y]:\n",
    "                return True\n",
    "            for item in [\n",
    "                # 加满水\n",
    "                (x, cur_y), (cur_x, y),\n",
    "                # 清空水\n",
    "                (0, cur_y), (cur_x, 0),\n",
    "                # x -> y\n",
    "                (cur_x + cur_y - y, y) if cur_x + cur_y >= y else (0, cur_x + cur_y),\n",
    "                # y -> x\n",
    "                (x, cur_x + cur_y - x) if cur_x + cur_y >= x else (cur_x + cur_y, 0)]:\n",
    "                if item not in visited:\n",
    "                    queue.appendleft(item)\n",
    "                    visited.add(item)\n",
    "        return False\n",
    "    \n",
    "    A = Solution()\n",
    "print(A.canMeasureWater(3,5,4))\n",
    "print(A.canMeasureWater(2,6,5))"
   ]
  },
  {
   "cell_type": "code",
   "execution_count": null,
   "metadata": {},
   "outputs": [],
   "source": []
  },
  {
   "cell_type": "code",
   "execution_count": null,
   "metadata": {},
   "outputs": [],
   "source": []
  }
 ],
 "metadata": {
  "kernelspec": {
   "display_name": "Python 3",
   "language": "python",
   "name": "python3"
  },
  "language_info": {
   "codemirror_mode": {
    "name": "ipython",
    "version": 3
   },
   "file_extension": ".py",
   "mimetype": "text/x-python",
   "name": "python",
   "nbconvert_exporter": "python",
   "pygments_lexer": "ipython3",
   "version": "3.7.4"
  }
 },
 "nbformat": 4,
 "nbformat_minor": 2
}
