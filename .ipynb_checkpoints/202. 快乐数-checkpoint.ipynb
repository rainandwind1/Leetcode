{
 "cells": [
  {
   "cell_type": "code",
   "execution_count": null,
   "metadata": {},
   "outputs": [],
   "source": [
    "class Solution(object):\n",
    "    def isHappy(self, n):\n",
    "        \"\"\"\n",
    "        :type n: int\n",
    "        :rtype: bool\n",
    "        \"\"\"\n",
    "        mem = []\n",
    "        def search(num):\n",
    "            res = 0\n",
    "            n_str = str(num)\n",
    "            for i in n_str:\n",
    "                res += int(i)**2\n",
    "            if res == 1:\n",
    "                return True\n",
    "            elif res in mem:\n",
    "                return False\n",
    "            else:\n",
    "                mem.append(res)\n",
    "                return search(res)\n",
    "        return search(n)"
   ]
  }
 ],
 "metadata": {
  "kernelspec": {
   "display_name": "Python 3",
   "language": "python",
   "name": "python3"
  },
  "language_info": {
   "codemirror_mode": {
    "name": "ipython",
    "version": 3
   },
   "file_extension": ".py",
   "mimetype": "text/x-python",
   "name": "python",
   "nbconvert_exporter": "python",
   "pygments_lexer": "ipython3",
   "version": "3.7.4"
  }
 },
 "nbformat": 4,
 "nbformat_minor": 2
}
