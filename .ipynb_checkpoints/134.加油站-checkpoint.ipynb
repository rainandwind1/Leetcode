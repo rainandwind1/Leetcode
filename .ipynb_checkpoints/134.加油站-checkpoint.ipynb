{
 "cells": [
  {
   "cell_type": "code",
   "execution_count": 7,
   "metadata": {
    "code_folding": []
   },
   "outputs": [
    {
     "name": "stdout",
     "output_type": "stream",
     "text": [
      "3\n",
      "-1\n"
     ]
    }
   ],
   "source": [
    "# 直译法\n",
    "class Solution(object):\n",
    "    def canCompleteCircuit(self, gas, cost):\n",
    "        \"\"\"\n",
    "        :type gas: List[int]\n",
    "        :type cost: List[int]\n",
    "        :rtype: int\n",
    "        \"\"\"\n",
    "        gas_sum = 0\n",
    "        for i in range(len(gas)):\n",
    "            gas_sum = gas[i]\n",
    "            init_index = i\n",
    "            end_index = i+1\n",
    "            if end_index >= len(gas):\n",
    "                end_index -= len(gas)\n",
    "            while True:\n",
    "                gas_sum -= cost[end_index-1]\n",
    "                if gas_sum < 0:\n",
    "                    break\n",
    "                if init_index == end_index:\n",
    "                    return init_index\n",
    "                gas_sum += gas[end_index]\n",
    "                end_index += 1\n",
    "                if end_index >= len(gas):\n",
    "                    end_index -= len(gas)\n",
    "                \n",
    "        return -1\n",
    "        \n",
    "A = Solution()\n",
    "print(A.canCompleteCircuit(gas  = [1,2,3,4,5],\n",
    "cost = [3,4,5,1,2]))\n",
    "print(A.canCompleteCircuit(gas  = [2,3,4],\n",
    "cost = [3,4,3]\n",
    "))"
   ]
  },
  {
   "cell_type": "code",
   "execution_count": null,
   "metadata": {},
   "outputs": [],
   "source": []
  },
  {
   "cell_type": "code",
   "execution_count": null,
   "metadata": {},
   "outputs": [],
   "source": []
  }
 ],
 "metadata": {
  "kernelspec": {
   "display_name": "Python 3",
   "language": "python",
   "name": "python3"
  },
  "language_info": {
   "codemirror_mode": {
    "name": "ipython",
    "version": 3
   },
   "file_extension": ".py",
   "mimetype": "text/x-python",
   "name": "python",
   "nbconvert_exporter": "python",
   "pygments_lexer": "ipython3",
   "version": "3.7.4"
  }
 },
 "nbformat": 4,
 "nbformat_minor": 2
}
