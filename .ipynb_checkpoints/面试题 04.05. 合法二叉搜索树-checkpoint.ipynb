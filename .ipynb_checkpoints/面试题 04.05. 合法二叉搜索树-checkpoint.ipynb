{
 "cells": [
  {
   "cell_type": "code",
   "execution_count": null,
   "metadata": {},
   "outputs": [],
   "source": [
    "class Solution:\n",
    "    def isValidBST(self, root: TreeNode) -> bool:\n",
    "        res = []\n",
    "        def mid_search(node):\n",
    "            if not node:\n",
    "                return\n",
    "            mid_search(node.left)\n",
    "            res.append(node.val)\n",
    "            mid_search(node.right)\n",
    "        mid_search(root)\n",
    "        pre = res.copy()\n",
    "        res.sort()\n",
    "        return pre == res and len(res) == len(set(res))"
   ]
  }
 ],
 "metadata": {
  "kernelspec": {
   "display_name": "Python 3",
   "language": "python",
   "name": "python3"
  },
  "language_info": {
   "codemirror_mode": {
    "name": "ipython",
    "version": 3
   },
   "file_extension": ".py",
   "mimetype": "text/x-python",
   "name": "python",
   "nbconvert_exporter": "python",
   "pygments_lexer": "ipython3",
   "version": "3.7.4"
  }
 },
 "nbformat": 4,
 "nbformat_minor": 2
}
