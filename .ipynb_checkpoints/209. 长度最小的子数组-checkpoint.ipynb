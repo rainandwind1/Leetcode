{
 "cells": [
  {
   "cell_type": "code",
   "execution_count": null,
   "metadata": {},
   "outputs": [],
   "source": [
    "class Solution(object):\n",
    "    def minSubArrayLen(self, s, nums):\n",
    "        ans = 0\n",
    "        res = float('inf')\n",
    "        pre, cur, end = 0, 0, 0\n",
    "        while end < len(nums) and cur < len(nums):\n",
    "            ans += nums[cur]\n",
    "            while ans >= s:\n",
    "                end = cur\n",
    "                res = min(res, end - pre + 1)\n",
    "                ans -= nums[pre]\n",
    "                pre += 1\n",
    "            \n",
    "            cur += 1\n",
    "        if res == float('inf'):\n",
    "            return 0\n",
    "        return res"
   ]
  }
 ],
 "metadata": {
  "kernelspec": {
   "display_name": "Python 3",
   "language": "python",
   "name": "python3"
  },
  "language_info": {
   "codemirror_mode": {
    "name": "ipython",
    "version": 3
   },
   "file_extension": ".py",
   "mimetype": "text/x-python",
   "name": "python",
   "nbconvert_exporter": "python",
   "pygments_lexer": "ipython3",
   "version": "3.7.4"
  }
 },
 "nbformat": 4,
 "nbformat_minor": 2
}
