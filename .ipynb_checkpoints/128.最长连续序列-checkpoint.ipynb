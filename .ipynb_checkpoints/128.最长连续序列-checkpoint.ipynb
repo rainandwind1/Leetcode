{
 "cells": [
  {
   "cell_type": "code",
   "execution_count": null,
   "metadata": {},
   "outputs": [],
   "source": [
    "class Solution(object):\n",
    "    def longestConsecutive(self, nums):\n",
    "        \"\"\"\n",
    "        :type nums: List[int]\n",
    "        :rtype: int\n",
    "        \"\"\"\n",
    "        if not nums:\n",
    "            return 0\n",
    "#         def fast_sort(target):\n",
    "#             if not target:\n",
    "#                 return []\n",
    "#             m = target[0]\n",
    "#             left = [i for i in target if i < m]\n",
    "#             mid = [i for i in target if i == m]\n",
    "#             right = [i for i in target if i > m]\n",
    "#             return fast_sort(left) + mid + fast_sort(right)\n",
    "        \n",
    "#         t = fast_sort(nums)\n",
    "        \n",
    "        nums.sort()\n",
    "        t = nums\n",
    "        dp = [1 for i in range(len(t))]\n",
    "        for i in range(1, len(t)):\n",
    "            if t[i] == t[i - 1] + 1:\n",
    "                dp[i] = dp[i - 1] + 1\n",
    "            elif t[i] == t[i - 1]:\n",
    "                dp[i] = dp[i - 1]\n",
    "        return max(dp)\n",
    "            \n",
    "            \n"
   ]
  }
 ],
 "metadata": {
  "kernelspec": {
   "display_name": "Python 3",
   "language": "python",
   "name": "python3"
  },
  "language_info": {
   "codemirror_mode": {
    "name": "ipython",
    "version": 3
   },
   "file_extension": ".py",
   "mimetype": "text/x-python",
   "name": "python",
   "nbconvert_exporter": "python",
   "pygments_lexer": "ipython3",
   "version": "3.7.4"
  }
 },
 "nbformat": 4,
 "nbformat_minor": 2
}
