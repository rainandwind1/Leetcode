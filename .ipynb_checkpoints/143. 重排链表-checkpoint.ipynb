{
 "cells": [
  {
   "cell_type": "code",
   "execution_count": null,
   "metadata": {},
   "outputs": [],
   "source": [
    "# Definition for singly-linked list.\n",
    "# class ListNode(object):\n",
    "#     def __init__(self, val=0, next=None):\n",
    "#         self.val = val\n",
    "#         self.next = next\n",
    "class Solution(object):\n",
    "    def reorderList(self, head):\n",
    "        \"\"\"\n",
    "        :type head: ListNode\n",
    "        :rtype: None Do not return anything, modify head in-place instead.\n",
    "        \"\"\"\n",
    "        val = []\n",
    "        while head:\n",
    "            val.append(head.val)\n",
    "            head = head.next\n",
    "        p = ListNode(None)\n",
    "        pre = p\n",
    "        idx = 0\n",
    "        l = len(val)\n",
    "        while l - idx - 1 > idx:\n",
    "            pre.next = ListNode(val[idx])\n",
    "            pre = pre.next\n",
    "            if l - idx - 1 > idx:\n",
    "                pre.next = ListNode(val[l - idx - 1])\n",
    "                pre = pre.next\n",
    "            idx += 1\n",
    "        return p.next\n",
    "            "
   ]
  },
  {
   "cell_type": "code",
   "execution_count": null,
   "metadata": {},
   "outputs": [],
   "source": [
    "class Solution(object):\n",
    "    def reorderList(self, head):\n",
    "        \"\"\"\n",
    "        :type head: ListNode\n",
    "        :rtype: None Do not return anything, modify head in-place instead.\n",
    "        \"\"\"\n",
    "        node = []\n",
    "        while head:\n",
    "            p = head.next\n",
    "            head.next = None\n",
    "            node.append(head)\n",
    "            head = p\n",
    "        idx = 0\n",
    "        l = len(node)\n",
    "        while l - idx - 1 > idx:\n",
    "            node[idx].next = node[l - idx - 1]\n",
    "            if l - idx - 2 >= idx + 1:\n",
    "                node[l - idx - 1].next = node[idx + 1]\n",
    "            idx += 1\n"
   ]
  }
 ],
 "metadata": {
  "kernelspec": {
   "display_name": "Python 3",
   "language": "python",
   "name": "python3"
  },
  "language_info": {
   "codemirror_mode": {
    "name": "ipython",
    "version": 3
   },
   "file_extension": ".py",
   "mimetype": "text/x-python",
   "name": "python",
   "nbconvert_exporter": "python",
   "pygments_lexer": "ipython3",
   "version": "3.7.4"
  }
 },
 "nbformat": 4,
 "nbformat_minor": 2
}
