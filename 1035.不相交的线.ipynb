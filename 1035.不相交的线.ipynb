{
 "cells": [
  {
   "cell_type": "code",
   "execution_count": 3,
   "metadata": {},
   "outputs": [
    {
     "name": "stdout",
     "output_type": "stream",
     "text": [
      "2\n",
      "3\n",
      "2\n"
     ]
    }
   ],
   "source": [
    "class Solution(object):\n",
    "    def maxUncrossedLines(self, A, B):\n",
    "        \"\"\"\n",
    "        :type A: List[int]\n",
    "        :type B: List[int]\n",
    "        :rtype: int\n",
    "        \"\"\"\n",
    "        # DP 解法\n",
    "        \n",
    "        length_matrix = [[0 for i in range(len(B)+1)] for i in range(len(A)+1)]\n",
    "        for i in range(len(A)):\n",
    "            for j in range(len(B)):\n",
    "                if A[i] == B[j]:\n",
    "                    length_matrix[i + 1][j + 1] = length_matrix[i][j] + 1\n",
    "                else:\n",
    "                    length_matrix[i + 1][j + 1] = max(length_matrix[i+1][j],length_matrix[i][j+1])\n",
    "        return length_matrix[-1][-1]\n",
    "        \n",
    "        \n",
    "        \n",
    "A = Solution()\n",
    "print(A.maxUncrossedLines([1,4,2],[1,2,4]))\n",
    "print(A.maxUncrossedLines([2,5,1,2,5],[10,5,2,1,5,2]))\n",
    "print(A.maxUncrossedLines([1,3,7,1,7,5],[1,9,2,5,1]))"
   ]
  },
  {
   "cell_type": "code",
   "execution_count": null,
   "metadata": {},
   "outputs": [],
   "source": [
    "class Solution(object):\n",
    "    def maxUncrossedLines(self, A, B):\n",
    "        \"\"\"\n",
    "        :type A: List[int]\n",
    "        :type B: List[int]\n",
    "        :rtype: int\n",
    "        \"\"\"\n",
    "        # 最长公共子串\n",
    "        # 本质同DP\n",
    "        \n",
    "        \n",
    "A = Solution()\n",
    "print(A.maxUncrossedLines([1,4,2],[1,2,4]))\n",
    "print(A.maxUncrossedLines([2,5,1,2,5],[10,5,2,1,5,2]))\n",
    "print(A.maxUncrossedLines([1,3,7,1,7,5],[1,9,2,5,1]))"
   ]
  }
 ],
 "metadata": {
  "kernelspec": {
   "display_name": "Python 3",
   "language": "python",
   "name": "python3"
  },
  "language_info": {
   "codemirror_mode": {
    "name": "ipython",
    "version": 3
   },
   "file_extension": ".py",
   "mimetype": "text/x-python",
   "name": "python",
   "nbconvert_exporter": "python",
   "pygments_lexer": "ipython3",
   "version": "3.7.4"
  }
 },
 "nbformat": 4,
 "nbformat_minor": 2
}
