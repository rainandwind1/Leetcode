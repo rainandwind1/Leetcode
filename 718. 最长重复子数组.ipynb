{
 "cells": [
  {
   "cell_type": "code",
   "execution_count": 14,
   "metadata": {},
   "outputs": [
    {
     "name": "stdout",
     "output_type": "stream",
     "text": [
      "[3, 2, 1]\n"
     ]
    }
   ],
   "source": [
    "class Solution(object):\n",
    "    def findLength(self, A, B):\n",
    "        \"\"\"\n",
    "        :type A: List[int]\n",
    "        :type B: List[int]\n",
    "        :rtype: int\n",
    "        \"\"\"\n",
    "        max_len = 0\n",
    "        max_id = []\n",
    "        A.append(0.1)\n",
    "        B.append(0.2)\n",
    "        res = [[1 if A[i] == B[j] else 0 for i in range(len(A))] for j in range(len(B))]\n",
    "        for i in range(len(A) - 1):\n",
    "            for j in range(len(B) - 1):\n",
    "                res[i+1][j+1] += res[i][j]\n",
    "                if max_len <= res[i+1][j+1]:\n",
    "                    max_len = res[i+1][j+1]\n",
    "                    max_id.append((i,j))\n",
    "        idx_1, idx_2 = max_id[-1][0], max_id[-1][1]\n",
    "        return A[i - max_len + 1: i + 1]\n",
    "        print(idx_1, idx_2)\n",
    "        \n",
    "A = Solution()\n",
    "print(A.findLength([1,2,3,2,1], [3,2,1,4,7]))"
   ]
  },
  {
   "cell_type": "code",
   "execution_count": 11,
   "metadata": {},
   "outputs": [
    {
     "name": "stdout",
     "output_type": "stream",
     "text": [
      "3\n"
     ]
    }
   ],
   "source": [
    "A = [[1,2,3],[0,0,5]]\n",
    "print(max(max(A)))"
   ]
  },
  {
   "cell_type": "code",
   "execution_count": 16,
   "metadata": {},
   "outputs": [
    {
     "name": "stdout",
     "output_type": "stream",
     "text": [
      "2\n"
     ]
    }
   ],
   "source": [
    "\n",
    "class Solution(object):\n",
    "    def findLength(self, A, B):\n",
    "        \"\"\"\n",
    "        :type A: List[int]\n",
    "        :type B: List[int]\n",
    "        :rtype: int\n",
    "        \"\"\"\n",
    "        max_len = 0\n",
    "        A.append(0.1)\n",
    "        B.append(0.2)\n",
    "        res = [[1 if A[i] == B[j] else 0 for i in range(len(A))] for j in range(len(B))]\n",
    "        for i in range(len(A) - 1):\n",
    "            for j in range(len(B) - 1):\n",
    "                if res[i+1][j+1] == 1:\n",
    "                    res[i+1][j+1] += res[i][j]\n",
    "                max_len = max(max_len, res[i+1][j+1])\n",
    "        return max_len\n",
    "A = Solution()\n",
    "print(A.findLength([0,1,1,1,1], [1,0,1,0,1]))"
   ]
  },
  {
   "cell_type": "code",
   "execution_count": null,
   "metadata": {},
   "outputs": [],
   "source": [
    "class Solution(object):\n",
    "    def findLength(self, A, B):\n",
    "        \"\"\"\n",
    "        :type A: List[int]\n",
    "        :type B: List[int]\n",
    "        :rtype: int\n",
    "        \"\"\"\n",
    "        max_len = 0\n",
    "        A.append(0.1)\n",
    "        B.append(0.2)\n",
    "        res = [[0 for i in range(len(A))] for j in range(len(B))]\n",
    "        for i in range(1, len(A)):\n",
    "            for j in range(1, len(B)):\n",
    "                if A[i - 1] == B[j - 1]:\n",
    "                    res[i][j] = res[i - 1][j - 1] + 1\n",
    "                max_len = max(max_len, res[i][j])\n",
    "        return max_len"
   ]
  }
 ],
 "metadata": {
  "kernelspec": {
   "display_name": "Python 3",
   "language": "python",
   "name": "python3"
  },
  "language_info": {
   "codemirror_mode": {
    "name": "ipython",
    "version": 3
   },
   "file_extension": ".py",
   "mimetype": "text/x-python",
   "name": "python",
   "nbconvert_exporter": "python",
   "pygments_lexer": "ipython3",
   "version": "3.7.4"
  }
 },
 "nbformat": 4,
 "nbformat_minor": 2
}
