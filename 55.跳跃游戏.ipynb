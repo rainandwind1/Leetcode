{
 "cells": [
  {
   "cell_type": "code",
   "execution_count": 21,
   "metadata": {},
   "outputs": [
    {
     "name": "stdout",
     "output_type": "stream",
     "text": [
      "True\n"
     ]
    }
   ],
   "source": [
    "# 超时\n",
    "class Solution(object):\n",
    "    def canJump(self, nums):\n",
    "        \"\"\"\n",
    "        :type nums: List[int]\n",
    "        :rtype: bool\n",
    "        \"\"\"\n",
    "        def jump_to_next(steps,num):\n",
    "            #print(steps,num)\n",
    "            #result_list = []\n",
    "            if steps == 0:\n",
    "                return  False\n",
    "            if steps >= len(num):\n",
    "                return True\n",
    "            for i in range(1,steps+1):\n",
    "                if jump_to_next(num[i-1],num[i:]):\n",
    "                    return True\n",
    "        steps = nums[0]\n",
    "        result_list = []\n",
    "        if steps >= len(nums) - 1:\n",
    "            return True\n",
    "        if steps == 0:\n",
    "            return False\n",
    "        for i in range(1,steps+1):\n",
    "            result_list.append(jump_to_next(nums[i],nums[i+1:]))\n",
    "        #print(result_list)\n",
    "        if True in result_list:\n",
    "            return True\n",
    "        else:\n",
    "            return False\n",
    "        \n",
    "        \n",
    "\n",
    "        \n",
    "A = Solution()\n",
    "# print(A.canJump([2,3,1,1,4]))\n",
    "# print(A.canJump([3,2,1,0,4]))\n",
    "# print(A.canJump([0]))\n",
    "print(A.canJump([1,1,2,2,0,1,1]))"
   ]
  },
  {
   "cell_type": "code",
   "execution_count": 22,
   "metadata": {},
   "outputs": [
    {
     "name": "stdout",
     "output_type": "stream",
     "text": [
      "True\n"
     ]
    }
   ],
   "source": [
    "class Solution(object):\n",
    "    def canJump(self, nums):\n",
    "        \"\"\"\n",
    "        :type nums: List[int]\n",
    "        :rtype: bool\n",
    "        \"\"\"\n",
    "        k = 0\n",
    "        for i in range(len(nums)):\n",
    "            if i > k:\n",
    "                return False\n",
    "            k = max(k,i + nums[i])\n",
    "        return True\n",
    "        \n",
    "\n",
    "        \n",
    "\n",
    "        \n",
    "A = Solution()\n",
    "# print(A.canJump([2,3,1,1,4]))\n",
    "# print(A.canJump([3,2,1,0,4]))\n",
    "# print(A.canJump([0]))\n",
    "print(A.canJump([1,1,2,2,0,1,1]))"
   ]
  },
  {
   "cell_type": "code",
   "execution_count": 1,
   "metadata": {},
   "outputs": [
    {
     "name": "stdout",
     "output_type": "stream",
     "text": [
      "{0}\n"
     ]
    }
   ],
   "source": [
    "a = [0,0,0,0,0]\n",
    "b = set(a)\n",
    "print(b)"
   ]
  },
  {
   "cell_type": "code",
   "execution_count": null,
   "metadata": {},
   "outputs": [],
   "source": [
    "# success\n",
    "class Solution(object):\n",
    "    def canJump(self, nums):\n",
    "        \"\"\"\n",
    "        :type nums: List[int]\n",
    "        :rtype: bool\n",
    "        \"\"\"\n",
    "        if len(nums) == 1:\n",
    "            return True\n",
    "        if 0 not in nums:\n",
    "            return True\n",
    "        if set(nums) == {0}:\n",
    "            return False\n",
    "        \n",
    "        def search_num(ls):\n",
    "            count = 1\n",
    "            for i in ls[::-1]:\n",
    "                if i > count:\n",
    "                    return True\n",
    "                count += 1\n",
    "            return False\n",
    "            \n",
    "            \n",
    "        for i in range(len(nums) - 2,-1,-1):\n",
    "            if nums[i] == 0:\n",
    "                result = search_num(nums[:i])\n",
    "                if not result:\n",
    "                    return result\n",
    "            else:\n",
    "                continue\n",
    "        return True"
   ]
  }
 ],
 "metadata": {
  "kernelspec": {
   "display_name": "Python 3",
   "language": "python",
   "name": "python3"
  },
  "language_info": {
   "codemirror_mode": {
    "name": "ipython",
    "version": 3
   },
   "file_extension": ".py",
   "mimetype": "text/x-python",
   "name": "python",
   "nbconvert_exporter": "python",
   "pygments_lexer": "ipython3",
   "version": "3.7.4"
  }
 },
 "nbformat": 4,
 "nbformat_minor": 2
}
