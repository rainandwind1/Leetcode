{
 "cells": [
  {
   "cell_type": "code",
   "execution_count": null,
   "metadata": {},
   "outputs": [],
   "source": [
    "class Solution(object):\n",
    "    def maxSlidingWindow(self, nums, k):\n",
    "        \"\"\"\n",
    "        :type nums: List[int]\n",
    "        :type k: int\n",
    "        :rtype: List[int]\n",
    "        \"\"\"\n",
    "        if k == 1:\n",
    "            return nums\n",
    "        left_index = 0\n",
    "        right_index = 0\n",
    "        max_num = nums[0]\n",
    "        res = []\n",
    "        while right_index < len(nums):\n",
    "            max_num = max(max_num, nums[right_index])\n",
    "            if right_index - left_index >= k - 1:\n",
    "                res.append(max_num)\n",
    "                left_index += 1\n",
    "                if max_num == nums[left_index - 1]:\n",
    "                    max_num = max(nums[left_index:right_index+1])\n",
    "            right_index += 1\n",
    "        return res"
   ]
  }
 ],
 "metadata": {
  "kernelspec": {
   "display_name": "Python 3",
   "language": "python",
   "name": "python3"
  },
  "language_info": {
   "codemirror_mode": {
    "name": "ipython",
    "version": 3
   },
   "file_extension": ".py",
   "mimetype": "text/x-python",
   "name": "python",
   "nbconvert_exporter": "python",
   "pygments_lexer": "ipython3",
   "version": "3.7.4"
  }
 },
 "nbformat": 4,
 "nbformat_minor": 2
}
