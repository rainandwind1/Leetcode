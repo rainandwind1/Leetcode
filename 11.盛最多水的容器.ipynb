{
 "cells": [
  {
   "cell_type": "code",
   "execution_count": 5,
   "metadata": {},
   "outputs": [
    {
     "name": "stdout",
     "output_type": "stream",
     "text": [
      "left 0 6\n",
      "left 3 6 15\n",
      "15\n"
     ]
    }
   ],
   "source": [
    "class Solution(object):\n",
    "    def maxArea(self, height):\n",
    "        \"\"\"\n",
    "        :type height: List[int]\n",
    "        :rtype: int\n",
    "        \"\"\"\n",
    "        left_side = 0\n",
    "        right_side = len(height)-1\n",
    "        left_index = 0\n",
    "        right_index = len(height)-1\n",
    "        max_s = min(height[left_side], height[right_side]) * (right_side - left_side)\n",
    "        while left_index < right_index:\n",
    "            # print(height[left_side],height[right_side],max_s)\n",
    "            if height[left_side] <= height[right_side]:\n",
    "                print(\"left\", left_index,right_index)\n",
    "                if max(height[left_index:right_index]) <= height[left_side]:\n",
    "                    return max_s\n",
    "                while height[left_index] <= height[left_side]:\n",
    "                    left_index += 1\n",
    "                if min(height[left_index], height[right_side])*(right_side - left_index) >= max_s:\n",
    "                    left_side = left_index\n",
    "                    max_s = min(height[left_index], height[right_side])*(right_side - left_index)             \n",
    "                    print(\"left\",height[left_side],height[right_side],max_s)\n",
    "                else:\n",
    "                    left_index += 1\n",
    "\n",
    "            elif height[left_side] > height[right_side]:\n",
    "                print(\"right\")\n",
    "                if max(height[left_index+1:right_index+1]) <= height[right_side]:\n",
    "                    return max_s\n",
    "                while height[right_index] <= height[right_side]:\n",
    "                    right_index -= 1\n",
    "                if min(height[left_side], height[right_index])*(right_index- left_side) >= max_s:\n",
    "                    print(min(height[left_side], height[right_index])*(right_side - left_index),max_s)\n",
    "                    right_side = right_index\n",
    "                    max_s = min(height[left_side], height[right_index])*(right_side - left_index)             \n",
    "                    print(\"right\",height[left_side],height[right_side],max_s)\n",
    "                else:\n",
    "                    right_index -= 1\n",
    "            return max_s\n",
    "\n",
    "A = Solution()\n",
    "print(A.maxArea([2,3,4,5,18,17,6]))"
   ]
  },
  {
   "cell_type": "code",
   "execution_count": null,
   "metadata": {},
   "outputs": [],
   "source": [
    "class Solution(object):\n",
    "    def maxArea(self, height):\n",
    "        \"\"\"\n",
    "        :type height: List[int]\n",
    "        :rtype: int\n",
    "        \"\"\"\n",
    "        left = 0\n",
    "        right = len(height) - 1\n",
    "        max_s = 0\n",
    "        while left < right:\n",
    "            width = right - left\n",
    "            if height[left] < height[right]:\n",
    "                s = height[left]*width\n",
    "                left += 1\n",
    "            else:\n",
    "                s = height[right]*width\n",
    "                right -= 1\n",
    "            max_s = max(s,max_s)\n",
    "        return max_s"
   ]
  }
 ],
 "metadata": {
  "kernelspec": {
   "display_name": "Python 3",
   "language": "python",
   "name": "python3"
  },
  "language_info": {
   "codemirror_mode": {
    "name": "ipython",
    "version": 3
   },
   "file_extension": ".py",
   "mimetype": "text/x-python",
   "name": "python",
   "nbconvert_exporter": "python",
   "pygments_lexer": "ipython3",
   "version": "3.7.4"
  }
 },
 "nbformat": 4,
 "nbformat_minor": 2
}
