{
 "cells": [
  {
   "cell_type": "code",
   "execution_count": 15,
   "metadata": {},
   "outputs": [
    {
     "name": "stdout",
     "output_type": "stream",
     "text": [
      "7\n"
     ]
    }
   ],
   "source": [
    "class Solution(object):\n",
    "    def minPathSum(self, grid):\n",
    "        \"\"\"\n",
    "        :type grid: List[List[int]]\n",
    "        :rtype: int\n",
    "        \"\"\"\n",
    "        dp = [[0 for i in range(len(grid[0]))] for j in range(len(grid))]\n",
    "        for i in range(len(grid)):\n",
    "            for j in range(len(grid[0])):\n",
    "                if i == 0 and j > 0:\n",
    "                    dp[i][j] = dp[i][j-1] + grid[i][j]\n",
    "                elif j == 0 and i > 0:\n",
    "                    dp[i][j] = dp[i-1][j] + grid[i][j]\n",
    "                elif i > 0 and j > 0:\n",
    "                    dp[i][j] = min(dp[i-1][j]+grid[i][j],dp[i][j - 1]+grid[i][j])\n",
    "                else:\n",
    "                    dp[i][j] = grid[0][0]\n",
    "        return dp[-1][-1]\n",
    "A = Solution()\n",
    "print(A.minPathSum([\n",
    "  [1,3,1],\n",
    "  [1,5,1],\n",
    "  [4,2,1]\n",
    "]))"
   ]
  },
  {
   "cell_type": "code",
   "execution_count": null,
   "metadata": {},
   "outputs": [],
   "source": []
  }
 ],
 "metadata": {
  "kernelspec": {
   "display_name": "Python 3",
   "language": "python",
   "name": "python3"
  },
  "language_info": {
   "codemirror_mode": {
    "name": "ipython",
    "version": 3
   },
   "file_extension": ".py",
   "mimetype": "text/x-python",
   "name": "python",
   "nbconvert_exporter": "python",
   "pygments_lexer": "ipython3",
   "version": "3.7.4"
  }
 },
 "nbformat": 4,
 "nbformat_minor": 2
}
