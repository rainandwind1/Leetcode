{
 "cells": [
  {
   "cell_type": "code",
   "execution_count": null,
   "metadata": {},
   "outputs": [],
   "source": [
    "class Solution(object):\n",
    "    def singleNumbers(self, nums):\n",
    "        \"\"\"\n",
    "        :type nums: List[int]\n",
    "        :rtype: List[int]\n",
    "        \"\"\"\n",
    "        A = set(nums)\n",
    "        d = {}\n",
    "        for i in nums:\n",
    "            if d.get(i,0) == 1:\n",
    "                A.remove(i)\n",
    "            else:\n",
    "                d[i] = d.get(i,0) + 1\n",
    "        return list(A)"
   ]
  },
  {
   "cell_type": "code",
   "execution_count": null,
   "metadata": {},
   "outputs": [],
   "source": [
    "# 利用异或\n",
    "class Solution:\n",
    "    def singleNumbers(self, nums: List[int]) -> List[int]:\n",
    "        ret = functools.reduce(lambda x, y: x ^ y, nums)\n",
    "        div = 1\n",
    "        while div & ret == 0:\n",
    "            div <<= 1\n",
    "        a, b = 0, 0\n",
    "        for n in nums:\n",
    "            if n & div:\n",
    "                a ^= n\n",
    "            else:\n",
    "                b ^= n\n",
    "        return [a, b]"
   ]
  }
 ],
 "metadata": {
  "kernelspec": {
   "display_name": "Python 3",
   "language": "python",
   "name": "python3"
  },
  "language_info": {
   "codemirror_mode": {
    "name": "ipython",
    "version": 3
   },
   "file_extension": ".py",
   "mimetype": "text/x-python",
   "name": "python",
   "nbconvert_exporter": "python",
   "pygments_lexer": "ipython3",
   "version": "3.7.4"
  }
 },
 "nbformat": 4,
 "nbformat_minor": 2
}
