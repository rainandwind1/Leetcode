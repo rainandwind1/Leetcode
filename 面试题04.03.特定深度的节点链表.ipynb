{
 "cells": [
  {
   "cell_type": "code",
   "execution_count": null,
   "metadata": {},
   "outputs": [],
   "source": [
    "# Definition for a binary tree node.\n",
    "# class TreeNode(object):\n",
    "#     def __init__(self, x):\n",
    "#         self.val = x\n",
    "#         self.left = None\n",
    "#         self.right = None\n",
    "\n",
    "# Definition for singly-linked list.\n",
    "# class ListNode(object):\n",
    "#     def __init__(self, x):\n",
    "#         self.val = x\n",
    "#         self.next = None\n",
    "\n",
    "class Solution(object):\n",
    "    def listOfDepth(self, tree):\n",
    "        \"\"\"\n",
    "        :type tree: TreeNode\n",
    "        :rtype: List[ListNode]\n",
    "        \"\"\"\n",
    "        res = []\n",
    "        result = []\n",
    "        depth = 0\n",
    "        def count_depth_num(Node,depth):\n",
    "            if not Node:\n",
    "                return\n",
    "            if Node:\n",
    "                depth += 1\n",
    "            if len(res) < depth:\n",
    "                res.append([])\n",
    "            res[depth-1].append(Node.val)\n",
    "            count_depth_num(Node.left,depth)\n",
    "            count_depth_num(Node.right,depth)\n",
    "        count_depth_num(tree,depth)\n",
    "        for i in res:\n",
    "            head = ListNode(None)\n",
    "            pre = head\n",
    "            for node_val in i:\n",
    "                new_node = ListNode(node_val)\n",
    "                pre.next = new_node\n",
    "                pre = new_node\n",
    "            result.append(head.next)\n",
    "        return result"
   ]
  }
 ],
 "metadata": {
  "kernelspec": {
   "display_name": "Python 3",
   "language": "python",
   "name": "python3"
  },
  "language_info": {
   "codemirror_mode": {
    "name": "ipython",
    "version": 3
   },
   "file_extension": ".py",
   "mimetype": "text/x-python",
   "name": "python",
   "nbconvert_exporter": "python",
   "pygments_lexer": "ipython3",
   "version": "3.7.4"
  }
 },
 "nbformat": 4,
 "nbformat_minor": 2
}
