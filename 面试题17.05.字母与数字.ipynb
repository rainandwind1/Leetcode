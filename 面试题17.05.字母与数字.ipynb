{
 "cells": [
  {
   "cell_type": "code",
   "execution_count": 1,
   "metadata": {},
   "outputs": [
    {
     "name": "stdout",
     "output_type": "stream",
     "text": [
      "True\n"
     ]
    }
   ],
   "source": [
    "print(\"A\"<\"Z\")"
   ]
  },
  {
   "cell_type": "code",
   "execution_count": 34,
   "metadata": {},
   "outputs": [
    {
     "name": "stdout",
     "output_type": "stream",
     "text": [
      "['A', '1012', 'B', 'C', 'D', '2', '3', '4', 'E', '5', 'F', 'G', '6', '7']\n",
      "[]\n",
      "['52', '3', 'v', '71', 'J', 'A', '0', 'v', '51', 'E', 'k', 'H', '96', '21', 'W', '59', 'I', 'V', 's', '59', 'w', 'X', '33', '29', 'H', '32', '51', 'f', 'i', '58', '56', '66', '90', 'F', '10', '93', '53', '85', '28', '78', 'd', '67', '81', 'T', 'K', 'S', 'l', 'L', 'Z', 'j', '5', 'R', 'b', '44', 'R', 'h', 'B', '30', '63', 'z', '75', '60', 'm', '61', 'a', '5']\n"
     ]
    }
   ],
   "source": [
    "# 给定一个放有字符和数字的数组，找到最长的子数组，且包含的字符和数字的个数相同。\n",
    "# 返回该子数组，若不存在这样的数组，返回一个空数组。\n",
    "\n",
    "\n",
    "# 超时\n",
    "\n",
    "class Solution(object):\n",
    "    def findLongestSubarray(self, array):\n",
    "        \"\"\"\n",
    "        :type array: List[str]\n",
    "        :rtype: List[str]\n",
    "        \"\"\"\n",
    "        len_list = []\n",
    "        def is_num(n):\n",
    "            for i in n:\n",
    "                if i < \"0\" or i > \"9\":\n",
    "                    return False\n",
    "            return True\n",
    "        def max_len(cha_count,num_count,index,memory_index,start):\n",
    "            while True:\n",
    "                #print(cha_count,num_count,index,memory_index)\n",
    "                if cha_count == num_count:\n",
    "                    memory_index = 2*cha_count\n",
    "                if index == len(array):\n",
    "                    break\n",
    "                if is_num(array[index]):\n",
    "                    num_count += 1\n",
    "                else:\n",
    "                    cha_count += 1\n",
    "                index += 1\n",
    "            return memory_index + start\n",
    "        init_len = max_len(0,0,0,0,0)\n",
    "        #print(init_len)\n",
    "        len_list.append((0,init_len))\n",
    "        max_start = 0\n",
    "        max_end = init_len\n",
    "        for i in range(1,len(array) - init_len):\n",
    "            cha_count,num_count,index,memory_index = 0,0,i,0\n",
    "            i_len = max_len(cha_count,num_count,index,memory_index,i)\n",
    "            len_list.append((i,len_list))\n",
    "            if i_len - i > max_end - max_start:\n",
    "                max_start = i\n",
    "                max_end = i_len \n",
    "        #print(len_list)\n",
    "        return array[max_start:max_end]\n",
    "       \n",
    "        \n",
    "        \n",
    "        \n",
    "        \n",
    "\n",
    "        \n",
    "A = Solution()\n",
    "print(A.findLongestSubarray([\"A\",\"1012\",\"B\",\"C\",\"D\",\"2\",\"3\",\"4\",\"E\",\"5\",\"F\",\"G\",\"6\",\"7\",\"H\",\"I\",\"J\",\"K\",\"L\",\"M\"]))\n",
    "print(A.findLongestSubarray([\"A\",\"A\"]))\n",
    "print(A.findLongestSubarray([\"42\",\"10\",\"O\",\"t\",\"y\",\"p\",\"g\",\"B\",\"96\",\"H\",\"5\",\"v\",\"P\",\"52\",\"25\",\"96\",\"b\",\"L\",\"Y\",\"z\",\"d\",\"52\",\"3\",\"v\",\"71\",\"J\",\"A\",\"0\",\"v\",\"51\",\"E\",\"k\",\"H\",\"96\",\"21\",\"W\",\"59\",\"I\",\"V\",\"s\",\"59\",\"w\",\"X\",\"33\",\"29\",\"H\",\"32\",\"51\",\"f\",\"i\",\"58\",\"56\",\"66\",\"90\",\"F\",\"10\",\"93\",\"53\",\"85\",\"28\",\"78\",\"d\",\"67\",\"81\",\"T\",\"K\",\"S\",\"l\",\"L\",\"Z\",\"j\",\"5\",\"R\",\"b\",\"44\",\"R\",\"h\",\"B\",\"30\",\"63\",\"z\",\"75\",\"60\",\"m\",\"61\",\"a\",\"5\",\"S\",\"Z\",\"D\",\"2\",\"A\",\"W\",\"k\",\"84\",\"44\",\"96\",\"96\",\"y\",\"M\"]))"
   ]
  },
  {
   "cell_type": "code",
   "execution_count": null,
   "metadata": {},
   "outputs": [],
   "source": [
    "class Solution(object):\n",
    "    def findLongestSubarray(self, array):\n",
    "        \"\"\"\n",
    "        :type array: List[str]\n",
    "        :rtype: List[str]\n",
    "        \"\"\"\n",
    "        \n",
    "        \n",
    "        \n",
    "        \n",
    "        \n",
    "\n",
    "        \n",
    "A = Solution()\n",
    "print(A.findLongestSubarray([\"A\",\"1012\",\"B\",\"C\",\"D\",\"2\",\"3\",\"4\",\"E\",\"5\",\"F\",\"G\",\"6\",\"7\",\"H\",\"I\",\"J\",\"K\",\"L\",\"M\"]))\n",
    "print(A.findLongestSubarray([\"A\",\"A\"]))\n",
    "print(A.findLongestSubarray([\"42\",\"10\",\"O\",\"t\",\"y\",\"p\",\"g\",\"B\",\"96\",\"H\",\"5\",\"v\",\"P\",\"52\",\"25\",\"96\",\"b\",\"L\",\"Y\",\"z\",\"d\",\"52\",\"3\",\"v\",\"71\",\"J\",\"A\",\"0\",\"v\",\"51\",\"E\",\"k\",\"H\",\"96\",\"21\",\"W\",\"59\",\"I\",\"V\",\"s\",\"59\",\"w\",\"X\",\"33\",\"29\",\"H\",\"32\",\"51\",\"f\",\"i\",\"58\",\"56\",\"66\",\"90\",\"F\",\"10\",\"93\",\"53\",\"85\",\"28\",\"78\",\"d\",\"67\",\"81\",\"T\",\"K\",\"S\",\"l\",\"L\",\"Z\",\"j\",\"5\",\"R\",\"b\",\"44\",\"R\",\"h\",\"B\",\"30\",\"63\",\"z\",\"75\",\"60\",\"m\",\"61\",\"a\",\"5\",\"S\",\"Z\",\"D\",\"2\",\"A\",\"W\",\"k\",\"84\",\"44\",\"96\",\"96\",\"y\",\"M\"]))"
   ]
  },
  {
   "cell_type": "code",
   "execution_count": null,
   "metadata": {},
   "outputs": [],
   "source": []
  }
 ],
 "metadata": {
  "kernelspec": {
   "display_name": "Python 3",
   "language": "python",
   "name": "python3"
  },
  "language_info": {
   "codemirror_mode": {
    "name": "ipython",
    "version": 3
   },
   "file_extension": ".py",
   "mimetype": "text/x-python",
   "name": "python",
   "nbconvert_exporter": "python",
   "pygments_lexer": "ipython3",
   "version": "3.7.4"
  }
 },
 "nbformat": 4,
 "nbformat_minor": 2
}
