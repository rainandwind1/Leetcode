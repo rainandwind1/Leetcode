{
 "cells": [
  {
   "cell_type": "code",
   "execution_count": 25,
   "metadata": {},
   "outputs": [
    {
     "name": "stdout",
     "output_type": "stream",
     "text": [
      "1\n",
      "2\n",
      "55\n"
     ]
    }
   ],
   "source": [
    "class Solution(object):\n",
    "    def subarraySum(self, nums, k):\n",
    "        \"\"\"\n",
    "        :type nums: List[int]\n",
    "        :type k: int\n",
    "        :rtype: int\n",
    "        \"\"\"\n",
    "        index_s = 0\n",
    "        count = 0\n",
    "        index_e = index_s\n",
    "        while index_s <= index_e and index_s < len(nums):\n",
    "            p = 0\n",
    "            while index_e < len(nums):\n",
    "                p += nums[index_e]\n",
    "                if p == k:\n",
    "                    count += 1\n",
    "                index_e += 1\n",
    "            \n",
    "#             print(index_s, index_e, p)\n",
    "            index_s += 1\n",
    "            index_e = index_s\n",
    "            index_e = min(index_e, len(nums)-1)\n",
    "            # elif p > k:\n",
    "            #     index_s += 1\n",
    "            # elif index_e == len(nums) and p < k:\n",
    "            #     inde\n",
    "            \n",
    "        return count\n",
    "                \n",
    "        \n",
    "A = Solution()\n",
    "print(A.subarraySum([28,54,7,-70,22,65,-6], 100))\n",
    "print(A.subarraySum([1,1,1], 2))\n",
    "print(A.subarraySum([0,0,0,0,0,0,0,0,0,0], 0))"
   ]
  },
  {
   "cell_type": "code",
   "execution_count": 26,
   "metadata": {},
   "outputs": [
    {
     "name": "stdout",
     "output_type": "stream",
     "text": [
      "1\n",
      "2\n",
      "55\n"
     ]
    }
   ],
   "source": [
    "class Solution(object):\n",
    "    def subarraySum(self, nums, k):\n",
    "        hash = {0:1}\n",
    "        sum = 0\n",
    "        count = 0\n",
    "        for i in range(len(nums)):\n",
    "            sum += nums[i]\n",
    "            if (sum - k) in hash:\n",
    "                count += hash[sum - k]\n",
    "            if sum in hash:\n",
    "                hash[sum] += 1\n",
    "            else:\n",
    "                hash[sum] = 1\n",
    "                \n",
    "        return count\n",
    "    \n",
    "A = Solution()\n",
    "print(A.subarraySum([28,54,7,-70,22,65,-6], 100))\n",
    "print(A.subarraySum([1,1,1], 2))\n",
    "print(A.subarraySum([0,0,0,0,0,0,0,0,0,0], 0))"
   ]
  },
  {
   "cell_type": "code",
   "execution_count": null,
   "metadata": {},
   "outputs": [],
   "source": []
  }
 ],
 "metadata": {
  "kernelspec": {
   "display_name": "Python 3",
   "language": "python",
   "name": "python3"
  },
  "language_info": {
   "codemirror_mode": {
    "name": "ipython",
    "version": 3
   },
   "file_extension": ".py",
   "mimetype": "text/x-python",
   "name": "python",
   "nbconvert_exporter": "python",
   "pygments_lexer": "ipython3",
   "version": "3.7.4"
  }
 },
 "nbformat": 4,
 "nbformat_minor": 2
}
