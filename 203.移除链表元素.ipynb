{
 "cells": [
  {
   "cell_type": "code",
   "execution_count": null,
   "metadata": {},
   "outputs": [],
   "source": [
    "# 慢速\n",
    "# Definition for singly-linked list.\n",
    "# class ListNode(object):\n",
    "#     def __init__(self, x):\n",
    "#         self.val = x\n",
    "#         self.next = None\n",
    "\n",
    "class Solution(object):\n",
    "    def removeElements(self, head, val):\n",
    "        \"\"\"\n",
    "        :type head: ListNode\n",
    "        :type val: int\n",
    "        :rtype: ListNode\n",
    "        \"\"\"\n",
    "        res = []\n",
    "        pre = ListNode(None)\n",
    "        h = pre\n",
    "        while head:\n",
    "            res.append(head.val)\n",
    "            head = head.next\n",
    "        for i in res:\n",
    "            if i == val:\n",
    "                continue\n",
    "            new_node = ListNode(i)\n",
    "            h.next = new_node\n",
    "            h = new_node\n",
    "        return pre.next"
   ]
  },
  {
   "cell_type": "code",
   "execution_count": null,
   "metadata": {},
   "outputs": [],
   "source": [
    "\n",
    "class Solution(object):\n",
    "    def removeElements(self, head, val):\n",
    "        \"\"\"\n",
    "        :type head: ListNode\n",
    "        :type val: int\n",
    "        :rtype: ListNode\n",
    "        \"\"\"\n",
    "        res = ListNode(None)\n",
    "        res.next = head\n",
    "        pre = res\n",
    "        index = head\n",
    "        while index:\n",
    "            if index.val == val:\n",
    "                if index.next:\n",
    "                    pre.next = index.next\n",
    "                    index = index.next\n",
    "                else:\n",
    "                    pre.next = None\n",
    "                    break\n",
    "            else:\n",
    "                pre = index\n",
    "                index = index.next\n",
    "        return res.next"
   ]
  }
 ],
 "metadata": {
  "kernelspec": {
   "display_name": "Python 3",
   "language": "python",
   "name": "python3"
  },
  "language_info": {
   "codemirror_mode": {
    "name": "ipython",
    "version": 3
   },
   "file_extension": ".py",
   "mimetype": "text/x-python",
   "name": "python",
   "nbconvert_exporter": "python",
   "pygments_lexer": "ipython3",
   "version": "3.7.4"
  }
 },
 "nbformat": 4,
 "nbformat_minor": 2
}
