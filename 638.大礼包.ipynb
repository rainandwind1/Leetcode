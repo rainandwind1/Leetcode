{
 "cells": [
  {
   "cell_type": "code",
   "execution_count": null,
   "metadata": {},
   "outputs": [],
   "source": [
    "class Solution(object):\n",
    "    def shoppingOffers(self, price, special, needs):\n",
    "        \"\"\"\n",
    "        :type price: List[int]\n",
    "        :type special: List[List[int]]\n",
    "        :type needs: List[int]\n",
    "        :rtype: int\n",
    "        \"\"\"\n",
    "        num_list = [0 for i in range(len(needs))]\n",
    "        def update_num_list(bag_i):\n",
    "            return 0\n",
    "        price_dp = [0 for i in range(len(needs))]\n",
    "        \n",
    "        \n",
    "        \n",
    "        \n",
    "A = Solution()\n",
    "print(A.shoppingOffers([2,5], [[3,0,5],[1,2,10]], [3,2]))\n",
    "print(A.shoppingOffers([2,3,4], [[1,1,0,4],[2,2,1,9]], [1,2,1]))"
   ]
  },
  {
   "cell_type": "code",
   "execution_count": 2,
   "metadata": {},
   "outputs": [
    {
     "name": "stdout",
     "output_type": "stream",
     "text": [
      "14\n",
      "11\n"
     ]
    }
   ],
   "source": [
    "class Solution:\n",
    "    def shoppingOffers(self, price, special, needs):\n",
    "        l = len(price)\n",
    "        \n",
    "        def shopping(special, needs):  # 从special里刚好购买needs所需的最低花费\n",
    "            if not sum(needs):  # needs已购买完\n",
    "                return 0\n",
    "            # 先过滤掉special里已经有某种物品超过了needs的礼包\n",
    "            special = list(filter(lambda x: all(x[i] <= needs[i] for i in range(l)), special))\n",
    "            if not special:  # 如果过滤后为空，那么返回直接以单品购买needs的价格\n",
    "                return sum(needs[i]*price[i] for i in range(l))\n",
    "            res = []\n",
    "            for pac in special:  # 回溯，收集本次购买每种礼包的花费加上若购买该礼包后剩余needs递归的最低花费\n",
    "                res.append(pac[-1]+shopping(special, [needs[i]-pac[i] for i in range(l)]))\n",
    "            return min(res)  # 返回本次购买的多种选择中的最低花费\n",
    "        \n",
    "        # 先过滤掉不比原价买划算的礼包\n",
    "        special = list(filter(lambda x: x[-1] < sum(x[i]*price[i] for i in range(l)), special))\n",
    "        return shopping(special, needs)\n",
    "    \n",
    "    \n",
    "A = Solution()\n",
    "print(A.shoppingOffers([2,5], [[3,0,5],[1,2,10]], [3,2]))\n",
    "print(A.shoppingOffers([2,3,4], [[1,1,0,4],[2,2,1,9]], [1,2,1]))"
   ]
  },
  {
   "cell_type": "code",
   "execution_count": null,
   "metadata": {},
   "outputs": [],
   "source": []
  }
 ],
 "metadata": {
  "kernelspec": {
   "display_name": "Python 3",
   "language": "python",
   "name": "python3"
  },
  "language_info": {
   "codemirror_mode": {
    "name": "ipython",
    "version": 3
   },
   "file_extension": ".py",
   "mimetype": "text/x-python",
   "name": "python",
   "nbconvert_exporter": "python",
   "pygments_lexer": "ipython3",
   "version": "3.7.4"
  }
 },
 "nbformat": 4,
 "nbformat_minor": 2
}
