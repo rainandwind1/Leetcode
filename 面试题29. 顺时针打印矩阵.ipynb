{
 "cells": [
  {
   "cell_type": "code",
   "execution_count": 4,
   "metadata": {},
   "outputs": [
    {
     "name": "stdout",
     "output_type": "stream",
     "text": [
      "[[5, 6], [8, 9]]\n"
     ]
    }
   ],
   "source": [
    "matrix = [[1,2,3],[4,5,6],[7,8,9]]\n",
    "# matrix[1:len(matrix)][1:len(matrix[0])]\n",
    "print([matrix[i][1:len(matrix[0])] for i in range(1,len(matrix))])"
   ]
  },
  {
   "cell_type": "code",
   "execution_count": 14,
   "metadata": {},
   "outputs": [
    {
     "name": "stdout",
     "output_type": "stream",
     "text": [
      "[[1, 11], [2, 12], [3, 13], [4, 14], [5, 15], [6, 16], [7, 17], [8, 18], [9, 19], [10, 20]]\n",
      "[1, 11, 12, 13, 14, 15, 16, 17, 18, 19, 20, 10, 9, 8, 7, 6, 5, 4, 3, 2]\n"
     ]
    }
   ],
   "source": [
    "class Solution(object):\n",
    "    def spiralOrder(self, matrix):\n",
    "        \"\"\"\n",
    "        :type matrix: List[List[int]]\n",
    "        :rtype: List[int]\n",
    "        \"\"\"\n",
    "        print(matrix)\n",
    "        res = []\n",
    "        res += matrix[0]\n",
    "        if len(matrix) == 1:\n",
    "            return res\n",
    "        for i in range(1, len(matrix) - 1):\n",
    "            res.append(matrix[i][-1])\n",
    "        if len(matrix) > 1:\n",
    "            res += matrix[-1][::-1]\n",
    "        if len(matrix[0]) > 1:\n",
    "            for i in range(len(matrix) - 2, 0, -1):\n",
    "                res.append(matrix[i][0])\n",
    "        if len(matrix) > 2 and len(matrix[0]) > 2: \n",
    "            return res + self.spiralOrder([matrix[i][1:len(matrix[0])-1] for i in range(1,len(matrix)-1)])\n",
    "        else:\n",
    "            return res\n",
    "        \n",
    "A = Solution()\n",
    "print(A.spiralOrder([[1,11],[2,12],[3,13],[4,14],[5,15],[6,16],[7,17],[8,18],[9,19],[10,20]]))"
   ]
  },
  {
   "cell_type": "code",
   "execution_count": null,
   "metadata": {},
   "outputs": [],
   "source": []
  }
 ],
 "metadata": {
  "kernelspec": {
   "display_name": "Python 3",
   "language": "python",
   "name": "python3"
  },
  "language_info": {
   "codemirror_mode": {
    "name": "ipython",
    "version": 3
   },
   "file_extension": ".py",
   "mimetype": "text/x-python",
   "name": "python",
   "nbconvert_exporter": "python",
   "pygments_lexer": "ipython3",
   "version": "3.7.4"
  }
 },
 "nbformat": 4,
 "nbformat_minor": 2
}
