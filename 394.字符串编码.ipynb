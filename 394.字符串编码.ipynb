{
 "cells": [
  {
   "cell_type": "code",
   "execution_count": 5,
   "metadata": {},
   "outputs": [
    {
     "name": "stdout",
     "output_type": "stream",
     "text": [
      "0 a\n",
      "1 b\n",
      "2 c\n",
      "3 e\n",
      "c\n"
     ]
    }
   ],
   "source": [
    "a = \"abce\"\n",
    "for i, j in enumerate(a):\n",
    "    print(i,j)\n",
    "if '[' in a:\n",
    "    print(True)\n",
    "print(a[2])"
   ]
  },
  {
   "cell_type": "code",
   "execution_count": 17,
   "metadata": {},
   "outputs": [
    {
     "name": "stdout",
     "output_type": "stream",
     "text": [
      "leetcodeleetcodeleetcodeleetcodeleetcodeleetcodeleetcodeleetcodeleetcodeleetcodeleetcodeleetcodeleetcodeleetcodeleetcodeleetcodeleetcodeleetcodeleetcodeleetcodeleetcodeleetcodeleetcodeleetcodeleetcodeleetcodeleetcodeleetcodeleetcodeleetcodeleetcodeleetcodeleetcodeleetcodeleetcodeleetcodeleetcodeleetcodeleetcodeleetcodeleetcodeleetcodeleetcodeleetcodeleetcodeleetcodeleetcodeleetcodeleetcodeleetcodeleetcodeleetcodeleetcodeleetcodeleetcodeleetcodeleetcodeleetcodeleetcodeleetcodeleetcodeleetcodeleetcodeleetcodeleetcodeleetcodeleetcodeleetcodeleetcodeleetcodeleetcodeleetcodeleetcodeleetcodeleetcodeleetcodeleetcodeleetcodeleetcodeleetcodeleetcodeleetcodeleetcodeleetcodeleetcodeleetcodeleetcodeleetcodeleetcodeleetcodeleetcodeleetcodeleetcodeleetcodeleetcodeleetcodeleetcodeleetcodeleetcodeleetcode\n",
      "abcabccdcdcdef\n"
     ]
    }
   ],
   "source": [
    "class Solution(object):\n",
    "    def decodeString(self, s):\n",
    "        \"\"\"\n",
    "        :type s: str\n",
    "        :rtype: str\n",
    "        \"\"\"\n",
    "        # t = list(s)\n",
    "        while '[' in s:\n",
    "#             print(s)\n",
    "            c_str = \"\"\n",
    "            init, e = 0, 0\n",
    "            for id_x, i in enumerate(s):\n",
    "                if i == '[':\n",
    "                    init = id_x\n",
    "                elif i == ']':\n",
    "                    e = id_x\n",
    "                    break\n",
    "            ini_val = init\n",
    "            init -= 1\n",
    "            num = 0\n",
    "            count = 0\n",
    "            while '0' <= s[init] <= '9':\n",
    "                num += int(s[init])*10**count\n",
    "                count += 1\n",
    "                init -= 1\n",
    "                if init < 0:\n",
    "                    break\n",
    "            end = s[e]\n",
    "            for i in range(num):\n",
    "                c_str += s[ini_val + 1:e]\n",
    "            s = s[:init + 1] + c_str + s[e + 1:]\n",
    "            \n",
    "        return s\n",
    "\n",
    "A = Solution()\n",
    "print(A.decodeString(\"100[leetcode]\"))\n",
    "print(A.decodeString(\"2[abc]3[cd]ef\"))"
   ]
  },
  {
   "cell_type": "code",
   "execution_count": null,
   "metadata": {},
   "outputs": [],
   "source": []
  }
 ],
 "metadata": {
  "kernelspec": {
   "display_name": "Python 3",
   "language": "python",
   "name": "python3"
  },
  "language_info": {
   "codemirror_mode": {
    "name": "ipython",
    "version": 3
   },
   "file_extension": ".py",
   "mimetype": "text/x-python",
   "name": "python",
   "nbconvert_exporter": "python",
   "pygments_lexer": "ipython3",
   "version": "3.7.4"
  }
 },
 "nbformat": 4,
 "nbformat_minor": 2
}
