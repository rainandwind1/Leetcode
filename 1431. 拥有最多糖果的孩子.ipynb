{
 "cells": [
  {
   "cell_type": "code",
   "execution_count": null,
   "metadata": {},
   "outputs": [],
   "source": [
    "class Solution(object):\n",
    "    def kidsWithCandies(self, candies, extraCandies):\n",
    "        \"\"\"\n",
    "        :type candies: List[int]\n",
    "        :type extraCandies: int\n",
    "        :rtype: List[bool]\n",
    "        \"\"\"\n",
    "        res = []\n",
    "        index = 0\n",
    "        max_num = max(candies)\n",
    "        while index < len(candies):\n",
    "            if candies[index] == max_num:\n",
    "                res.append(True)\n",
    "                index += 1\n",
    "                continue\n",
    "            cur = candies[index] + extraCandies\n",
    "            if max_num <= cur:\n",
    "                res.append(True)\n",
    "            else:\n",
    "                res.append(False)\n",
    "            index += 1\n",
    "        return res"
   ]
  }
 ],
 "metadata": {
  "kernelspec": {
   "display_name": "Python 3",
   "language": "python",
   "name": "python3"
  },
  "language_info": {
   "codemirror_mode": {
    "name": "ipython",
    "version": 3
   },
   "file_extension": ".py",
   "mimetype": "text/x-python",
   "name": "python",
   "nbconvert_exporter": "python",
   "pygments_lexer": "ipython3",
   "version": "3.7.4"
  }
 },
 "nbformat": 4,
 "nbformat_minor": 2
}
