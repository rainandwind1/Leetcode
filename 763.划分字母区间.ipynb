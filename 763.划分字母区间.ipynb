{
 "cells": [
  {
   "cell_type": "code",
   "execution_count": 8,
   "metadata": {},
   "outputs": [
    {
     "name": "stdout",
     "output_type": "stream",
     "text": [
      "[9, 7, 8]\n",
      "[1, 9]\n"
     ]
    }
   ],
   "source": [
    "class Solution(object):\n",
    "    def partitionLabels(self, S):\n",
    "        \"\"\"\n",
    "        :type S: str\n",
    "        :rtype: List[int]\n",
    "        \"\"\"\n",
    "        length_list = []\n",
    "        target_list = list(S)\n",
    "        current_index = len(target_list) - 1\n",
    "        while current_index > -1:\n",
    "            init_index = current_index\n",
    "            old_index = current_index\n",
    "            length = 0\n",
    "            while True:\n",
    "#                 if target_list[current_index] not in target_list[0:current_index] and length!= 0:\n",
    "#                     length = init_index - old_index + 1\n",
    "#                     current_index = old_index - 1\n",
    "#                     length_list.append(length)\n",
    "#                     break   \n",
    "                if target_list[current_index] not in target_list[0:current_index] and length == 0:\n",
    "                    current_index  -= 1\n",
    "                else:\n",
    "                    begin_index = target_list[0:current_index].index(target_list[current_index])\n",
    "                    if begin_index < old_index:\n",
    "                        old_index = begin_index\n",
    "                    current_index -= 1\n",
    "                if current_index <= old_index:\n",
    "                    length = init_index - old_index + 1\n",
    "                    current_index = old_index - 1\n",
    "                    length_list.append(length)\n",
    "                    break\n",
    "        return length_list[::-1]\n",
    "        \n",
    "        \n",
    "        \n",
    "        \n",
    "A = Solution()\n",
    "print(A.partitionLabels(\"ababcbacadefegdehijhklij\"))\n",
    "print(A.partitionLabels(\"caedbdedda\"))"
   ]
  },
  {
   "cell_type": "code",
   "execution_count": null,
   "metadata": {},
   "outputs": [],
   "source": []
  },
  {
   "cell_type": "code",
   "execution_count": null,
   "metadata": {},
   "outputs": [],
   "source": []
  },
  {
   "cell_type": "code",
   "execution_count": null,
   "metadata": {},
   "outputs": [],
   "source": []
  }
 ],
 "metadata": {
  "kernelspec": {
   "display_name": "Python 3",
   "language": "python",
   "name": "python3"
  },
  "language_info": {
   "codemirror_mode": {
    "name": "ipython",
    "version": 3
   },
   "file_extension": ".py",
   "mimetype": "text/x-python",
   "name": "python",
   "nbconvert_exporter": "python",
   "pygments_lexer": "ipython3",
   "version": "3.7.4"
  }
 },
 "nbformat": 4,
 "nbformat_minor": 2
}
