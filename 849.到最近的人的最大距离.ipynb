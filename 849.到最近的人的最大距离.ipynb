{
 "cells": [
  {
   "cell_type": "code",
   "execution_count": 5,
   "metadata": {},
   "outputs": [
    {
     "name": "stdout",
     "output_type": "stream",
     "text": [
      "True\n",
      "2\n",
      "True\n",
      "3\n"
     ]
    }
   ],
   "source": [
    "class Solution(object):\n",
    "    def maxDistToClosest(self, seats):\n",
    "        \"\"\"\n",
    "        :type seats: List[int]\n",
    "        :rtype: int\n",
    "        \"\"\"\n",
    "        result_list = []\n",
    "        len_max = 0\n",
    "        head_flag = 0\n",
    "        index = 0\n",
    "        while index<len(seats):\n",
    "            len_max += 1\n",
    "            if seats[index] == 1:\n",
    "                if head_flag == 1:\n",
    "                    result_list.append(int((len_max - 1)/2) )\n",
    "                elif head_flag == 0:\n",
    "                    result_list.append(len_max - 1)\n",
    "                head_flag = 1 \n",
    "                len_max = 1\n",
    "            if index == len(seats) - 1:\n",
    "                #print(True)\n",
    "                if seats[index] == 0:\n",
    "                    result_list.append(len_max-1)\n",
    "            index += 1\n",
    "        return max(result_list)\n",
    "        \n",
    "        \n",
    "        \n",
    "\n",
    "A = Solution()\n",
    "print(A.maxDistToClosest([1,0,0,0,1,0,1]))\n",
    "print(A.maxDistToClosest([1,0,0,0]))"
   ]
  },
  {
   "cell_type": "code",
   "execution_count": null,
   "metadata": {},
   "outputs": [],
   "source": []
  }
 ],
 "metadata": {
  "kernelspec": {
   "display_name": "Python 3",
   "language": "python",
   "name": "python3"
  },
  "language_info": {
   "codemirror_mode": {
    "name": "ipython",
    "version": 3
   },
   "file_extension": ".py",
   "mimetype": "text/x-python",
   "name": "python",
   "nbconvert_exporter": "python",
   "pygments_lexer": "ipython3",
   "version": "3.7.4"
  }
 },
 "nbformat": 4,
 "nbformat_minor": 2
}
