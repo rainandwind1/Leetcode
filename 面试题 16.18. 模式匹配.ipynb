{
 "cells": [
  {
   "cell_type": "code",
   "execution_count": 1,
   "metadata": {},
   "outputs": [
    {
     "data": {
      "text/plain": [
       "3"
      ]
     },
     "execution_count": 1,
     "metadata": {},
     "output_type": "execute_result"
    }
   ],
   "source": [
    "a = \"aaababab\"\n",
    "a.count('b')"
   ]
  },
  {
   "cell_type": "code",
   "execution_count": null,
   "metadata": {},
   "outputs": [],
   "source": [
    "class Solution(object):\n",
    "    def patternMatching(self, pattern, value):\n",
    "        \"\"\"\n",
    "        :type pattern: str\n",
    "        :type value: str\n",
    "        :rtype: bool\n",
    "        \"\"\"\n",
    "        L = len(value)\n",
    "        l_p = len(pattern)\n",
    "        l1 = 0\n",
    "        l2 = 0\n",
    "        num_a = pattern.count('a')\n",
    "        num_b = pattern.count('b')\n",
    "        c_dict = {'a':'', 'b':''}\n",
    "        while num_a * l1 <= L:\n",
    "            if (L - num_a * l1) % num_b == 0:\n",
    "                l2 = (L - num_a * l1) / num_b\n",
    "                c_dict['a'], c_dict['b'] = value[:l1], value[l1:l1+l2]\n",
    "                if c_dict['a'] == c_dict['b']:\n",
    "                    l1 += 1\n",
    "                    continue\n",
    "                # 还原str\n",
    "                target_str = ''\n",
    "                for c in pattern:\n",
    "                    target_str += c_dict[c]\n",
    "                if target_str == value:\n",
    "                    return True\n",
    "            l1 += 1\n",
    "        return False"
   ]
  }
 ],
 "metadata": {
  "kernelspec": {
   "display_name": "Python 3",
   "language": "python",
   "name": "python3"
  },
  "language_info": {
   "codemirror_mode": {
    "name": "ipython",
    "version": 3
   },
   "file_extension": ".py",
   "mimetype": "text/x-python",
   "name": "python",
   "nbconvert_exporter": "python",
   "pygments_lexer": "ipython3",
   "version": "3.7.4"
  }
 },
 "nbformat": 4,
 "nbformat_minor": 2
}
