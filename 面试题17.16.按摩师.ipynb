{
 "cells": [
  {
   "cell_type": "code",
   "execution_count": 33,
   "metadata": {},
   "outputs": [
    {
     "name": "stdout",
     "output_type": "stream",
     "text": [
      "3\n",
      "12\n",
      "12\n"
     ]
    }
   ],
   "source": [
    "class Solution(object):\n",
    "    def massage(self, nums):\n",
    "        \"\"\"\n",
    "        :type nums: List[int]\n",
    "        :rtype: int\n",
    "        \"\"\"\n",
    "        if nums == []:\n",
    "            return 0\n",
    "        H = [0 for i in range(len(nums))]\n",
    "        for i in range(len(nums)):\n",
    "            if i == 0:\n",
    "                H[i] = nums[i]\n",
    "            elif i == 1:\n",
    "                H[i] = max(nums[0],nums[1])\n",
    "            else:\n",
    "                H[i] = max(H[i-2]+nums[i],H[i-1])\n",
    "        return H[-1]\n",
    "        \n",
    "\n",
    "        \n",
    "A = Solution()\n",
    "print(A.massage([1,3,1]))\n",
    "print(A.massage([2,7,9,3,1]))\n",
    "print(A.massage( [2,1,4,5,3,1,1,3]))\n",
    "        \n"
   ]
  },
  {
   "cell_type": "code",
   "execution_count": null,
   "metadata": {},
   "outputs": [],
   "source": []
  },
  {
   "cell_type": "code",
   "execution_count": null,
   "metadata": {},
   "outputs": [],
   "source": []
  }
 ],
 "metadata": {
  "kernelspec": {
   "display_name": "Python 3",
   "language": "python",
   "name": "python3"
  },
  "language_info": {
   "codemirror_mode": {
    "name": "ipython",
    "version": 3
   },
   "file_extension": ".py",
   "mimetype": "text/x-python",
   "name": "python",
   "nbconvert_exporter": "python",
   "pygments_lexer": "ipython3",
   "version": "3.7.4"
  }
 },
 "nbformat": 4,
 "nbformat_minor": 2
}
