{
 "cells": [
  {
   "cell_type": "code",
   "execution_count": 7,
   "metadata": {},
   "outputs": [
    {
     "name": "stdout",
     "output_type": "stream",
     "text": [
      "3215625\n"
     ]
    }
   ],
   "source": [
    "class Solution(object):\n",
    "    def getKthMagicNumber(self, k):\n",
    "        \"\"\"\n",
    "        :type k: int\n",
    "        :rtype: int\n",
    "        \"\"\"\n",
    "        ans, a, b, c = [1], 0, 0, 0\n",
    "        for i in range(k-1):\n",
    "            ans.append(min(ans[a]*3,ans[b]*5,ans[c]*7))\n",
    "            a += ans[-1] == ans[a]*3\n",
    "            b += ans[-1] == ans[b]*5\n",
    "            c += ans[-1] == ans[c]*7\n",
    "        return ans[-1]\n",
    "\n",
    "\n",
    "A = Solution()\n",
    "print(A.getKthMagicNumber(251))"
   ]
  },
  {
   "cell_type": "code",
   "execution_count": null,
   "metadata": {},
   "outputs": [],
   "source": []
  }
 ],
 "metadata": {
  "kernelspec": {
   "display_name": "Python 3",
   "language": "python",
   "name": "python3"
  },
  "language_info": {
   "codemirror_mode": {
    "name": "ipython",
    "version": 3
   },
   "file_extension": ".py",
   "mimetype": "text/x-python",
   "name": "python",
   "nbconvert_exporter": "python",
   "pygments_lexer": "ipython3",
   "version": "3.7.4"
  }
 },
 "nbformat": 4,
 "nbformat_minor": 2
}
