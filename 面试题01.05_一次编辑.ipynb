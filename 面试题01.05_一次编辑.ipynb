{
 "cells": [
  {
   "cell_type": "code",
   "execution_count": 51,
   "metadata": {},
   "outputs": [
    {
     "name": "stdout",
     "output_type": "stream",
     "text": [
      "1eacher reacher\n",
      "False\n",
      "False\n"
     ]
    }
   ],
   "source": [
    "# 字符串有三种编辑操作:插入一个字符、删除一个字符或者替换一个字符。 \n",
    "# 给定两个字符串，编写一个函数判定它们是否只需要一次(或者零次)编辑。\n",
    "\n",
    "class Solution(object):\n",
    "    def oneEditAway(self, first, second):\n",
    "        \"\"\"\n",
    "        :type first: str\n",
    "        :type second: str\n",
    "        :rtype: bool\n",
    "        \"\"\"\n",
    "        if first == second:\n",
    "            return True\n",
    "        f_set = set(first)\n",
    "        s_set = set(second)\n",
    "        s_copy = set(second)\n",
    "        f_list = list(first)\n",
    "        s_list = list(second)\n",
    "        if len(first) - len(second) == -1: # 插入操作\n",
    "            for i in f_set:\n",
    "                if i in s_set:\n",
    "                    s_set.remove(i)\n",
    "            for i in s_set:\n",
    "                s_list.remove(i)\n",
    "            if f_list==s_list:\n",
    "                return True\n",
    "        if len(first) - len(second) == 1: # 删除操作\n",
    "            for i in s_set:\n",
    "                if i in f_set:\n",
    "                    f_set.remove(i)\n",
    "            for i in f_set:\n",
    "                f_list.remove(i)\n",
    "            if f_list==s_list:\n",
    "                return True\n",
    "            \n",
    "        if len(first) == len(second): # 替换操作\n",
    "            for i in f_set:\n",
    "                if i in s_set:\n",
    "                    s_set.remove(i)\n",
    "            for i in s_copy:\n",
    "                if i in f_set:\n",
    "                    f_set.remove(i)\n",
    "            \n",
    "            for i in s_set:\n",
    "                print(12)\n",
    "                second = second.replace(i,\"1\")\n",
    "            for i in f_set:\n",
    "                first = first.replace(i,\"1\")\n",
    "                \n",
    "            print(first,second)\n",
    "            if first==second:\n",
    "                return True\n",
    "        return False\n",
    "        \n",
    "        \n",
    "\n",
    "        \n",
    "A = Solution()\n",
    "print(A.oneEditAway(\"teacher\",\"reacher\"))\n",
    "print(A.oneEditAway(\"pales\",\"pal\"))\n"
   ]
  },
  {
   "cell_type": "code",
   "execution_count": 55,
   "metadata": {},
   "outputs": [
    {
     "ename": "IndexError",
     "evalue": "string index out of range",
     "output_type": "error",
     "traceback": [
      "\u001b[1;31m---------------------------------------------------------------------------\u001b[0m",
      "\u001b[1;31mIndexError\u001b[0m                                Traceback (most recent call last)",
      "\u001b[1;32m<ipython-input-55-7e4dad4749e4>\u001b[0m in \u001b[0;36m<module>\u001b[1;34m\u001b[0m\n\u001b[0;32m      5\u001b[0m \u001b[0mx\u001b[0m \u001b[1;33m=\u001b[0m \u001b[0mlist\u001b[0m\u001b[1;33m(\u001b[0m\u001b[0mA\u001b[0m\u001b[1;33m)\u001b[0m\u001b[1;33m\u001b[0m\u001b[1;33m\u001b[0m\u001b[0m\n\u001b[0;32m      6\u001b[0m \u001b[0mB\u001b[0m\u001b[1;33m.\u001b[0m\u001b[0mreplace\u001b[0m\u001b[1;33m(\u001b[0m\u001b[1;34m\"p\"\u001b[0m\u001b[1;33m,\u001b[0m\u001b[1;34m\"1\"\u001b[0m\u001b[1;33m)\u001b[0m\u001b[1;33m\u001b[0m\u001b[1;33m\u001b[0m\u001b[0m\n\u001b[1;32m----> 7\u001b[1;33m \u001b[0mprint\u001b[0m\u001b[1;33m(\u001b[0m\u001b[0mA\u001b[0m\u001b[1;33m[\u001b[0m\u001b[1;36m0\u001b[0m\u001b[1;33m]\u001b[0m\u001b[1;33m,\u001b[0m\u001b[0mA\u001b[0m\u001b[1;33m[\u001b[0m\u001b[1;36m1\u001b[0m\u001b[1;33m]\u001b[0m\u001b[1;33m,\u001b[0m\u001b[0mA\u001b[0m\u001b[1;33m[\u001b[0m\u001b[1;36m5\u001b[0m\u001b[1;33m]\u001b[0m\u001b[1;33m)\u001b[0m\u001b[1;33m\u001b[0m\u001b[1;33m\u001b[0m\u001b[0m\n\u001b[0m",
      "\u001b[1;31mIndexError\u001b[0m: string index out of range"
     ]
    }
   ],
   "source": [
    "A = \"ppale\"\n",
    "B = \"p\"\n",
    "a = set(A)\n",
    "b = set(B)\n",
    "x = list(A)\n",
    "B.replace(\"p\",\"1\")\n",
    "print(A[0],A[1],A[4])"
   ]
  },
  {
   "cell_type": "code",
   "execution_count": 45,
   "metadata": {},
   "outputs": [
    {
     "name": "stdout",
     "output_type": "stream",
     "text": [
      "thIS IS a test\n",
      "this is a test\n"
     ]
    }
   ],
   "source": [
    "temp_str = 'this is a test'\n",
    "print(temp_str.replace('is','IS'))\n",
    "print(temp_str)"
   ]
  },
  {
   "cell_type": "code",
   "execution_count": 47,
   "metadata": {},
   "outputs": [
    {
     "name": "stdout",
     "output_type": "stream",
     "text": [
      "thwas was string example....wow!!! thwas was really string\n",
      "thwas was string example....wow!!! thwas is really string\n"
     ]
    }
   ],
   "source": [
    "str = \"this is string example....wow!!! this is really string\"\n",
    "print(str.replace(\"is\", \"was\"))\n",
    "print(str.replace(\"is\", \"was\", 3))"
   ]
  },
  {
   "cell_type": "code",
   "execution_count": 53,
   "metadata": {},
   "outputs": [
    {
     "ename": "IndexError",
     "evalue": "string index out of range",
     "output_type": "error",
     "traceback": [
      "\u001b[1;31m---------------------------------------------------------------------------\u001b[0m",
      "\u001b[1;31mIndexError\u001b[0m                                Traceback (most recent call last)",
      "\u001b[1;32m<ipython-input-53-8a1ea9b40797>\u001b[0m in \u001b[0;36m<module>\u001b[1;34m\u001b[0m\n\u001b[0;32m     33\u001b[0m \u001b[1;33m\u001b[0m\u001b[0m\n\u001b[0;32m     34\u001b[0m \u001b[0mA\u001b[0m \u001b[1;33m=\u001b[0m \u001b[0mSolution\u001b[0m\u001b[1;33m(\u001b[0m\u001b[1;33m)\u001b[0m\u001b[1;33m\u001b[0m\u001b[1;33m\u001b[0m\u001b[0m\n\u001b[1;32m---> 35\u001b[1;33m \u001b[0mprint\u001b[0m\u001b[1;33m(\u001b[0m\u001b[0mA\u001b[0m\u001b[1;33m.\u001b[0m\u001b[0moneEditAway\u001b[0m\u001b[1;33m(\u001b[0m\u001b[1;34m\"teacher\"\u001b[0m\u001b[1;33m,\u001b[0m\u001b[1;34m\"reacher\"\u001b[0m\u001b[1;33m)\u001b[0m\u001b[1;33m)\u001b[0m\u001b[1;33m\u001b[0m\u001b[1;33m\u001b[0m\u001b[0m\n\u001b[0m\u001b[0;32m     36\u001b[0m \u001b[0mprint\u001b[0m\u001b[1;33m(\u001b[0m\u001b[0mA\u001b[0m\u001b[1;33m.\u001b[0m\u001b[0moneEditAway\u001b[0m\u001b[1;33m(\u001b[0m\u001b[1;34m\"pales\"\u001b[0m\u001b[1;33m,\u001b[0m\u001b[1;34m\"pal\"\u001b[0m\u001b[1;33m)\u001b[0m\u001b[1;33m)\u001b[0m\u001b[1;33m\u001b[0m\u001b[1;33m\u001b[0m\u001b[0m\n",
      "\u001b[1;32m<ipython-input-53-8a1ea9b40797>\u001b[0m in \u001b[0;36moneEditAway\u001b[1;34m(self, first, second)\u001b[0m\n\u001b[0;32m     15\u001b[0m             \u001b[1;32mif\u001b[0m \u001b[0mindex_f\u001b[0m \u001b[1;33m>\u001b[0m \u001b[0mlen\u001b[0m\u001b[1;33m(\u001b[0m\u001b[0mfirst\u001b[0m\u001b[1;33m)\u001b[0m \u001b[1;32mand\u001b[0m \u001b[0mindex_s\u001b[0m \u001b[1;33m>\u001b[0m \u001b[0mlen\u001b[0m\u001b[1;33m(\u001b[0m\u001b[0msecond\u001b[0m\u001b[1;33m)\u001b[0m\u001b[1;33m:\u001b[0m\u001b[1;33m\u001b[0m\u001b[1;33m\u001b[0m\u001b[0m\n\u001b[0;32m     16\u001b[0m                 \u001b[1;32mreturn\u001b[0m \u001b[1;32mTrue\u001b[0m\u001b[1;33m\u001b[0m\u001b[1;33m\u001b[0m\u001b[0m\n\u001b[1;32m---> 17\u001b[1;33m             \u001b[1;32mif\u001b[0m \u001b[0mfirst\u001b[0m\u001b[1;33m[\u001b[0m\u001b[0mindex_f\u001b[0m\u001b[1;33m]\u001b[0m \u001b[1;33m==\u001b[0m \u001b[0msecond\u001b[0m\u001b[1;33m[\u001b[0m\u001b[0mindex_s\u001b[0m\u001b[1;33m]\u001b[0m\u001b[1;33m:\u001b[0m\u001b[1;33m\u001b[0m\u001b[1;33m\u001b[0m\u001b[0m\n\u001b[0m\u001b[0;32m     18\u001b[0m                 \u001b[0mindex_f\u001b[0m \u001b[1;33m+=\u001b[0m \u001b[1;36m1\u001b[0m\u001b[1;33m\u001b[0m\u001b[1;33m\u001b[0m\u001b[0m\n\u001b[0;32m     19\u001b[0m                 \u001b[0mindex_s\u001b[0m \u001b[1;33m+=\u001b[0m \u001b[1;36m1\u001b[0m\u001b[1;33m\u001b[0m\u001b[1;33m\u001b[0m\u001b[0m\n",
      "\u001b[1;31mIndexError\u001b[0m: string index out of range"
     ]
    }
   ],
   "source": [
    "# 字符串有三种编辑操作:插入一个字符、删除一个字符或者替换一个字符。 \n",
    "# 给定两个字符串，编写一个函数判定它们是否只需要一次(或者零次)编辑。\n",
    "\n",
    "class Solution(object):\n",
    "    def oneEditAway(self, first, second):\n",
    "        \"\"\"\n",
    "        :type first: str\n",
    "        :type second: str\n",
    "        :rtype: bool\n",
    "        \"\"\"\n",
    "        index_f,index_s,count = 0,0,0\n",
    "        if len(first)\n",
    "        while True:\n",
    "            if count > 1:\n",
    "                return False\n",
    "            if index_f == len(first) and index_s == len(second):\n",
    "                return True\n",
    "            if first[index_f] == second[index_s]:\n",
    "                index_f += 1\n",
    "                index_s += 1\n",
    "            else:\n",
    "                if len(first) > len(second):\n",
    "                    index_f += 1\n",
    "                elif len(first) < len(second):\n",
    "                    index_s += 1\n",
    "                else:\n",
    "                    index_f += 1\n",
    "                    index_s += 1\n",
    "                count += 1\n",
    "        return False\n",
    "        \n",
    "        \n",
    "\n",
    "        \n",
    "A = Solution()\n",
    "print(A.oneEditAway(\"teacher\",\"reacher\"))\n",
    "print(A.oneEditAway(\"pales\",\"pal\"))\n"
   ]
  },
  {
   "cell_type": "code",
   "execution_count": null,
   "metadata": {},
   "outputs": [],
   "source": []
  }
 ],
 "metadata": {
  "kernelspec": {
   "display_name": "Python 3",
   "language": "python",
   "name": "python3"
  },
  "language_info": {
   "codemirror_mode": {
    "name": "ipython",
    "version": 3
   },
   "file_extension": ".py",
   "mimetype": "text/x-python",
   "name": "python",
   "nbconvert_exporter": "python",
   "pygments_lexer": "ipython3",
   "version": "3.7.4"
  }
 },
 "nbformat": 4,
 "nbformat_minor": 2
}
