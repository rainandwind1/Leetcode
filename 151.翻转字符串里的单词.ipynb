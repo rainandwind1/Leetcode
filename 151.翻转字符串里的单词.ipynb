{
 "cells": [
  {
   "cell_type": "code",
   "execution_count": 50,
   "metadata": {},
   "outputs": [
    {
     "name": "stdout",
     "output_type": "stream",
     "text": [
      "world! s\n",
      "blue is sky the\n",
      "world! hello\n",
      "example good a\n"
     ]
    }
   ],
   "source": [
    "class Solution(object):\n",
    "    def reverseWords(self, s):\n",
    "        \"\"\"\n",
    "        :type s: str\n",
    "        :rtype: str\n",
    "        \"\"\"\n",
    "        begin_flag = 0\n",
    "        res = []\n",
    "        index = 0\n",
    "        res_str = \"\"\n",
    "        word = \"\"\n",
    "        while index < len(s):\n",
    "            if s[index:] == \" \"*(len(s) - index):  # 尾部空格直接停止\n",
    "                res.append(word)\n",
    "                break    \n",
    "            while s[index] == \" \" and begin_flag == 0:   # 首部空格跳过\n",
    "                index += 1\n",
    "            if s[index] == \" \": # 遇到空格\n",
    "                res.append(word)\n",
    "                while s[index] == \" \":\n",
    "                    index += 1\n",
    "                word = \" \"\n",
    "                res.append(word)\n",
    "                count = 0\n",
    "                word = \"\"\n",
    "            else:\n",
    "                begin_flag = 1\n",
    "                word += s[index]\n",
    "                index += 1\n",
    "                if index == len(s):\n",
    "                    res.append(word)\n",
    "        for i in res[::-1]:\n",
    "            res_str += i\n",
    "        return res_str\n",
    "            \n",
    "            \n",
    "                \n",
    "        \n",
    "        \n",
    "        \n",
    "        \n",
    "A = Solution()\n",
    "print(A.reverseWords(\"s world!\"))\n",
    "print(A.reverseWords(\"the sky is blue\"))\n",
    "print(A.reverseWords(\"  hello world!  \"))\n",
    "print(A.reverseWords(\"a good   example\"))"
   ]
  },
  {
   "cell_type": "code",
   "execution_count": 38,
   "metadata": {},
   "outputs": [
    {
     "name": "stdout",
     "output_type": "stream",
     "text": [
      "4\n"
     ]
    }
   ],
   "source": [
    "a = [1,0,1,1,1]\n",
    "res = 0\n",
    "index = 0\n",
    "while index < len(a):\n",
    "    if a[index] == 0:\n",
    "        index += 1\n",
    "        continue\n",
    "    res += 1\n",
    "    index += 1\n",
    "print(res)\n",
    "        "
   ]
  },
  {
   "cell_type": "code",
   "execution_count": 18,
   "metadata": {},
   "outputs": [
    {
     "name": "stdout",
     "output_type": "stream",
     "text": [
      "     1\n"
     ]
    }
   ],
   "source": [
    "a = \"1\" + \" \"*5 + \"1\"\n",
    "print(a[1:])"
   ]
  },
  {
   "cell_type": "code",
   "execution_count": null,
   "metadata": {},
   "outputs": [],
   "source": []
  }
 ],
 "metadata": {
  "kernelspec": {
   "display_name": "Python 3",
   "language": "python",
   "name": "python3"
  },
  "language_info": {
   "codemirror_mode": {
    "name": "ipython",
    "version": 3
   },
   "file_extension": ".py",
   "mimetype": "text/x-python",
   "name": "python",
   "nbconvert_exporter": "python",
   "pygments_lexer": "ipython3",
   "version": "3.7.4"
  }
 },
 "nbformat": 4,
 "nbformat_minor": 2
}
