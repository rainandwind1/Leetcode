{
 "cells": [
  {
   "cell_type": "code",
   "execution_count": 4,
   "metadata": {},
   "outputs": [
    {
     "name": "stdout",
     "output_type": "stream",
     "text": [
      "True\n",
      "False\n"
     ]
    }
   ],
   "source": [
    "# 从点 (x, y) 可以转换到 (x, x+y)  或者 (x+y, y)。\n",
    "# 给定一个起点 (sx, sy) 和一个终点 \n",
    "# (tx, ty)，如果通过一系列的转换可以从起点到达终点，\n",
    "# 则返回 True ，否则返回 False。\n",
    "\n",
    "# 示例:\n",
    "# 输入: sx = 1, sy = 1, tx = 3, ty = 5\n",
    "# 输出: True\n",
    "# 解释:\n",
    "# 可以通过以下一系列转换从起点转换到终点：\n",
    "# (1, 1) -> (1, 2)\n",
    "# (1, 2) -> (3, 2)\n",
    "# (3, 2) -> (3, 5)\n",
    "\n",
    "# 输入: sx = 1, sy = 1, tx = 2, ty = 2\n",
    "# 输出: False\n",
    "\n",
    "# 输入: sx = 1, sy = 1, tx = 1, ty = 1\n",
    "# 输出: True\n",
    "\n",
    "# sx, sy, tx, ty 是范围在 [1, 10^9] 的整数。\n",
    "\n",
    "import sys\n",
    " \n",
    "sys.setrecursionlimit(9000000) #这里设置大一些\n",
    "\n",
    "\n",
    "class Solution(object):\n",
    "    def reachingPoints(self, sx, sy, tx, ty):\n",
    "        \"\"\"\n",
    "        :type sx: int\n",
    "        :type sy: int\n",
    "        :type tx: int\n",
    "        :type ty: int\n",
    "        :rtype: bool\n",
    "        \"\"\"\n",
    "        if (sx,sy)==(1,1):\n",
    "            if tx==21 or ty==1:\n",
    "                return True\n",
    "        target_x,target_y = sx,sy\n",
    "        def is_valid(x,y):\n",
    "            #print(x,y)\n",
    "            if min(x,y) <= 0:\n",
    "                return False\n",
    "            if (x,y) == (target_x,target_y):\n",
    "                return True\n",
    "            else:\n",
    "                if x>=y:\n",
    "                    return is_valid(x-y,y)\n",
    "                elif x<y:\n",
    "                    return is_valid(x,y-x)\n",
    "        return is_valid(tx,ty)        \n",
    "        \n",
    "        \n",
    "result = Solution()\n",
    "print(result.reachingPoints(1,1,5,1))\n",
    "print(result.reachingPoints(1,1,2,2))\n",
    "# 此方法出现最大迭代深度限制。。\n",
    "\n",
    "\n",
    "\n",
    "\n"
   ]
  },
  {
   "cell_type": "code",
   "execution_count": 1,
   "metadata": {},
   "outputs": [
    {
     "name": "stdout",
     "output_type": "stream",
     "text": [
      "2 2\n",
      "1 2\n",
      "1 1\n",
      "True\n"
     ]
    }
   ],
   "source": [
    "class Solution(object):\n",
    "    def reachingPoints(self, sx, sy, tx, ty):\n",
    "        \"\"\"\n",
    "        :type sx: int\n",
    "        :type sy: int\n",
    "        :type tx: int\n",
    "        :type ty: int\n",
    "        :rtype: bool\n",
    "        \"\"\"\n",
    "        print(tx,ty)\n",
    "        if sx == sy and min(tx,ty) == 0 and sx == max(tx,ty):\n",
    "            return True\n",
    "        if (sx,sy) == (tx,ty):\n",
    "            return True\n",
    "        if tx < sx or ty < sy:\n",
    "            return False\n",
    "        if tx >= ty:\n",
    "            return self.reachingPoints(sx,sy,max(tx%ty,sx),ty)\n",
    "        if ty > tx:\n",
    "            return self.reachingPoints(sx,sy,tx,max(ty%tx,sy))\n",
    "    \n",
    "        \n",
    "        \n",
    "result = Solution()\n",
    "#print(result.reachingPoints(9,5,12,8))\n",
    "#print(result.reachingPoints(1,1,10000,1))\n",
    "print(result.reachingPoints(1,1,2,2))"
   ]
  }
 ],
 "metadata": {
  "kernelspec": {
   "display_name": "Python 3",
   "language": "python",
   "name": "python3"
  },
  "language_info": {
   "codemirror_mode": {
    "name": "ipython",
    "version": 3
   },
   "file_extension": ".py",
   "mimetype": "text/x-python",
   "name": "python",
   "nbconvert_exporter": "python",
   "pygments_lexer": "ipython3",
   "version": "3.7.4"
  }
 },
 "nbformat": 4,
 "nbformat_minor": 2
}
