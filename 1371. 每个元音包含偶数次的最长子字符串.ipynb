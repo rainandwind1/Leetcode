{
 "cells": [
  {
   "cell_type": "code",
   "execution_count": 16,
   "metadata": {},
   "outputs": [
    {
     "name": "stdout",
     "output_type": "stream",
     "text": [
      "[0, 2, 3, 6, 8, 10, 12, 14, 15]\n",
      "before {'a': 0, 'e': 4, 'i': 2, 'o': 3, 'u': 0} {'a': 0, 'e': 4, 'i': 2, 'o': 3, 'u': 0}\n",
      "after {'a': 0, 'e': 4, 'i': 2, 'o': 3, 'u': 0} {'a': 0, 'e': 4, 'i': 2, 'o': 3, 'u': 0}\n",
      "before {'a': 0, 'e': 4, 'i': 2, 'o': 3, 'u': 0} {'a': 0, 'e': 4, 'i': 2, 'o': 3, 'u': 0}\n",
      "after {'a': 0, 'e': 3, 'i': 2, 'o': 3, 'u': 0} {'a': 0, 'e': 3, 'i': 2, 'o': 3, 'u': 0}\n",
      "before {'a': 0, 'e': 4, 'i': 2, 'o': 3, 'u': 0} {'a': 0, 'e': 4, 'i': 2, 'o': 3, 'u': 0}\n",
      "after {'a': 0, 'e': 2, 'i': 2, 'o': 3, 'u': 0} {'a': 0, 'e': 2, 'i': 2, 'o': 3, 'u': 0}\n",
      "before {'a': 0, 'e': 4, 'i': 2, 'o': 3, 'u': 0} {'a': 0, 'e': 4, 'i': 2, 'o': 3, 'u': 0}\n",
      "after {'a': 0, 'e': 2, 'i': 2, 'o': 2, 'u': 0} {'a': 0, 'e': 1, 'i': 2, 'o': 3, 'u': 0}\n",
      "5\n"
     ]
    }
   ],
   "source": [
    "import copy\n",
    "class Solution(object):\n",
    "    def findTheLongestSubstring(self, s):\n",
    "        \"\"\"\n",
    "        :type s: str\n",
    "        :rtype: int\n",
    "        \"\"\"\n",
    "        res = []\n",
    "        t = {'a':0, 'e':0, 'i':0, 'o':0, 'u':0}\n",
    "        for idx, i in enumerate(s):\n",
    "            if i in t:\n",
    "                t[i] += 1\n",
    "                res.append(idx)\n",
    "\n",
    "        def search_num(target):\n",
    "            count = 0\n",
    "            for n in target:\n",
    "                if target[n] % 2 == 0:\n",
    "                    count += 1\n",
    "            if count == 5:\n",
    "                return True\n",
    "            else:\n",
    "                return False\n",
    "        l = 0\n",
    "        print(res)\n",
    "        while l < len(res):\n",
    "            l1, l2 = 0, 0\n",
    "            c = t.copy()\n",
    "            d = t.copy()\n",
    "            print(\"before\",c, d)\n",
    "            for i in range(l):\n",
    "                d[s[res[i]]] -= 1\n",
    "                c[s[res[-i]]] -= 1\n",
    "            print(\"after\",c, d)\n",
    "            r1 = search_num(d)\n",
    "            r2 = search_num(c)\n",
    "            if r1:\n",
    "                l1 = len(s) - res[l - 1]\n",
    "            if r2:\n",
    "                l2 = len(s) - res[-l]\n",
    "            if r1 or r2:\n",
    "                return max(l1, l2)\n",
    "            l += 1\n",
    "\n",
    "A = Solution()\n",
    "print(A.findTheLongestSubstring(\"eleetminicoworoep\"))"
   ]
  },
  {
   "cell_type": "code",
   "execution_count": 1,
   "metadata": {},
   "outputs": [
    {
     "name": "stdout",
     "output_type": "stream",
     "text": [
      "{'a': 0, 'e': 4, 'i': 2, 'o': 3, 'u': 0}\n"
     ]
    }
   ],
   "source": [
    "t = {'a':0, 'e':0, 'i':0, 'o':0, 'u':0}\n",
    "s = \"eleetminicoworoep\"\n",
    "for i in s:\n",
    "    if i in t:\n",
    "        t[i] += 1\n",
    "print(t)\n"
   ]
  },
  {
   "cell_type": "code",
   "execution_count": null,
   "metadata": {},
   "outputs": [],
   "source": []
  }
 ],
 "metadata": {
  "kernelspec": {
   "display_name": "Python 3",
   "language": "python",
   "name": "python3"
  },
  "language_info": {
   "codemirror_mode": {
    "name": "ipython",
    "version": 3
   },
   "file_extension": ".py",
   "mimetype": "text/x-python",
   "name": "python",
   "nbconvert_exporter": "python",
   "pygments_lexer": "ipython3",
   "version": "3.7.4"
  }
 },
 "nbformat": 4,
 "nbformat_minor": 2
}
