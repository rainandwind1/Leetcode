{
 "cells": [
  {
   "cell_type": "code",
   "execution_count": null,
   "metadata": {},
   "outputs": [],
   "source": [
    "class Solution(object):\n",
    "    def countCharacters(self, words, chars):\n",
    "        \"\"\"\n",
    "        :type words: List[str]\n",
    "        :type chars: str\n",
    "        :rtype: int\n",
    "        \"\"\"\n",
    "        res = 0\n",
    "        target_set = {}\n",
    "        for i in chars:\n",
    "            target_set[i] = target_set.get(i,0) + 1\n",
    "        for i in words:\n",
    "            p = {}\n",
    "            res += len(i)\n",
    "            for c in i:\n",
    "                p[c] = p.get(c,0) + 1\n",
    "                if p[c] > target_set.get(c,0):\n",
    "                    res -= len(i)\n",
    "                    break\n",
    "            \n",
    "        return res\n",
    "            "
   ]
  }
 ],
 "metadata": {
  "kernelspec": {
   "display_name": "Python 3",
   "language": "python",
   "name": "python3"
  },
  "language_info": {
   "codemirror_mode": {
    "name": "ipython",
    "version": 3
   },
   "file_extension": ".py",
   "mimetype": "text/x-python",
   "name": "python",
   "nbconvert_exporter": "python",
   "pygments_lexer": "ipython3",
   "version": "3.7.4"
  }
 },
 "nbformat": 4,
 "nbformat_minor": 2
}
