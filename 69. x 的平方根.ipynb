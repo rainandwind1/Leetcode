{
 "cells": [
  {
   "cell_type": "code",
   "execution_count": 9,
   "metadata": {},
   "outputs": [
    {
     "name": "stdout",
     "output_type": "stream",
     "text": [
      "0 99\n",
      "0 48\n",
      "0 23\n",
      "0 10\n",
      "6 10\n",
      "9 10\n",
      "9\n"
     ]
    }
   ],
   "source": [
    "class Solution(object):\n",
    "    def mySqrt(self, x):\n",
    "        \"\"\"\n",
    "        :type x: int\n",
    "        :rtype: int\n",
    "        \"\"\"\n",
    "        l = 0\n",
    "        r = x\n",
    "        while l < r:\n",
    "            print(l,r)\n",
    "            mid = (l + r) // 2\n",
    "            if mid**2 > x:\n",
    "                r = mid - 1\n",
    "            elif mid**2 < x:\n",
    "                l = mid + 1\n",
    "            else:\n",
    "                return mid\n",
    "        if l**2 > x:\n",
    "            return l - 1\n",
    "        else:\n",
    "            return l\n",
    "                \n",
    "        \n",
    "A = Solution()\n",
    "print(A.mySqrt(99))"
   ]
  },
  {
   "cell_type": "code",
   "execution_count": null,
   "metadata": {},
   "outputs": [],
   "source": []
  },
  {
   "cell_type": "code",
   "execution_count": null,
   "metadata": {},
   "outputs": [],
   "source": []
  }
 ],
 "metadata": {
  "kernelspec": {
   "display_name": "Python 3",
   "language": "python",
   "name": "python3"
  },
  "language_info": {
   "codemirror_mode": {
    "name": "ipython",
    "version": 3
   },
   "file_extension": ".py",
   "mimetype": "text/x-python",
   "name": "python",
   "nbconvert_exporter": "python",
   "pygments_lexer": "ipython3",
   "version": "3.7.4"
  }
 },
 "nbformat": 4,
 "nbformat_minor": 2
}
