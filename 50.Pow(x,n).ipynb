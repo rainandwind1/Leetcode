{
 "cells": [
  {
   "cell_type": "code",
   "execution_count": 5,
   "metadata": {},
   "outputs": [
    {
     "name": "stdout",
     "output_type": "stream",
     "text": [
      "0.029407310363283208 1\n",
      "2.543114507074558e-05\n"
     ]
    }
   ],
   "source": [
    "class Solution(object):\n",
    "    def myPow(self, x, n):\n",
    "        \"\"\"\n",
    "        :type x: float\n",
    "        :type n: int\n",
    "        :rtype: float\n",
    "        \"\"\"\n",
    "        if x == 0:\n",
    "            return 0\n",
    "        if n < 0:\n",
    "            x = 1. / x\n",
    "        mem = x\n",
    "        n = abs(n)\n",
    "        count = 1\n",
    "        while count < n:\n",
    "            x = x * x\n",
    "            count = count * 2\n",
    "        p = count - n\n",
    "        print(mem, p)\n",
    "        for i in range(p):\n",
    "            x = x / mem\n",
    "        return x\n",
    "    \n",
    "A = Solution()\n",
    "print(A.myPow(34.00515,-3))"
   ]
  },
  {
   "cell_type": "code",
   "execution_count": null,
   "metadata": {},
   "outputs": [],
   "source": []
  },
  {
   "cell_type": "code",
   "execution_count": null,
   "metadata": {},
   "outputs": [],
   "source": []
  }
 ],
 "metadata": {
  "kernelspec": {
   "display_name": "Python 3",
   "language": "python",
   "name": "python3"
  },
  "language_info": {
   "codemirror_mode": {
    "name": "ipython",
    "version": 3
   },
   "file_extension": ".py",
   "mimetype": "text/x-python",
   "name": "python",
   "nbconvert_exporter": "python",
   "pygments_lexer": "ipython3",
   "version": "3.7.4"
  }
 },
 "nbformat": 4,
 "nbformat_minor": 2
}
