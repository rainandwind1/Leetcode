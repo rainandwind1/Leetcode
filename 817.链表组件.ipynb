{
 "cells": [
  {
   "cell_type": "code",
   "execution_count": null,
   "metadata": {},
   "outputs": [],
   "source": [
    "class Solution(object):\n",
    "    def numComponents(self, head, G):\n",
    "        \"\"\"\n",
    "        :type head: ListNode\n",
    "        :type G: List[int]\n",
    "        :rtype: int\n",
    "        \"\"\"\n",
    "        res = []\n",
    "        while head:\n",
    "            res.append(head.val)\n",
    "            head = head.next\n",
    "            \n",
    "        index = 0\n",
    "        count = 0\n",
    "        mem_set = set([])\n",
    "        while index<len(res):\n",
    "            if res[index] in G:\n",
    "                while res[index] in G:\n",
    "                    index += 1\n",
    "                    if index >= len(res):\n",
    "                        break\n",
    "                count += 1\n",
    "            index += 1\n",
    "        return count"
   ]
  }
 ],
 "metadata": {
  "kernelspec": {
   "display_name": "Python 3",
   "language": "python",
   "name": "python3"
  },
  "language_info": {
   "codemirror_mode": {
    "name": "ipython",
    "version": 3
   },
   "file_extension": ".py",
   "mimetype": "text/x-python",
   "name": "python",
   "nbconvert_exporter": "python",
   "pygments_lexer": "ipython3",
   "version": "3.7.4"
  }
 },
 "nbformat": 4,
 "nbformat_minor": 2
}
