{
 "cells": [
  {
   "cell_type": "code",
   "execution_count": 1,
   "metadata": {},
   "outputs": [
    {
     "name": "stdout",
     "output_type": "stream",
     "text": [
      "['A', ' ', 'm', 'a', 'n', ',', ' ', 'a', ' ', 'p', 'l', 'a', 'n', ',', ' ', 'a', ' ', 'c', 'a', 'n', 'a', 'l', ':', ' ', 'P', 'a', 'n', 'a', 'm', 'a']\n"
     ]
    }
   ],
   "source": [
    "a = \"A man, a plan, a canal: Panama\"\n",
    "print(list(a))"
   ]
  },
  {
   "cell_type": "code",
   "execution_count": 4,
   "metadata": {},
   "outputs": [
    {
     "name": "stdout",
     "output_type": "stream",
     "text": [
      "False\n"
     ]
    }
   ],
   "source": [
    "class Solution(object):\n",
    "    def isPalindrome(self, s):\n",
    "        \"\"\"\n",
    "        :type s: str\n",
    "        :rtype: bool\n",
    "        \"\"\"\n",
    "        res = ''\n",
    "        s_t = list(s)\n",
    "        for c in s_t:\n",
    "            if 'A'<= c <='Z':\n",
    "                c = c.lower()\n",
    "                res += c\n",
    "            elif 'a'<= c <='z':\n",
    "                res += c\n",
    "            else:\n",
    "                continue\n",
    "        if res == res[::-1]:\n",
    "            return True\n",
    "        else:\n",
    "            return False\n",
    "A = Solution()\n",
    "print(A.isPalindrome(\"OP\"))"
   ]
  },
  {
   "cell_type": "code",
   "execution_count": null,
   "metadata": {},
   "outputs": [],
   "source": [
    "class Solution(object):\n",
    "    def isPalindrome(self, s):\n",
    "        \"\"\"\n",
    "        :type s: str\n",
    "        :rtype: bool\n",
    "        \"\"\"\n",
    "        res = ''\n",
    "        s_t = list(s)\n",
    "        for c in s_t:\n",
    "            if 'A'<= c <='Z':\n",
    "                c = c.lower()\n",
    "                res += c\n",
    "            elif 'a'<= c <='z' or '0' <= c <= '9':\n",
    "                res += c\n",
    "            else:\n",
    "                continue\n",
    "        print(res)\n",
    "        if res == res[::-1]:\n",
    "            return True\n",
    "        else:\n",
    "            return False"
   ]
  },
  {
   "cell_type": "code",
   "execution_count": null,
   "metadata": {},
   "outputs": [],
   "source": []
  }
 ],
 "metadata": {
  "kernelspec": {
   "display_name": "Python 3",
   "language": "python",
   "name": "python3"
  },
  "language_info": {
   "codemirror_mode": {
    "name": "ipython",
    "version": 3
   },
   "file_extension": ".py",
   "mimetype": "text/x-python",
   "name": "python",
   "nbconvert_exporter": "python",
   "pygments_lexer": "ipython3",
   "version": "3.7.4"
  }
 },
 "nbformat": 4,
 "nbformat_minor": 2
}
