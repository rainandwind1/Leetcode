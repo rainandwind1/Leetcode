{
 "cells": [
  {
   "cell_type": "code",
   "execution_count": 38,
   "metadata": {},
   "outputs": [
    {
     "name": "stdout",
     "output_type": "stream",
     "text": [
      "39\n"
     ]
    }
   ],
   "source": [
    "import numpy as np\n",
    "class Solution(object):\n",
    "    def matrixScore(self, A):\n",
    "        \"\"\"\n",
    "        :type A: List[List[int]]\n",
    "        :rtype: int\n",
    "        \"\"\"\n",
    "        def flip(num):\n",
    "            for i in range(len(num)):\n",
    "                num[i] = 1 - num[i]\n",
    "            return num\n",
    "        for i in range(len(A)):\n",
    "            if A[i][0] == 0:\n",
    "                A[i] = flip(A[i])\n",
    "        A = np.array(A)\n",
    "        for j in range(1,len(A[0])):\n",
    "            b = list(A[:,j])\n",
    "            n1 = b.count(1)\n",
    "            b = flip(b)\n",
    "            n2 = b.count(1)\n",
    "            if n1 < n2:\n",
    "                A[:,j] = np.array(b)\n",
    "        sum_res = 0\n",
    "        for i in range(A.shape[0]):\n",
    "            sum_res += sum(A[i,:]*[2**k for k in range(A.shape[1] - 1,-1,-1)])\n",
    "        return sum_res\n",
    "        \n",
    "        \n",
    "        \n",
    "A = Solution()\n",
    "print(A.matrixScore([[0,0,1,1],[1,0,1,0],[1,1,0,0]]))"
   ]
  },
  {
   "cell_type": "code",
   "execution_count": 35,
   "metadata": {},
   "outputs": [
    {
     "name": "stdout",
     "output_type": "stream",
     "text": [
      "3\n"
     ]
    }
   ],
   "source": [
    "import numpy as np\n",
    "A = [[0,0,1,1],[1,0,1,0],[1,1,0,0]]\n",
    "A = np.array(A)\n",
    "c = list(A)\n",
    "A[:,1] = np.array([1,1,1])\n",
    "b = list(A[:,1])\n",
    "print(sum(A[:,1]*[1,1,1]))"
   ]
  },
  {
   "cell_type": "code",
   "execution_count": null,
   "metadata": {},
   "outputs": [],
   "source": []
  },
  {
   "cell_type": "code",
   "execution_count": null,
   "metadata": {},
   "outputs": [],
   "source": []
  }
 ],
 "metadata": {
  "kernelspec": {
   "display_name": "Python 3",
   "language": "python",
   "name": "python3"
  },
  "language_info": {
   "codemirror_mode": {
    "name": "ipython",
    "version": 3
   },
   "file_extension": ".py",
   "mimetype": "text/x-python",
   "name": "python",
   "nbconvert_exporter": "python",
   "pygments_lexer": "ipython3",
   "version": "3.7.4"
  }
 },
 "nbformat": 4,
 "nbformat_minor": 2
}
