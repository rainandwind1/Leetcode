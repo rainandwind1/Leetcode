{
 "cells": [
  {
   "cell_type": "code",
   "execution_count": 7,
   "metadata": {},
   "outputs": [
    {
     "name": "stdout",
     "output_type": "stream",
     "text": [
      "110\n"
     ]
    }
   ],
   "source": [
    "class Solution(object):\n",
    "    def twoCitySchedCost(self, costs):\n",
    "        \"\"\"\n",
    "        :type costs: List[List[int]]\n",
    "        :rtype: int\n",
    "        \"\"\"\n",
    "        delta_len = []\n",
    "        costs_sum = 0\n",
    "        for i in range(len(costs)):\n",
    "            delta_len.append((i,costs[i][1] - costs[i][0]))\n",
    "        delta_len = sorted(delta_len,key= lambda k:k[1],reverse=True)\n",
    "        for i in range(len(costs)):\n",
    "            if i < len(costs)/2:\n",
    "                costs_sum += costs[delta_len[i][0]][0]\n",
    "            else:\n",
    "                costs_sum += costs[delta_len[i][0]][1]                        \n",
    "        return costs_sum\n",
    "            \n",
    "         \n",
    "        \n",
    "        \n",
    "        \n",
    "        \n",
    "\n",
    "A = Solution()\n",
    "print(A.twoCitySchedCost([[10,20],[30,200],[400,50],[30,20]]))\n",
    "# print(A.twoCitySchedCost())"
   ]
  },
  {
   "cell_type": "code",
   "execution_count": null,
   "metadata": {},
   "outputs": [],
   "source": []
  },
  {
   "cell_type": "code",
   "execution_count": null,
   "metadata": {},
   "outputs": [],
   "source": []
  }
 ],
 "metadata": {
  "kernelspec": {
   "display_name": "Python 3",
   "language": "python",
   "name": "python3"
  },
  "language_info": {
   "codemirror_mode": {
    "name": "ipython",
    "version": 3
   },
   "file_extension": ".py",
   "mimetype": "text/x-python",
   "name": "python",
   "nbconvert_exporter": "python",
   "pygments_lexer": "ipython3",
   "version": "3.7.4"
  }
 },
 "nbformat": 4,
 "nbformat_minor": 2
}
