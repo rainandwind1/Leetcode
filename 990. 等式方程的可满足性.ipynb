{
 "cells": [
  {
   "cell_type": "code",
   "execution_count": 4,
   "metadata": {},
   "outputs": [
    {
     "name": "stdout",
     "output_type": "stream",
     "text": [
      "{'a': ['b', 'c'], 'b': ['a'], 'c': ['a']} {'b': ['c'], 'c': ['b']}\n",
      "True\n"
     ]
    }
   ],
   "source": [
    "class Solution(object):\n",
    "    def equationsPossible(self, equations):\n",
    "        \"\"\"\n",
    "        :type equations: List[str]\n",
    "        :rtype: bool\n",
    "        \"\"\"\n",
    "        res1 = {}\n",
    "        res2 = {}\n",
    "        for i in equations:\n",
    "            n1 = i[0]\n",
    "            n2 = i[3]\n",
    "            if i[1:3] == '==':\n",
    "                res1[n1] = res1.get(n1, []) + [n2]\n",
    "                res1[n2] = res1.get(n2, []) + [n1]\n",
    "            else:\n",
    "                res2[n1] = res2.get(n1, []) + [n2]\n",
    "                res2[n2] = res2.get(n2, []) + [n1]\n",
    "        print(res1, res2)\n",
    "        if res2 == {}:\n",
    "            return True\n",
    "        for key, value in res1.items():\n",
    "            for i in value:\n",
    "                if i in res2.get(key, []):\n",
    "                    return False\n",
    "        return True\n",
    "                \n",
    "A = Solution()\n",
    "print(A.equationsPossible([\"a==b\",\"b!=c\",\"c==a\"]))"
   ]
  },
  {
   "cell_type": "code",
   "execution_count": null,
   "metadata": {},
   "outputs": [],
   "source": [
    "class ufs():\n",
    "    def __init__(self):\n",
    "        self.res = [i for i in range(26)]\n",
    "    \n",
    "    def find(self, x):\n",
    "        y = self.res[x]\n",
    "        if y != x:\n",
    "            return self.find(y)\n",
    "        return y\n",
    "    \n",
    "    def union(self, x, y):\n",
    "        y1 = self.find(x)\n",
    "        y2 = self.find(y)\n",
    "        self.res[y1] = y2\n",
    "        \n",
    "        \n",
    "class Solution(object):\n",
    "    def equationsPossible(self, equations):\n",
    "        \"\"\"\n",
    "        :type equations: List[str]\n",
    "        :rtype: bool\n",
    "        \"\"\"\n",
    "        d = ufs()\n",
    "        for i in equations:\n",
    "            if i[1:3] == \"==\":\n",
    "                d.union(ord(i[0])-97, ord(i[3])-97)\n",
    "\n",
    "        for i in equations:\n",
    "            if i[1:3] == \"!=\":\n",
    "                n1 = d.find(ord(i[0])-97)\n",
    "                n2 = d.find(ord(i[3])-97)\n",
    "                if n1 == n2:\n",
    "                    return False\n",
    "        return True"
   ]
  }
 ],
 "metadata": {
  "kernelspec": {
   "display_name": "Python 3",
   "language": "python",
   "name": "python3"
  },
  "language_info": {
   "codemirror_mode": {
    "name": "ipython",
    "version": 3
   },
   "file_extension": ".py",
   "mimetype": "text/x-python",
   "name": "python",
   "nbconvert_exporter": "python",
   "pygments_lexer": "ipython3",
   "version": "3.7.4"
  }
 },
 "nbformat": 4,
 "nbformat_minor": 2
}
