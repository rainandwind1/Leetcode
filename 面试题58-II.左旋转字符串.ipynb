{
 "cells": [
  {
   "cell_type": "code",
   "execution_count": 4,
   "metadata": {},
   "outputs": [
    {
     "name": "stdout",
     "output_type": "stream",
     "text": [
      "cdefgab\n",
      "umghlrlose\n"
     ]
    }
   ],
   "source": [
    "class Solution(object):\n",
    "    def reverseLeftWords(self, s, n):\n",
    "        \"\"\"\n",
    "        :type s: str\n",
    "        :type n: int\n",
    "        :rtype: str\n",
    "        \"\"\"\n",
    "        str = s[0:n]\n",
    "        end = s[n:]\n",
    "        return end+str\n",
    "        \n",
    "        \n",
    "A = Solution()\n",
    "print(A.reverseLeftWords(s = \"abcdefg\", n = 2))\n",
    "print(A.reverseLeftWords(s = \"lrloseumgh\", n = 6))"
   ]
  },
  {
   "cell_type": "code",
   "execution_count": null,
   "metadata": {},
   "outputs": [],
   "source": []
  },
  {
   "cell_type": "code",
   "execution_count": null,
   "metadata": {},
   "outputs": [],
   "source": []
  }
 ],
 "metadata": {
  "kernelspec": {
   "display_name": "Python 3",
   "language": "python",
   "name": "python3"
  },
  "language_info": {
   "codemirror_mode": {
    "name": "ipython",
    "version": 3
   },
   "file_extension": ".py",
   "mimetype": "text/x-python",
   "name": "python",
   "nbconvert_exporter": "python",
   "pygments_lexer": "ipython3",
   "version": "3.7.4"
  }
 },
 "nbformat": 4,
 "nbformat_minor": 2
}
