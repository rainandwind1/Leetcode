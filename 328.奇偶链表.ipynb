{
 "cells": [
  {
   "cell_type": "code",
   "execution_count": null,
   "metadata": {},
   "outputs": [],
   "source": [
    "class Solution(object):\n",
    "    def oddEvenList(self, head):\n",
    "        \"\"\"\n",
    "        :type head: ListNode\n",
    "        :rtype: ListNode\n",
    "        \"\"\"\n",
    "        odd_head = ListNode(None)\n",
    "        odd_pre = odd_head\n",
    "        even_head = ListNode(None)\n",
    "        even_pre = even_head\n",
    "        count = 1\n",
    "        while head:\n",
    "            if count % 2 == 1:\n",
    "                odd_pre.next = ListNode(head.val)\n",
    "                odd_pre = odd_pre.next\n",
    "                head = head.next\n",
    "            else:\n",
    "                even_pre.next = ListNode(head.val)\n",
    "                even_pre = even_pre.next\n",
    "                head = head.next\n",
    "            count += 1\n",
    "        odd_pre.next = even_head.next\n",
    "        return odd_head.next"
   ]
  },
  {
   "cell_type": "code",
   "execution_count": null,
   "metadata": {},
   "outputs": [],
   "source": []
  }
 ],
 "metadata": {
  "kernelspec": {
   "display_name": "Python 3",
   "language": "python",
   "name": "python3"
  },
  "language_info": {
   "codemirror_mode": {
    "name": "ipython",
    "version": 3
   },
   "file_extension": ".py",
   "mimetype": "text/x-python",
   "name": "python",
   "nbconvert_exporter": "python",
   "pygments_lexer": "ipython3",
   "version": "3.7.4"
  }
 },
 "nbformat": 4,
 "nbformat_minor": 2
}
