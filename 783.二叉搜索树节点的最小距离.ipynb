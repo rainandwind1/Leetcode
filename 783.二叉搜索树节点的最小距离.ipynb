{
 "cells": [
  {
   "cell_type": "code",
   "execution_count": null,
   "metadata": {},
   "outputs": [],
   "source": [
    "class Solution(object):\n",
    "    def __init__(self):\n",
    "        self.pre = TreeNode(float('inf'))\n",
    "        self.res = float('inf')\n",
    "    def minDiffInBST(self, root):\n",
    "        \"\"\"\n",
    "        :type root: TreeNode\n",
    "        :rtype: int\n",
    "        \"\"\"\n",
    "        def search_mid(root):\n",
    "            if not root:\n",
    "                return\n",
    "            search_mid(root.left)\n",
    "            self.res = min(self.res,abs(root.val-self.pre.val))  \n",
    "            self.pre = root\n",
    "            search_mid(root.right)\n",
    "        search_mid(root)\n",
    "        return self.res"
   ]
  }
 ],
 "metadata": {
  "kernelspec": {
   "display_name": "Python 3",
   "language": "python",
   "name": "python3"
  },
  "language_info": {
   "codemirror_mode": {
    "name": "ipython",
    "version": 3
   },
   "file_extension": ".py",
   "mimetype": "text/x-python",
   "name": "python",
   "nbconvert_exporter": "python",
   "pygments_lexer": "ipython3",
   "version": "3.7.4"
  }
 },
 "nbformat": 4,
 "nbformat_minor": 2
}
