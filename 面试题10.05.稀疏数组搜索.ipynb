{
 "cells": [
  {
   "cell_type": "code",
   "execution_count": 14,
   "metadata": {},
   "outputs": [
    {
     "name": "stdout",
     "output_type": "stream",
     "text": [
      "-1\n",
      "4\n"
     ]
    }
   ],
   "source": [
    "class Solution(object):\n",
    "    def findString(self, words, s):\n",
    "        \"\"\"\n",
    "        :type words: List[str]\n",
    "        :type s: str\n",
    "        :rtype: int\n",
    "        \"\"\"\n",
    "        index_s = 0\n",
    "        index_e = len(words) - 1\n",
    "        index_mid = int((len(words) - 1) / 2)\n",
    "        while True:\n",
    "#             print(index_s,index_mid,index_e)\n",
    "            if s == words[index_mid]:\n",
    "                return index_mid\n",
    "            if s == words[index_s]:\n",
    "                return index_s\n",
    "            if s == words[index_e]:\n",
    "                return index_e\n",
    "            if index_s == index_mid:\n",
    "                return -1\n",
    "            if words[index_s] == \"\":\n",
    "                index_s += 1\n",
    "            if words[index_e] == \"\":\n",
    "                index_e -= 1\n",
    "            if words[index_mid] == \"\":\n",
    "                index_mid -= 1\n",
    "#             print(index_s,index_mid,index_e)\n",
    "            if words[index_s] != \"\" and words[index_e] != \"\" and words[index_mid] != \"\":\n",
    "#                 print(\"mid ch\",index_s,index_mid,index_e)\n",
    "                sta, end, mid = words[index_s][0], words[index_e][0], words[index_mid][0]\n",
    "                if sta <= s[0] and s[0] < mid:\n",
    "                    index_mid, index_e = int((index_s + index_mid)/2), index_mid\n",
    "\n",
    "                if mid <= s[0] and s[0] <= end:\n",
    "                    index_mid, index_s = int((index_mid + index_e)/2), index_mid\n",
    "                \n",
    "                if s[0] < sta or s[0] > end:\n",
    "                    return -1\n",
    "        \n",
    "A = Solution()\n",
    "print(A.findString(words = [\"at\", \"\", \"\", \"\", \"ball\", \"\", \"\", \"car\", \"\", \"\",\"dad\", \"\", \"\"], s = \"ta\"))\n",
    "print(A.findString(words = [\"at\", \"\", \"\", \"\", \"ball\", \"\", \"\", \"car\", \"\", \"\",\"dad\", \"\", \"\"], s = \"ball\"))"
   ]
  },
  {
   "cell_type": "code",
   "execution_count": null,
   "metadata": {},
   "outputs": [],
   "source": []
  },
  {
   "cell_type": "code",
   "execution_count": null,
   "metadata": {},
   "outputs": [],
   "source": []
  }
 ],
 "metadata": {
  "kernelspec": {
   "display_name": "Python 3",
   "language": "python",
   "name": "python3"
  },
  "language_info": {
   "codemirror_mode": {
    "name": "ipython",
    "version": 3
   },
   "file_extension": ".py",
   "mimetype": "text/x-python",
   "name": "python",
   "nbconvert_exporter": "python",
   "pygments_lexer": "ipython3",
   "version": "3.7.4"
  }
 },
 "nbformat": 4,
 "nbformat_minor": 2
}
