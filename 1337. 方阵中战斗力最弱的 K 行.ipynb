{
 "cells": [
  {
   "cell_type": "code",
   "execution_count": 6,
   "metadata": {},
   "outputs": [
    {
     "name": "stdout",
     "output_type": "stream",
     "text": [
      "[1, 0]\n",
      "[1, 0]\n"
     ]
    }
   ],
   "source": [
    "class Solution(object):\n",
    "    def kWeakestRows(self, mat, k):\n",
    "        \"\"\"\n",
    "        :type mat: List[List[int]]\n",
    "        :type k: int\n",
    "        :rtype: List[int]\n",
    "        \"\"\"\n",
    "        res = []\n",
    "        for i in range(len(mat[0])):\n",
    "            for j in range(len(mat)):\n",
    "                if mat[j][i] == 0 and j not in res:\n",
    "                    res.append(j)\n",
    "                if len(res) == k:\n",
    "                    break\n",
    "            if \n",
    "        print(res)\n",
    "        if len(res) < k:\n",
    "            for i in range(k):\n",
    "                if i not in res:\n",
    "                    res.append(i)\n",
    "                    if len(res) == k:\n",
    "                        break\n",
    "        return res\n",
    "\n",
    "A = Solution()\n",
    "print(A.kWeakestRows([[1,1,1,1,0,0],[1,0,0,0,0,0],[1,1,1,1,1,1]], 1))"
   ]
  },
  {
   "cell_type": "code",
   "execution_count": null,
   "metadata": {},
   "outputs": [],
   "source": []
  }
 ],
 "metadata": {
  "kernelspec": {
   "display_name": "Python 3",
   "language": "python",
   "name": "python3"
  },
  "language_info": {
   "codemirror_mode": {
    "name": "ipython",
    "version": 3
   },
   "file_extension": ".py",
   "mimetype": "text/x-python",
   "name": "python",
   "nbconvert_exporter": "python",
   "pygments_lexer": "ipython3",
   "version": "3.7.4"
  }
 },
 "nbformat": 4,
 "nbformat_minor": 2
}
